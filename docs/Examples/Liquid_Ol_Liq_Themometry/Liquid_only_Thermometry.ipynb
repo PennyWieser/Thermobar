{
 "cells": [
  {
   "cell_type": "markdown",
   "metadata": {},
   "source": [
    "# Liquid-only thermometry\n",
    "- This script shows how to use the various options for liquid-only thermometry\n",
    "- This tutorial is also a great starting point when using  other thermobarometers, as the choice of inputs is the same as for other phases\n",
    "- You can download the Excel spreadsheet you need here: https://github.com/PennyWieser/Thermobar/blob/main/docs/Examples/Liquid_Ol_Liq_Themometry/Liquid_only_Thermometry.xlsx"
   ]
  },
  {
   "cell_type": "markdown",
   "metadata": {},
   "source": [
    "### You need to install Thermobar once on your machine, if you haven't done this yet, uncomment the line below (remove the #)"
   ]
  },
  {
   "cell_type": "code",
   "execution_count": 2,
   "metadata": {},
   "outputs": [
    {
     "name": "stdout",
     "output_type": "stream",
     "text": [
      "Requirement already satisfied: Thermobar in c:\\users\\penny\\anaconda3\\lib\\site-packages (1.0.60)\n",
      "Requirement already satisfied: pandas in c:\\users\\penny\\anaconda3\\lib\\site-packages (from Thermobar) (2.2.2)\n",
      "Requirement already satisfied: numpy<2 in c:\\users\\penny\\anaconda3\\lib\\site-packages (from Thermobar) (1.26.4)\n",
      "Requirement already satisfied: python-ternary in c:\\users\\penny\\anaconda3\\lib\\site-packages (from Thermobar) (1.0.8)\n",
      "Requirement already satisfied: matplotlib in c:\\users\\penny\\anaconda3\\lib\\site-packages (from Thermobar) (3.9.2)\n",
      "Requirement already satisfied: scikit-learn>=1.3 in c:\\users\\penny\\anaconda3\\lib\\site-packages (from Thermobar) (1.5.1)\n",
      "Requirement already satisfied: scipy in c:\\users\\penny\\anaconda3\\lib\\site-packages (from Thermobar) (1.13.1)\n",
      "Requirement already satisfied: tqdm in c:\\users\\penny\\anaconda3\\lib\\site-packages (from Thermobar) (4.66.5)\n",
      "Requirement already satisfied: statsmodels in c:\\users\\penny\\anaconda3\\lib\\site-packages (from Thermobar) (0.14.2)\n",
      "Requirement already satisfied: openpyxl in c:\\users\\penny\\anaconda3\\lib\\site-packages (from Thermobar) (3.1.5)\n",
      "Requirement already satisfied: pathlib in c:\\users\\penny\\anaconda3\\lib\\site-packages (from Thermobar) (1.0.1)\n",
      "Requirement already satisfied: joblib>=1.2.0 in c:\\users\\penny\\anaconda3\\lib\\site-packages (from scikit-learn>=1.3->Thermobar) (1.4.2)\n",
      "Requirement already satisfied: threadpoolctl>=3.1.0 in c:\\users\\penny\\anaconda3\\lib\\site-packages (from scikit-learn>=1.3->Thermobar) (3.5.0)\n",
      "Requirement already satisfied: contourpy>=1.0.1 in c:\\users\\penny\\anaconda3\\lib\\site-packages (from matplotlib->Thermobar) (1.2.0)\n",
      "Requirement already satisfied: cycler>=0.10 in c:\\users\\penny\\anaconda3\\lib\\site-packages (from matplotlib->Thermobar) (0.11.0)\n",
      "Requirement already satisfied: fonttools>=4.22.0 in c:\\users\\penny\\anaconda3\\lib\\site-packages (from matplotlib->Thermobar) (4.51.0)\n",
      "Requirement already satisfied: kiwisolver>=1.3.1 in c:\\users\\penny\\anaconda3\\lib\\site-packages (from matplotlib->Thermobar) (1.4.4)\n",
      "Requirement already satisfied: packaging>=20.0 in c:\\users\\penny\\anaconda3\\lib\\site-packages (from matplotlib->Thermobar) (24.1)\n",
      "Requirement already satisfied: pillow>=8 in c:\\users\\penny\\anaconda3\\lib\\site-packages (from matplotlib->Thermobar) (10.4.0)\n",
      "Requirement already satisfied: pyparsing>=2.3.1 in c:\\users\\penny\\anaconda3\\lib\\site-packages (from matplotlib->Thermobar) (3.1.2)\n",
      "Requirement already satisfied: python-dateutil>=2.7 in c:\\users\\penny\\anaconda3\\lib\\site-packages (from matplotlib->Thermobar) (2.9.0.post0)\n",
      "Requirement already satisfied: et-xmlfile in c:\\users\\penny\\anaconda3\\lib\\site-packages (from openpyxl->Thermobar) (1.1.0)\n",
      "Requirement already satisfied: pytz>=2020.1 in c:\\users\\penny\\anaconda3\\lib\\site-packages (from pandas->Thermobar) (2024.1)\n",
      "Requirement already satisfied: tzdata>=2022.7 in c:\\users\\penny\\anaconda3\\lib\\site-packages (from pandas->Thermobar) (2023.3)\n",
      "Requirement already satisfied: patsy>=0.5.6 in c:\\users\\penny\\anaconda3\\lib\\site-packages (from statsmodels->Thermobar) (0.5.6)\n",
      "Requirement already satisfied: colorama in c:\\users\\penny\\anaconda3\\lib\\site-packages (from tqdm->Thermobar) (0.4.6)\n",
      "Requirement already satisfied: six in c:\\users\\penny\\anaconda3\\lib\\site-packages (from patsy>=0.5.6->statsmodels->Thermobar) (1.16.0)\n"
     ]
    }
   ],
   "source": [
    "!pip install Thermobar"
   ]
  },
  {
   "cell_type": "code",
   "execution_count": 3,
   "metadata": {},
   "outputs": [],
   "source": [
    "import numpy as np\n",
    "import pandas as pd\n",
    "import matplotlib.pyplot as plt\n",
    "import Thermobar as pt"
   ]
  },
  {
   "cell_type": "markdown",
   "metadata": {},
   "source": [
    "## Load in data\n",
    "- The function \"import_excel\" allows you to specify the name of the excel file and the sheet name.\n",
    "- Data should have the headings SiO2_Liq, TiO2_Liq etc. etc. The order of headings doesn't matter.\n",
    "- As in the 5 min intro example, you could also have no _Liq in the headings, and load them in the functoin using suffix=\"_Liq\"\n",
    "- You can also have any other columns, e.g., estimate of pressure from any other proxy (melt inclusions, geophysics), and anything else you might want to plot (e.g., latitude, longitude)"
   ]
  },
  {
   "cell_type": "code",
   "execution_count": 4,
   "metadata": {},
   "outputs": [],
   "source": [
    "out=pt.import_excel('Liquid_only_Thermometry.xlsx', sheet_name=\"Liquid_only\")\n",
    "my_input=out['my_input']\n",
    "myLiquids1=out['Liqs']"
   ]
  },
  {
   "cell_type": "markdown",
   "metadata": {},
   "source": [
    "### Inspect inputs to check you didn't have any funny column headings.\n",
    "- It is always useful to inspect the outputs from import_excel, sometimes your column headings may have funny characters due to use of spaces, subscripts etc. in journal pdf tables. Check that all the columns you entered have numbers. If, say your SiO2_Liq heading had funny characters, this column will be filled with zeros when you inspect it."
   ]
  },
  {
   "cell_type": "code",
   "execution_count": 5,
   "metadata": {},
   "outputs": [
    {
     "data": {
      "text/html": [
       "<div>\n",
       "<style scoped>\n",
       "    .dataframe tbody tr th:only-of-type {\n",
       "        vertical-align: middle;\n",
       "    }\n",
       "\n",
       "    .dataframe tbody tr th {\n",
       "        vertical-align: top;\n",
       "    }\n",
       "\n",
       "    .dataframe thead th {\n",
       "        text-align: right;\n",
       "    }\n",
       "</style>\n",
       "<table border=\"1\" class=\"dataframe\">\n",
       "  <thead>\n",
       "    <tr style=\"text-align: right;\">\n",
       "      <th></th>\n",
       "      <th>SiO2_Liq</th>\n",
       "      <th>TiO2_Liq</th>\n",
       "      <th>Al2O3_Liq</th>\n",
       "      <th>FeOt_Liq</th>\n",
       "      <th>MnO_Liq</th>\n",
       "      <th>MgO_Liq</th>\n",
       "      <th>CaO_Liq</th>\n",
       "      <th>Na2O_Liq</th>\n",
       "      <th>K2O_Liq</th>\n",
       "      <th>Cr2O3_Liq</th>\n",
       "      <th>P2O5_Liq</th>\n",
       "      <th>H2O_Liq</th>\n",
       "      <th>Fe3Fet_Liq</th>\n",
       "      <th>NiO_Liq</th>\n",
       "      <th>CoO_Liq</th>\n",
       "      <th>CO2_Liq</th>\n",
       "      <th>Sample_ID_Liq</th>\n",
       "    </tr>\n",
       "  </thead>\n",
       "  <tbody>\n",
       "    <tr>\n",
       "      <th>0</th>\n",
       "      <td>57.023602</td>\n",
       "      <td>0.623106</td>\n",
       "      <td>16.332899</td>\n",
       "      <td>4.36174</td>\n",
       "      <td>0.103851</td>\n",
       "      <td>4.19180</td>\n",
       "      <td>6.94858</td>\n",
       "      <td>3.59702</td>\n",
       "      <td>0.896895</td>\n",
       "      <td>0.000000</td>\n",
       "      <td>0.226584</td>\n",
       "      <td>5.59</td>\n",
       "      <td>0.2</td>\n",
       "      <td>0.0</td>\n",
       "      <td>0.0</td>\n",
       "      <td>0.0</td>\n",
       "      <td>0</td>\n",
       "    </tr>\n",
       "    <tr>\n",
       "      <th>1</th>\n",
       "      <td>57.658600</td>\n",
       "      <td>0.654150</td>\n",
       "      <td>17.194799</td>\n",
       "      <td>3.90621</td>\n",
       "      <td>0.084105</td>\n",
       "      <td>2.86892</td>\n",
       "      <td>5.91538</td>\n",
       "      <td>3.85948</td>\n",
       "      <td>1.018600</td>\n",
       "      <td>0.000000</td>\n",
       "      <td>0.214935</td>\n",
       "      <td>6.55</td>\n",
       "      <td>0.2</td>\n",
       "      <td>0.0</td>\n",
       "      <td>0.0</td>\n",
       "      <td>0.0</td>\n",
       "      <td>1</td>\n",
       "    </tr>\n",
       "    <tr>\n",
       "      <th>2</th>\n",
       "      <td>60.731201</td>\n",
       "      <td>0.862054</td>\n",
       "      <td>17.144199</td>\n",
       "      <td>4.07781</td>\n",
       "      <td>0.077488</td>\n",
       "      <td>2.50867</td>\n",
       "      <td>5.22075</td>\n",
       "      <td>4.45556</td>\n",
       "      <td>1.414160</td>\n",
       "      <td>0.000000</td>\n",
       "      <td>0.319638</td>\n",
       "      <td>3.14</td>\n",
       "      <td>0.2</td>\n",
       "      <td>0.0</td>\n",
       "      <td>0.0</td>\n",
       "      <td>0.0</td>\n",
       "      <td>2</td>\n",
       "    </tr>\n",
       "    <tr>\n",
       "      <th>3</th>\n",
       "      <td>61.532799</td>\n",
       "      <td>0.440860</td>\n",
       "      <td>16.508801</td>\n",
       "      <td>3.32990</td>\n",
       "      <td>0.037520</td>\n",
       "      <td>1.64150</td>\n",
       "      <td>4.34294</td>\n",
       "      <td>4.40860</td>\n",
       "      <td>1.407000</td>\n",
       "      <td>0.000000</td>\n",
       "      <td>0.215740</td>\n",
       "      <td>6.20</td>\n",
       "      <td>0.2</td>\n",
       "      <td>0.0</td>\n",
       "      <td>0.0</td>\n",
       "      <td>0.0</td>\n",
       "      <td>3</td>\n",
       "    </tr>\n",
       "    <tr>\n",
       "      <th>4</th>\n",
       "      <td>52.969101</td>\n",
       "      <td>0.803412</td>\n",
       "      <td>17.563000</td>\n",
       "      <td>5.93217</td>\n",
       "      <td>0.149472</td>\n",
       "      <td>3.78351</td>\n",
       "      <td>7.65110</td>\n",
       "      <td>3.80219</td>\n",
       "      <td>0.551178</td>\n",
       "      <td>0.037368</td>\n",
       "      <td>0.196182</td>\n",
       "      <td>6.58</td>\n",
       "      <td>0.2</td>\n",
       "      <td>0.0</td>\n",
       "      <td>0.0</td>\n",
       "      <td>0.0</td>\n",
       "      <td>4</td>\n",
       "    </tr>\n",
       "  </tbody>\n",
       "</table>\n",
       "</div>"
      ],
      "text/plain": [
       "    SiO2_Liq  TiO2_Liq  Al2O3_Liq  FeOt_Liq   MnO_Liq  MgO_Liq  CaO_Liq  \\\n",
       "0  57.023602  0.623106  16.332899   4.36174  0.103851  4.19180  6.94858   \n",
       "1  57.658600  0.654150  17.194799   3.90621  0.084105  2.86892  5.91538   \n",
       "2  60.731201  0.862054  17.144199   4.07781  0.077488  2.50867  5.22075   \n",
       "3  61.532799  0.440860  16.508801   3.32990  0.037520  1.64150  4.34294   \n",
       "4  52.969101  0.803412  17.563000   5.93217  0.149472  3.78351  7.65110   \n",
       "\n",
       "   Na2O_Liq   K2O_Liq  Cr2O3_Liq  P2O5_Liq  H2O_Liq  Fe3Fet_Liq  NiO_Liq  \\\n",
       "0   3.59702  0.896895   0.000000  0.226584     5.59         0.2      0.0   \n",
       "1   3.85948  1.018600   0.000000  0.214935     6.55         0.2      0.0   \n",
       "2   4.45556  1.414160   0.000000  0.319638     3.14         0.2      0.0   \n",
       "3   4.40860  1.407000   0.000000  0.215740     6.20         0.2      0.0   \n",
       "4   3.80219  0.551178   0.037368  0.196182     6.58         0.2      0.0   \n",
       "\n",
       "   CoO_Liq  CO2_Liq  Sample_ID_Liq  \n",
       "0      0.0      0.0              0  \n",
       "1      0.0      0.0              1  \n",
       "2      0.0      0.0              2  \n",
       "3      0.0      0.0              3  \n",
       "4      0.0      0.0              4  "
      ]
     },
     "execution_count": 5,
     "metadata": {},
     "output_type": "execute_result"
    }
   ],
   "source": [
    "myLiquids1.head()"
   ]
  },
  {
   "cell_type": "markdown",
   "metadata": {},
   "source": [
    "## If at any point you need help with what functions inputs to use, you can type help(pt.function_name)"
   ]
  },
  {
   "cell_type": "code",
   "execution_count": 6,
   "metadata": {},
   "outputs": [
    {
     "name": "stdout",
     "output_type": "stream",
     "text": [
      "Help on function calculate_liq_only_temp in module Thermobar.liquid_thermometers:\n",
      "\n",
      "calculate_liq_only_temp(*, liq_comps, equationT, P=None, H2O_Liq=None, print=False)\n",
      "     Liquid-only thermometery. Returns a temperature in Kelvin.\n",
      "\n",
      "    Parameters\n",
      "     -------\n",
      "\n",
      "     liq_comps: pandas.DataFrame\n",
      "         liquid compositions with column headings SiO2_Liq, MgO_Liq etc.\n",
      "\n",
      "     equationT: str\n",
      "         If has _sat at the end, represents the saturation surface of that mineral.\n",
      "\n",
      "         Equations from Putirka et al. (2016).\n",
      "             | T_Put2016_eq3_amp_sat (saturation surface of amphibole)\n",
      "\n",
      "         Equations from Putirka (2008) and older studies:\n",
      "\n",
      "             | T_Put2008_eq13\n",
      "             | T_Put2008_eq14\n",
      "             | T_Put2008_eq15\n",
      "             | T_Put2008_eq16\n",
      "             | T_Put2008_eq34_cpx_sat\n",
      "             | T_Put1999_cpx_sat\n",
      "             * Following 3 thermometers are adaptations of olivine-liquid thermometers with  DMg calculated using Beattie 1993,\n",
      "             This means you can use them without knowing an olivine composition. ocan be applied when you haven't measured an olivine composiiton.\n",
      "             | T_Put2008_eq19_BeattDMg\n",
      "             | T_Put2008_eq21_BeattDMg\n",
      "             | T_Put2008_eq22_BeattDMg\n",
      "\n",
      "         Equations from Sugawara (2000):\n",
      "\n",
      "             | T_Sug2000_eq1\n",
      "             | T_Sug2000_eq3_ol\n",
      "             | T_Sug2000_eq3_opx\n",
      "             | T_Sug2000_eq3_cpx\n",
      "             | T_Sug2000_eq3_pig\n",
      "             | T_Sug2000_eq6a\n",
      "             | T_Sug2000_eq6b\n",
      "\n",
      "         Equations from Helz and Thornber (1987):\n",
      "\n",
      "             | T_Helz1987_MgO\n",
      "             | T_Helz1987_CaO\n",
      "\n",
      "         Equation from Molina et al. (2015)\n",
      "\n",
      "             | T_Molina2015_amp_sat\n",
      "\n",
      "         Equation from Montrieth 1995\n",
      "            | T_Montierth1995_MgO\n",
      "\n",
      "         Equation from Beattie (1993)\n",
      "            | T_Beatt1993_opx\n",
      "\n",
      "         Equation from Shea et al. (2022)\n",
      "            | T_Shea2022_MgO\n",
      "\n",
      "     P: float, int, pandas.Series, str  (\"Solve\")\n",
      "         Pressure in kbar\n",
      "         Only needed for P-sensitive thermometers.\n",
      "         If enter P=\"Solve\", returns a partial function\n",
      "         Else, enter an integer, float, or panda series\n",
      "\n",
      "     H2O_Liq: optional.\n",
      "         If None, uses H2O_Liq column from input.\n",
      "         If int, float, pandas.Series, uses this instead of H2O_Liq Column\n",
      "\n",
      "\n",
      "     Returns\n",
      "     -------\n",
      "     pandas series\n",
      "        Temperature in K\n",
      "\n"
     ]
    }
   ],
   "source": [
    "# Options for different thermometers laid out in the \"equationT\" =\n",
    "help(pt.calculate_liq_only_temp)"
   ]
  },
  {
   "cell_type": "markdown",
   "metadata": {},
   "source": [
    "## Example 1 - P and H2O-independent thermometers\n",
    "- The thermometer of Helz and Thornber 1987 is not dependent on pressure or H2O.\n",
    "- Thus, the function only requires 2 inputs, the name of pandas dataframe with liquid compositions (here, myLiquids1) and the name of the equationT you have choosen\n",
    "- All functions output in Kelvin and Kbar, so to get celcius, we subtract 273.15"
   ]
  },
  {
   "cell_type": "code",
   "execution_count": 7,
   "metadata": {},
   "outputs": [
    {
     "data": {
      "text/plain": [
       "Index([0, 1, 2, 3, 4, 5, 6, 7, 8, 9], dtype='object')"
      ]
     },
     "execution_count": 7,
     "metadata": {},
     "output_type": "execute_result"
    }
   ],
   "source": [
    "T_Helz1987=pt.calculate_liq_only_temp(liq_comps=myLiquids1,  equationT=\"T_Helz1987_MgO\")-273.15\n",
    "# In jupyter lab/notebooks, outputs don't automatically display, \n",
    "# but it prints the last line in each cell\n",
    "T_Helz1987.index"
   ]
  },
  {
   "cell_type": "markdown",
   "metadata": {},
   "source": [
    "## Example 2 - Pressure-dependent thermometer \n",
    "a) If you select an equation which is Pressure-dependent, and don't specify a pressure, the code returns an error\n",
    "\n",
    "b) You can either select P=\"Solve\" which returns a partial function. This means you can evaluate it at any pressure you want easily\n",
    "\n",
    "c) Or you can specify a fixed pressure, e.g., P=5 (which runs all calculations at 5 kbar)\n",
    "\n",
    "d) Or you can specify pressure based on a column in your original spreadsheet containing pressure"
   ]
  },
  {
   "cell_type": "markdown",
   "metadata": {},
   "source": [
    "## Example 2a - Don't specify a pressure\n",
    "- returns an error, telling you to input a pressure"
   ]
  },
  {
   "cell_type": "code",
   "execution_count": 20,
   "metadata": {},
   "outputs": [
    {
     "data": {
      "text/plain": [
       "0    1263.556017\n",
       "1    1224.737842\n",
       "2    1215.611739\n",
       "3    1180.796726\n",
       "4    1243.481168\n",
       "5    1230.560113\n",
       "6    1213.501371\n",
       "7    1238.807043\n",
       "8    1213.127402\n",
       "9    1284.057252\n",
       "dtype: float64"
      ]
     },
     "execution_count": 20,
     "metadata": {},
     "output_type": "execute_result"
    }
   ],
   "source": [
    "Teq15_2kbar_6wt=pt.calculate_liq_only_temp(liq_comps=myLiquids1,  \n",
    "                equationT=\"T_Put2008_eq15\", P=1, H2O_Liq=10) # Convert to Celcius\n",
    "Teq15_2kbar_6wt"
   ]
  },
  {
   "cell_type": "markdown",
   "metadata": {},
   "source": [
    "## Example 2b - specify P=\"Solve\" to return a partial function"
   ]
  },
  {
   "cell_type": "code",
   "execution_count": 9,
   "metadata": {},
   "outputs": [],
   "source": [
    "Teq15_partial=pt.calculate_liq_only_temp(liq_comps=myLiquids1,  \n",
    "            equationT=\"T_Put2008_eq15\", P=\"Solve\")# Output is in Kelvin"
   ]
  },
  {
   "cell_type": "code",
   "execution_count": 10,
   "metadata": {},
   "outputs": [
    {
     "data": {
      "text/plain": [
       "0    1082.230315\n",
       "1    1031.095340\n",
       "2    1065.719538\n",
       "3     991.644728\n",
       "4    1049.453769\n",
       "5    1033.581813\n",
       "6    1021.013571\n",
       "7     946.501846\n",
       "8     919.539200\n",
       "9    1108.248454\n",
       "dtype: float64"
      ]
     },
     "execution_count": 10,
     "metadata": {},
     "output_type": "execute_result"
    }
   ],
   "source": [
    "# You can then evaluate this partial at any pressure you want (here, 10 kbar).\n",
    "# This can save computation time\n",
    "Teq15_10kbar=Teq15_partial(10)-273.15\n",
    "Teq15_10kbar"
   ]
  },
  {
   "cell_type": "markdown",
   "metadata": {},
   "source": [
    "## Example 2c - evaluate at constant pressure"
   ]
  },
  {
   "cell_type": "code",
   "execution_count": 11,
   "metadata": {},
   "outputs": [
    {
     "data": {
      "text/plain": [
       "0    1062.650315\n",
       "1    1011.515340\n",
       "2    1046.139538\n",
       "3     972.064728\n",
       "4    1029.873769\n",
       "5    1014.001813\n",
       "6    1001.433571\n",
       "7     926.921846\n",
       "8     899.959200\n",
       "9    1088.668454\n",
       "dtype: float64"
      ]
     },
     "execution_count": 11,
     "metadata": {},
     "output_type": "execute_result"
    }
   ],
   "source": [
    "# Here P=5 kbar\n",
    "Teq15_5kbar=pt.calculate_liq_only_temp(liq_comps=myLiquids1,  \n",
    "            equationT=\"T_Put2008_eq15\", P=5)-273.15 # Output is in Kelvin, convert to C\n",
    "Teq15_5kbar "
   ]
  },
  {
   "cell_type": "markdown",
   "metadata": {},
   "source": [
    "## Example 2d - Evaluate at values given by P_kbar column in inputted excel spreadsheet\n",
    "- your column can be called anything, you just need state P=my_input['column name']. If you stored pressure in GPa say, you could do P=10*my_input['P_GPa']"
   ]
  },
  {
   "cell_type": "code",
   "execution_count": 12,
   "metadata": {},
   "outputs": [
    {
     "data": {
      "text/plain": [
       "0    1050.902315\n",
       "1    1003.683340\n",
       "2    1046.139538\n",
       "3     972.064728\n",
       "4    1029.873769\n",
       "5    1014.001813\n",
       "6    1001.433571\n",
       "7     926.921846\n",
       "8     899.959200\n",
       "9    1088.668454\n",
       "dtype: float64"
      ]
     },
     "execution_count": 12,
     "metadata": {},
     "output_type": "execute_result"
    }
   ],
   "source": [
    "Teq15_input=pt.calculate_liq_only_temp(liq_comps=myLiquids1,  \n",
    "            equationT=\"T_Put2008_eq15\", P=my_input['P_kbar'])-273.15 \n",
    "# Output is in Kelvin, convert to c.\n",
    "Teq15_input"
   ]
  },
  {
   "cell_type": "markdown",
   "metadata": {},
   "source": [
    "## Example 3 - Specifying water content\n",
    "- The dataframe for liquids in this example has a H2O column it read from the excel spreadsheet. By default, H2O-dependent thermometers will use the values entered in this column\n",
    "- If you don't have this column, it'll be filled with zeros, so calculations will be done at H2O=0\n",
    "- However, you can also override this by specifying H2O_Liq=value in the function."
   ]
  },
  {
   "cell_type": "code",
   "execution_count": 13,
   "metadata": {},
   "outputs": [
    {
     "data": {
      "text/plain": [
       "0    1108.710017\n",
       "1    1069.891842\n",
       "2    1060.765739\n",
       "3    1025.950726\n",
       "4    1088.635168\n",
       "5    1075.714113\n",
       "6    1058.655371\n",
       "7    1083.961043\n",
       "8    1058.281402\n",
       "9    1129.211252\n",
       "dtype: float64"
      ]
     },
     "execution_count": 13,
     "metadata": {},
     "output_type": "execute_result"
    }
   ],
   "source": [
    "Teq15_2H2O=pt.calculate_liq_only_temp(liq_comps=myLiquids1,  \n",
    "        equationT=\"T_Put2008_eq15\", P=5, H2O_Liq=2)-273.15 # Output is in Kelvin\n",
    "Teq15_2H2O"
   ]
  },
  {
   "cell_type": "markdown",
   "metadata": {},
   "source": [
    "#### We can also investigate how sensitive our calculations are to water, say we think maybe water ranges from 2-4 wt%, we can do the same calculation at 4 wt%"
   ]
  },
  {
   "cell_type": "code",
   "execution_count": 14,
   "metadata": {},
   "outputs": [
    {
     "data": {
      "text/plain": [
       "0    1083.050017\n",
       "1    1044.231842\n",
       "2    1035.105739\n",
       "3    1000.290726\n",
       "4    1062.975168\n",
       "5    1050.054113\n",
       "6    1032.995371\n",
       "7    1058.301043\n",
       "8    1032.621402\n",
       "9    1103.551252\n",
       "dtype: float64"
      ]
     },
     "execution_count": 14,
     "metadata": {},
     "output_type": "execute_result"
    }
   ],
   "source": [
    "Teq15_4H2O=pt.calculate_liq_only_temp(liq_comps=myLiquids1,  \n",
    "                                      equationT=\"T_Put2008_eq15\", P=5, H2O_Liq=4)-273.15 # Output is in Kelvin\n",
    "Teq15_4H2O"
   ]
  },
  {
   "cell_type": "markdown",
   "metadata": {},
   "source": [
    "#### We can now calculate the difference between these by subtracting one from the other. Here, as H2O_Liq is just a constant on the function, the difference is constant for all liquids"
   ]
  },
  {
   "cell_type": "code",
   "execution_count": 15,
   "metadata": {},
   "outputs": [
    {
     "data": {
      "text/plain": [
       "0   -25.66\n",
       "1   -25.66\n",
       "2   -25.66\n",
       "3   -25.66\n",
       "4   -25.66\n",
       "5   -25.66\n",
       "6   -25.66\n",
       "7   -25.66\n",
       "8   -25.66\n",
       "9   -25.66\n",
       "dtype: float64"
      ]
     },
     "execution_count": 15,
     "metadata": {},
     "output_type": "execute_result"
    }
   ],
   "source": [
    "Teq15_4H2O-Teq15_2H2O"
   ]
  },
  {
   "cell_type": "markdown",
   "metadata": {},
   "source": [
    "## Exporting data\n",
    "- There are a number of ways you can export data to excel\n",
    "- The first example appends these new calculations onto a copy of the \"my_input\" dataframe. This means you can export a spreadsheet that looks exactly like your input spreadsheet, but with the values for the new calculations"
   ]
  },
  {
   "cell_type": "code",
   "execution_count": 16,
   "metadata": {},
   "outputs": [],
   "source": [
    "# First make a copy of the dataframe so you don't overwrite the original\n",
    "my_input_c=my_input.copy()\n",
    "# To make a new column, you specify my_input_c['new column name']= value\n",
    "my_input_c['T_Helz1987']=T_Helz1987\n",
    "# You can add as many new columns as you wish\n",
    "my_input_c['Teq15_4H2O']=Teq15_4H2O\n",
    "# You can give your columns in the new dataframe any name you wish...\n",
    "my_input_c['Temp eq 15 4 wt% H2O']=Teq15_4H2O\n",
    "# Now, you ue the \"to_excel\" panda function to save this new appended dataframe to excel. The name of the dataframe you've been appended to goes on the let, and the name of the\n",
    "# file you want to make goes bewteen the ' ' signs\n",
    "my_input_c.to_excel('Thermometry_out1.xlsx')"
   ]
  },
  {
   "cell_type": "code",
   "execution_count": null,
   "metadata": {},
   "outputs": [],
   "source": []
  }
 ],
 "metadata": {
  "kernelspec": {
   "display_name": "base",
   "language": "python",
   "name": "python3"
  },
  "language_info": {
   "codemirror_mode": {
    "name": "ipython",
    "version": 3
   },
   "file_extension": ".py",
   "mimetype": "text/x-python",
   "name": "python",
   "nbconvert_exporter": "python",
   "pygments_lexer": "ipython3",
   "version": "3.12.7"
  },
  "toc": {
   "base_numbering": 1,
   "nav_menu": {},
   "number_sections": true,
   "sideBar": true,
   "skip_h1_title": false,
   "title_cell": "Table of Contents",
   "title_sidebar": "Contents",
   "toc_cell": false,
   "toc_position": {},
   "toc_section_display": true,
   "toc_window_display": false
  },
  "varInspector": {
   "cols": {
    "lenName": 16,
    "lenType": 16,
    "lenVar": 40
   },
   "kernels_config": {
    "python": {
     "delete_cmd_postfix": "",
     "delete_cmd_prefix": "del ",
     "library": "var_list.py",
     "varRefreshCmd": "print(var_dic_list())"
    },
    "r": {
     "delete_cmd_postfix": ") ",
     "delete_cmd_prefix": "rm(",
     "library": "var_list.r",
     "varRefreshCmd": "cat(var_dic_list()) "
    }
   },
   "types_to_exclude": [
    "module",
    "function",
    "builtin_function_or_method",
    "instance",
    "_Feature"
   ],
   "window_display": false
  }
 },
 "nbformat": 4,
 "nbformat_minor": 4
}

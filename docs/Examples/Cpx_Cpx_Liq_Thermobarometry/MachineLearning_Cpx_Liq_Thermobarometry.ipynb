{
 "cells": [
  {
   "cell_type": "markdown",
   "id": "8c8f3878-908b-4712-89ca-b75d93e96432",
   "metadata": {},
   "source": [
    "# Machine-Learning-based Clinopyroxene-only and Clinopyroxene-Liquid Thermobarometry.\n",
    "- This notebook goes through the options for clinopyroxene-Liquid thermobarometry and clinopyroxene-only thermobarometry\n",
    "- Cpx-Liq matching is not covered in this tutorial, there is a separate folder \"Cpx_Liquid_melt_matching\" for that \n",
    "- You can download the excel spreadsheet from:\n",
    "https://github.com/PennyWieser/Thermobar/blob/main/docs/Examples/Cpx_Cpx_Liq_Thermobarometry/Cpx_Liq_Example.xlsx"
   ]
  },
  {
   "cell_type": "markdown",
   "id": "4b56765c-864d-4835-954f-ed22fa312590",
   "metadata": {},
   "source": [
    "### You need to install Thermobar once on your machine, if you haven't done this yet, uncomment the line below (remove the #)"
   ]
  },
  {
   "cell_type": "code",
   "execution_count": 1,
   "id": "2153e730-4a76-45ed-a689-fd45853d3c45",
   "metadata": {},
   "outputs": [
    {
     "name": "stdout",
     "output_type": "stream",
     "text": [
      "Requirement already satisfied: Thermobar in c:\\users\\penny\\onedrive\\documents\\postdoc_missing\\mybarometers\\thermobar_outer\\src (1.0.27)\n",
      "Requirement already satisfied: pandas in c:\\users\\penny\\anaconda3\\lib\\site-packages (from Thermobar) (1.5.3)\n",
      "Requirement already satisfied: numpy in c:\\users\\penny\\anaconda3\\lib\\site-packages (from Thermobar) (1.24.3)\n",
      "Requirement already satisfied: python-ternary in c:\\users\\penny\\anaconda3\\lib\\site-packages (from Thermobar) (1.0.8)\n",
      "Requirement already satisfied: matplotlib in c:\\users\\penny\\anaconda3\\lib\\site-packages (from Thermobar) (3.7.1)\n",
      "Requirement already satisfied: scikit-learn in c:\\users\\penny\\anaconda3\\lib\\site-packages (from Thermobar) (1.3.0)\n",
      "Requirement already satisfied: scipy in c:\\users\\penny\\anaconda3\\lib\\site-packages (from Thermobar) (1.10.1)\n",
      "Requirement already satisfied: tqdm in c:\\users\\penny\\anaconda3\\lib\\site-packages (from Thermobar) (4.65.0)\n",
      "Requirement already satisfied: statsmodels in c:\\users\\penny\\anaconda3\\lib\\site-packages (from Thermobar) (0.14.0)\n",
      "Requirement already satisfied: openpyxl in c:\\users\\penny\\anaconda3\\lib\\site-packages (from Thermobar) (3.0.10)\n",
      "Requirement already satisfied: contourpy>=1.0.1 in c:\\users\\penny\\anaconda3\\lib\\site-packages (from matplotlib->Thermobar) (1.0.5)\n",
      "Requirement already satisfied: cycler>=0.10 in c:\\users\\penny\\anaconda3\\lib\\site-packages (from matplotlib->Thermobar) (0.11.0)\n",
      "Requirement already satisfied: fonttools>=4.22.0 in c:\\users\\penny\\anaconda3\\lib\\site-packages (from matplotlib->Thermobar) (4.25.0)\n",
      "Requirement already satisfied: kiwisolver>=1.0.1 in c:\\users\\penny\\anaconda3\\lib\\site-packages (from matplotlib->Thermobar) (1.4.4)\n",
      "Requirement already satisfied: packaging>=20.0 in c:\\users\\penny\\anaconda3\\lib\\site-packages (from matplotlib->Thermobar) (23.0)\n",
      "Requirement already satisfied: pillow>=6.2.0 in c:\\users\\penny\\anaconda3\\lib\\site-packages (from matplotlib->Thermobar) (9.4.0)\n",
      "Requirement already satisfied: pyparsing>=2.3.1 in c:\\users\\penny\\anaconda3\\lib\\site-packages (from matplotlib->Thermobar) (3.0.9)\n",
      "Requirement already satisfied: python-dateutil>=2.7 in c:\\users\\penny\\anaconda3\\lib\\site-packages (from matplotlib->Thermobar) (2.8.2)\n",
      "Requirement already satisfied: et_xmlfile in c:\\users\\penny\\anaconda3\\lib\\site-packages (from openpyxl->Thermobar) (1.1.0)\n",
      "Requirement already satisfied: pytz>=2020.1 in c:\\users\\penny\\anaconda3\\lib\\site-packages (from pandas->Thermobar) (2022.7)\n",
      "Requirement already satisfied: joblib>=1.1.1 in c:\\users\\penny\\anaconda3\\lib\\site-packages (from scikit-learn->Thermobar) (1.2.0)\n",
      "Requirement already satisfied: threadpoolctl>=2.0.0 in c:\\users\\penny\\anaconda3\\lib\\site-packages (from scikit-learn->Thermobar) (2.2.0)\n",
      "Requirement already satisfied: patsy>=0.5.2 in c:\\users\\penny\\anaconda3\\lib\\site-packages (from statsmodels->Thermobar) (0.5.3)\n",
      "Requirement already satisfied: colorama in c:\\users\\penny\\anaconda3\\lib\\site-packages (from tqdm->Thermobar) (0.4.6)\n",
      "Requirement already satisfied: six in c:\\users\\penny\\anaconda3\\lib\\site-packages (from patsy>=0.5.2->statsmodels->Thermobar) (1.16.0)\n"
     ]
    }
   ],
   "source": [
    "!pip install Thermobar"
   ]
  },
  {
   "cell_type": "markdown",
   "id": "ab8d2fa9-123c-49a5-b499-c43ad2ca1f9b",
   "metadata": {},
   "source": [
    "## For Machine learning, you also need to pip install the .pkl files that have saved the pretrained model. This is to keep Thermobar smaller so we can still release on Pip"
   ]
  },
  {
   "cell_type": "code",
   "execution_count": 2,
   "id": "8dc3b5a9-e411-4f02-ade0-dcdc1b65a9c3",
   "metadata": {},
   "outputs": [],
   "source": [
    "!pip install \"https://github.com/PennyWieser/Thermobar_onnx/archive/refs/tags/0.02.zip\""
   ]
  },
  {
   "cell_type": "markdown",
   "id": "8977fc41-cac1-4554-979d-596d986d877f",
   "metadata": {},
   "source": [
    "## First, load the necessary python things"
   ]
  },
  {
   "cell_type": "code",
   "execution_count": 2,
   "id": "c10cd3bd-1c22-4efd-b250-46250da7feab",
   "metadata": {},
   "outputs": [],
   "source": [
    "import numpy as np\n",
    "import pandas as pd\n",
    "import matplotlib.pyplot as plt\n",
    "import Thermobar as pt"
   ]
  },
  {
   "cell_type": "markdown",
   "id": "c2b7e96a-9b44-415c-a666-c1cbc3c56fda",
   "metadata": {},
   "source": [
    "## Now, load the data "
   ]
  },
  {
   "cell_type": "code",
   "execution_count": 3,
   "id": "561c3c07-3251-494a-8d80-0366c52b39e3",
   "metadata": {},
   "outputs": [],
   "source": [
    "out=pt.import_excel('Cpx_Liq_Example.xlsx', sheet_name=\"Sheet1\")\n",
    "my_input=out['my_input']\n",
    "Liqs=out['Liqs']\n",
    "Cpxs=out['Cpxs']"
   ]
  },
  {
   "cell_type": "markdown",
   "id": "747a2945-af46-40bf-9c10-88b8180244a1",
   "metadata": {},
   "source": [
    "### Using saved models\n",
    "- This uses pickles, the model will change with different versions of python\n",
    "- But, it does give you the voting approach of Jorgenson, with the median and standard deviation of the trees"
   ]
  },
  {
   "cell_type": "code",
   "execution_count": 4,
   "id": "22ce1961-1b31-4bfc-92d5-9638520a652a",
   "metadata": {},
   "outputs": [
    {
     "name": "stderr",
     "output_type": "stream",
     "text": [
      "c:\\users\\penny\\onedrive\\documents\\postdoc_missing\\mybarometers\\thermobar_outer\\src\\Thermobar\\core.py:1561: FutureWarning: In a future version, the Index constructor will not infer numeric dtypes when passed object-dtype sequences (matching Series behavior)\n",
      "  cpx_calc.loc[(AlVI_minus_Na<0), 'Jd']=cpx_calc['Al_VI_cat_6ox']\n",
      "c:\\Users\\penny\\anaconda3\\Lib\\site-packages\\sklearn\\base.py:347: InconsistentVersionWarning: Trying to unpickle estimator StandardScaler from version 1.0.2 when using version 1.3.0. This might lead to breaking code or invalid results. Use at your own risk. For more info please refer to:\n",
      "https://scikit-learn.org/stable/model_persistence.html#security-maintainability-limitations\n",
      "  warnings.warn(\n",
      "c:\\Users\\penny\\anaconda3\\Lib\\site-packages\\sklearn\\base.py:347: InconsistentVersionWarning: Trying to unpickle estimator ExtraTreeRegressor from version 1.0.2 when using version 1.3.0. This might lead to breaking code or invalid results. Use at your own risk. For more info please refer to:\n",
      "https://scikit-learn.org/stable/model_persistence.html#security-maintainability-limitations\n",
      "  warnings.warn(\n"
     ]
    },
    {
     "name": "stdout",
     "output_type": "stream",
     "text": [
      "Youve selected a P-independent function\n"
     ]
    },
    {
     "ename": "ValueError",
     "evalue": "node array from the pickle has an incompatible dtype:\n- expected: {'names': ['left_child', 'right_child', 'feature', 'threshold', 'impurity', 'n_node_samples', 'weighted_n_node_samples', 'missing_go_to_left'], 'formats': ['<i8', '<i8', '<i8', '<f8', '<f8', '<i8', '<f8', 'u1'], 'offsets': [0, 8, 16, 24, 32, 40, 48, 56], 'itemsize': 64}\n- got     : [('left_child', '<i8'), ('right_child', '<i8'), ('feature', '<i8'), ('threshold', '<f8'), ('impurity', '<f8'), ('n_node_samples', '<i8'), ('weighted_n_node_samples', '<f8')]",
     "output_type": "error",
     "traceback": [
      "\u001b[1;31m---------------------------------------------------------------------------\u001b[0m",
      "\u001b[1;31mValueError\u001b[0m                                Traceback (most recent call last)",
      "\u001b[1;32mc:\\Users\\penny\\OneDrive\\Documents\\Postdoc_missing\\MyBarometers\\Thermobar_outer\\docs\\Examples\\Cpx_Cpx_Liq_Thermobarometry\\MachineLearning_Cpx_Liq_Thermobarometry.ipynb Cell 11\u001b[0m line \u001b[0;36m1\n\u001b[1;32m----> <a href='vscode-notebook-cell:/c%3A/Users/penny/OneDrive/Documents/Postdoc_missing/MyBarometers/Thermobar_outer/docs/Examples/Cpx_Cpx_Liq_Thermobarometry/MachineLearning_Cpx_Liq_Thermobarometry.ipynb#X13sZmlsZQ%3D%3D?line=0'>1</a>\u001b[0m P_T_EqTests_pkl\u001b[39m=\u001b[39mpt\u001b[39m.\u001b[39mcalculate_cpx_liq_press_temp(cpx_comps\u001b[39m=\u001b[39mCpxs, liq_comps\u001b[39m=\u001b[39mLiqs, \n\u001b[0;32m      <a href='vscode-notebook-cell:/c%3A/Users/penny/OneDrive/Documents/Postdoc_missing/MyBarometers/Thermobar_outer/docs/Examples/Cpx_Cpx_Liq_Thermobarometry/MachineLearning_Cpx_Liq_Thermobarometry.ipynb#X13sZmlsZQ%3D%3D?line=1'>2</a>\u001b[0m                                                 equationP\u001b[39m=\u001b[39m\u001b[39m\"\u001b[39m\u001b[39mP_Petrelli2020_Cpx_Liq\u001b[39m\u001b[39m\"\u001b[39m,\n\u001b[0;32m      <a href='vscode-notebook-cell:/c%3A/Users/penny/OneDrive/Documents/Postdoc_missing/MyBarometers/Thermobar_outer/docs/Examples/Cpx_Cpx_Liq_Thermobarometry/MachineLearning_Cpx_Liq_Thermobarometry.ipynb#X13sZmlsZQ%3D%3D?line=2'>3</a>\u001b[0m                                             equationT\u001b[39m=\u001b[39m\u001b[39m\"\u001b[39m\u001b[39mT_Petrelli2020_Cpx_Liq\u001b[39m\u001b[39m\"\u001b[39m,\n\u001b[0;32m      <a href='vscode-notebook-cell:/c%3A/Users/penny/OneDrive/Documents/Postdoc_missing/MyBarometers/Thermobar_outer/docs/Examples/Cpx_Cpx_Liq_Thermobarometry/MachineLearning_Cpx_Liq_Thermobarometry.ipynb#X13sZmlsZQ%3D%3D?line=3'>4</a>\u001b[0m                                                  T\u001b[39m=\u001b[39m\u001b[39m1300\u001b[39m,\n\u001b[0;32m      <a href='vscode-notebook-cell:/c%3A/Users/penny/OneDrive/Documents/Postdoc_missing/MyBarometers/Thermobar_outer/docs/Examples/Cpx_Cpx_Liq_Thermobarometry/MachineLearning_Cpx_Liq_Thermobarometry.ipynb#X13sZmlsZQ%3D%3D?line=4'>5</a>\u001b[0m                                              H2O_Liq\u001b[39m=\u001b[39m\u001b[39m0\u001b[39m, eq_tests\u001b[39m=\u001b[39m\u001b[39mTrue\u001b[39;00m)\n\u001b[0;32m      <a href='vscode-notebook-cell:/c%3A/Users/penny/OneDrive/Documents/Postdoc_missing/MyBarometers/Thermobar_outer/docs/Examples/Cpx_Cpx_Liq_Thermobarometry/MachineLearning_Cpx_Liq_Thermobarometry.ipynb#X13sZmlsZQ%3D%3D?line=5'>6</a>\u001b[0m P_T_EqTests_pkl\n",
      "File \u001b[1;32mc:\\users\\penny\\onedrive\\documents\\postdoc_missing\\mybarometers\\thermobar_outer\\src\\Thermobar\\clinopyroxene_thermobarometry.py:2300\u001b[0m, in \u001b[0;36mcalculate_cpx_liq_press_temp\u001b[1;34m(liq_comps, cpx_comps, meltmatch, equationP, equationT, T, P, iterations, Fe3Fet_Liq, H2O_Liq, T_K_guess, eq_tests)\u001b[0m\n\u001b[0;32m   2298\u001b[0m \u001b[39mif\u001b[39;00m equationT \u001b[39mis\u001b[39;00m \u001b[39mnot\u001b[39;00m \u001b[39mNone\u001b[39;00m:\n\u001b[0;32m   2299\u001b[0m     \u001b[39mif\u001b[39;00m (\u001b[39m'\u001b[39m\u001b[39mPetrelli\u001b[39m\u001b[39m'\u001b[39m \u001b[39min\u001b[39;00m equationT \u001b[39mor\u001b[39;00m \u001b[39m\"\u001b[39m\u001b[39mJorgenson\u001b[39m\u001b[39m\"\u001b[39m \u001b[39min\u001b[39;00m equationT) \u001b[39mand\u001b[39;00m \u001b[39m\"\u001b[39m\u001b[39monnx\u001b[39m\u001b[39m\"\u001b[39m \u001b[39mnot\u001b[39;00m \u001b[39min\u001b[39;00m equationT:\n\u001b[1;32m-> 2300\u001b[0m         T_func_all\u001b[39m=\u001b[39mcalculate_cpx_liq_temp(meltmatch\u001b[39m=\u001b[39mCombo_liq_cpxs,\n\u001b[0;32m   2301\u001b[0m         equationT\u001b[39m=\u001b[39mequationT, P\u001b[39m=\u001b[39m\u001b[39m\"\u001b[39m\u001b[39mSolve\u001b[39m\u001b[39m\"\u001b[39m)\n\u001b[0;32m   2302\u001b[0m         T_func \u001b[39m=\u001b[39m T_func_all\u001b[39m.\u001b[39mT_K_calc\n\u001b[0;32m   2303\u001b[0m         Median_T\u001b[39m=\u001b[39mT_func_all\u001b[39m.\u001b[39mMedian_Trees\n",
      "File \u001b[1;32mc:\\users\\penny\\onedrive\\documents\\postdoc_missing\\mybarometers\\thermobar_outer\\src\\Thermobar\\clinopyroxene_thermobarometry.py:2124\u001b[0m, in \u001b[0;36mcalculate_cpx_liq_temp\u001b[1;34m(equationT, cpx_comps, liq_comps, meltmatch, P, eq_tests, H2O_Liq, Fe3Fet_Liq, sigma, Kd_Err)\u001b[0m\n\u001b[0;32m   2122\u001b[0m \u001b[39m# Easiest to treat Machine Learning ones differently\u001b[39;00m\n\u001b[0;32m   2123\u001b[0m \u001b[39mif\u001b[39;00m (\u001b[39m'\u001b[39m\u001b[39mPetrelli\u001b[39m\u001b[39m'\u001b[39m \u001b[39min\u001b[39;00m equationT \u001b[39mor\u001b[39;00m \u001b[39m\"\u001b[39m\u001b[39mJorgenson\u001b[39m\u001b[39m\"\u001b[39m \u001b[39min\u001b[39;00m equationT) \u001b[39mand\u001b[39;00m \u001b[39m\"\u001b[39m\u001b[39monnx\u001b[39m\u001b[39m\"\u001b[39m \u001b[39mnot\u001b[39;00m \u001b[39min\u001b[39;00m equationT:\n\u001b[1;32m-> 2124\u001b[0m     df_stats\u001b[39m=\u001b[39mfunc(meltmatch\u001b[39m=\u001b[39mCombo_liq_cpxs)\n\u001b[0;32m   2125\u001b[0m     T_K\u001b[39m=\u001b[39mdf_stats[\u001b[39m'\u001b[39m\u001b[39mT_K_calc\u001b[39m\u001b[39m'\u001b[39m]\n\u001b[0;32m   2127\u001b[0m \u001b[39melif\u001b[39;00m (\u001b[39m'\u001b[39m\u001b[39mPetrelli\u001b[39m\u001b[39m'\u001b[39m \u001b[39min\u001b[39;00m equationT \u001b[39mor\u001b[39;00m \u001b[39m\"\u001b[39m\u001b[39mJorgenson\u001b[39m\u001b[39m\"\u001b[39m \u001b[39min\u001b[39;00m equationT) \u001b[39mand\u001b[39;00m \u001b[39m\"\u001b[39m\u001b[39monnx\u001b[39m\u001b[39m\"\u001b[39m \u001b[39min\u001b[39;00m equationT:\n",
      "File \u001b[1;32mc:\\users\\penny\\onedrive\\documents\\postdoc_missing\\mybarometers\\thermobar_outer\\src\\Thermobar\\clinopyroxene_thermobarometry.py:774\u001b[0m, in \u001b[0;36mT_Petrelli2020_Cpx_Liq\u001b[1;34m(P, cpx_comps, liq_comps, meltmatch)\u001b[0m\n\u001b[0;32m    771\u001b[0m     scaler_P2020_Cpx_Liq\u001b[39m=\u001b[39mload(f)\n\u001b[0;32m    773\u001b[0m \u001b[39mwith\u001b[39;00m \u001b[39mopen\u001b[39m(Thermobar_dir\u001b[39m/\u001b[39m\u001b[39m'\u001b[39m\u001b[39mETR_Temp_Petrelli2020_Cpx_Liq.pkl\u001b[39m\u001b[39m'\u001b[39m, \u001b[39m'\u001b[39m\u001b[39mrb\u001b[39m\u001b[39m'\u001b[39m) \u001b[39mas\u001b[39;00m f:\n\u001b[1;32m--> 774\u001b[0m     ETR_Temp_P2020_Cpx_Liq\u001b[39m=\u001b[39mjoblib\u001b[39m.\u001b[39mload(f)\n\u001b[0;32m    776\u001b[0m x_test_scaled\u001b[39m=\u001b[39mscaler_P2020_Cpx_Liq\u001b[39m.\u001b[39mtransform(x_test)\n\u001b[0;32m    777\u001b[0m Pred_T_K\u001b[39m=\u001b[39mETR_Temp_P2020_Cpx_Liq\u001b[39m.\u001b[39mpredict(x_test_scaled)\n",
      "File \u001b[1;32mc:\\Users\\penny\\anaconda3\\Lib\\site-packages\\joblib\\numpy_pickle.py:648\u001b[0m, in \u001b[0;36mload\u001b[1;34m(filename, mmap_mode)\u001b[0m\n\u001b[0;32m    646\u001b[0m     filename \u001b[39m=\u001b[39m \u001b[39mgetattr\u001b[39m(fobj, \u001b[39m'\u001b[39m\u001b[39mname\u001b[39m\u001b[39m'\u001b[39m, \u001b[39m'\u001b[39m\u001b[39m'\u001b[39m)\n\u001b[0;32m    647\u001b[0m     \u001b[39mwith\u001b[39;00m _read_fileobject(fobj, filename, mmap_mode) \u001b[39mas\u001b[39;00m fobj:\n\u001b[1;32m--> 648\u001b[0m         obj \u001b[39m=\u001b[39m _unpickle(fobj)\n\u001b[0;32m    649\u001b[0m \u001b[39melse\u001b[39;00m:\n\u001b[0;32m    650\u001b[0m     \u001b[39mwith\u001b[39;00m \u001b[39mopen\u001b[39m(filename, \u001b[39m'\u001b[39m\u001b[39mrb\u001b[39m\u001b[39m'\u001b[39m) \u001b[39mas\u001b[39;00m f:\n",
      "File \u001b[1;32mc:\\Users\\penny\\anaconda3\\Lib\\site-packages\\joblib\\numpy_pickle.py:577\u001b[0m, in \u001b[0;36m_unpickle\u001b[1;34m(fobj, filename, mmap_mode)\u001b[0m\n\u001b[0;32m    575\u001b[0m obj \u001b[39m=\u001b[39m \u001b[39mNone\u001b[39;00m\n\u001b[0;32m    576\u001b[0m \u001b[39mtry\u001b[39;00m:\n\u001b[1;32m--> 577\u001b[0m     obj \u001b[39m=\u001b[39m unpickler\u001b[39m.\u001b[39mload()\n\u001b[0;32m    578\u001b[0m     \u001b[39mif\u001b[39;00m unpickler\u001b[39m.\u001b[39mcompat_mode:\n\u001b[0;32m    579\u001b[0m         warnings\u001b[39m.\u001b[39mwarn(\u001b[39m\"\u001b[39m\u001b[39mThe file \u001b[39m\u001b[39m'\u001b[39m\u001b[39m%s\u001b[39;00m\u001b[39m'\u001b[39m\u001b[39m has been generated with a \u001b[39m\u001b[39m\"\u001b[39m\n\u001b[0;32m    580\u001b[0m                       \u001b[39m\"\u001b[39m\u001b[39mjoblib version less than 0.10. \u001b[39m\u001b[39m\"\u001b[39m\n\u001b[0;32m    581\u001b[0m                       \u001b[39m\"\u001b[39m\u001b[39mPlease regenerate this pickle file.\u001b[39m\u001b[39m\"\u001b[39m\n\u001b[0;32m    582\u001b[0m                       \u001b[39m%\u001b[39m filename,\n\u001b[0;32m    583\u001b[0m                       \u001b[39mDeprecationWarning\u001b[39;00m, stacklevel\u001b[39m=\u001b[39m\u001b[39m3\u001b[39m)\n",
      "File \u001b[1;32mc:\\Users\\penny\\anaconda3\\Lib\\pickle.py:1213\u001b[0m, in \u001b[0;36m_Unpickler.load\u001b[1;34m(self)\u001b[0m\n\u001b[0;32m   1211\u001b[0m             \u001b[39mraise\u001b[39;00m \u001b[39mEOFError\u001b[39;00m\n\u001b[0;32m   1212\u001b[0m         \u001b[39massert\u001b[39;00m \u001b[39misinstance\u001b[39m(key, bytes_types)\n\u001b[1;32m-> 1213\u001b[0m         dispatch[key[\u001b[39m0\u001b[39m]](\u001b[39mself\u001b[39m)\n\u001b[0;32m   1214\u001b[0m \u001b[39mexcept\u001b[39;00m _Stop \u001b[39mas\u001b[39;00m stopinst:\n\u001b[0;32m   1215\u001b[0m     \u001b[39mreturn\u001b[39;00m stopinst\u001b[39m.\u001b[39mvalue\n",
      "File \u001b[1;32mc:\\Users\\penny\\anaconda3\\Lib\\site-packages\\joblib\\numpy_pickle.py:402\u001b[0m, in \u001b[0;36mNumpyUnpickler.load_build\u001b[1;34m(self)\u001b[0m\n\u001b[0;32m    394\u001b[0m \u001b[39mdef\u001b[39;00m \u001b[39mload_build\u001b[39m(\u001b[39mself\u001b[39m):\n\u001b[0;32m    395\u001b[0m \u001b[39m    \u001b[39m\u001b[39m\"\"\"Called to set the state of a newly created object.\u001b[39;00m\n\u001b[0;32m    396\u001b[0m \n\u001b[0;32m    397\u001b[0m \u001b[39m    We capture it to replace our place-holder objects, NDArrayWrapper or\u001b[39;00m\n\u001b[1;32m   (...)\u001b[0m\n\u001b[0;32m    400\u001b[0m \u001b[39m    NDArrayWrapper is used for backward compatibility with joblib <= 0.9.\u001b[39;00m\n\u001b[0;32m    401\u001b[0m \u001b[39m    \"\"\"\u001b[39;00m\n\u001b[1;32m--> 402\u001b[0m     Unpickler\u001b[39m.\u001b[39mload_build(\u001b[39mself\u001b[39m)\n\u001b[0;32m    404\u001b[0m     \u001b[39m# For backward compatibility, we support NDArrayWrapper objects.\u001b[39;00m\n\u001b[0;32m    405\u001b[0m     \u001b[39mif\u001b[39;00m \u001b[39misinstance\u001b[39m(\u001b[39mself\u001b[39m\u001b[39m.\u001b[39mstack[\u001b[39m-\u001b[39m\u001b[39m1\u001b[39m], (NDArrayWrapper, NumpyArrayWrapper)):\n",
      "File \u001b[1;32mc:\\Users\\penny\\anaconda3\\Lib\\pickle.py:1718\u001b[0m, in \u001b[0;36m_Unpickler.load_build\u001b[1;34m(self)\u001b[0m\n\u001b[0;32m   1716\u001b[0m setstate \u001b[39m=\u001b[39m \u001b[39mgetattr\u001b[39m(inst, \u001b[39m\"\u001b[39m\u001b[39m__setstate__\u001b[39m\u001b[39m\"\u001b[39m, \u001b[39mNone\u001b[39;00m)\n\u001b[0;32m   1717\u001b[0m \u001b[39mif\u001b[39;00m setstate \u001b[39mis\u001b[39;00m \u001b[39mnot\u001b[39;00m \u001b[39mNone\u001b[39;00m:\n\u001b[1;32m-> 1718\u001b[0m     setstate(state)\n\u001b[0;32m   1719\u001b[0m     \u001b[39mreturn\u001b[39;00m\n\u001b[0;32m   1720\u001b[0m slotstate \u001b[39m=\u001b[39m \u001b[39mNone\u001b[39;00m\n",
      "File \u001b[1;32msklearn\\tree\\_tree.pyx:714\u001b[0m, in \u001b[0;36msklearn.tree._tree.Tree.__setstate__\u001b[1;34m()\u001b[0m\n",
      "File \u001b[1;32msklearn\\tree\\_tree.pyx:1418\u001b[0m, in \u001b[0;36msklearn.tree._tree._check_node_ndarray\u001b[1;34m()\u001b[0m\n",
      "\u001b[1;31mValueError\u001b[0m: node array from the pickle has an incompatible dtype:\n- expected: {'names': ['left_child', 'right_child', 'feature', 'threshold', 'impurity', 'n_node_samples', 'weighted_n_node_samples', 'missing_go_to_left'], 'formats': ['<i8', '<i8', '<i8', '<f8', '<f8', '<i8', '<f8', 'u1'], 'offsets': [0, 8, 16, 24, 32, 40, 48, 56], 'itemsize': 64}\n- got     : [('left_child', '<i8'), ('right_child', '<i8'), ('feature', '<i8'), ('threshold', '<f8'), ('impurity', '<f8'), ('n_node_samples', '<i8'), ('weighted_n_node_samples', '<f8')]"
     ]
    }
   ],
   "source": [
    "P_T_EqTests_pkl=pt.calculate_cpx_liq_press_temp(cpx_comps=Cpxs, liq_comps=Liqs, \n",
    "                                                equationP=\"P_Petrelli2020_Cpx_Liq\",\n",
    "                                            equationT=\"T_Petrelli2020_Cpx_Liq\",\n",
    "                                                 T=1300,\n",
    "                                             H2O_Liq=0, eq_tests=True)\n",
    "P_T_EqTests_pkl"
   ]
  },
  {
   "cell_type": "markdown",
   "id": "569505ff-2fda-462b-82d9-c644dddeb173",
   "metadata": {},
   "source": [
    "## Using onnx models\n",
    "-Using Onnx means you will always get the same answer. But, you dont get the voting results. "
   ]
  },
  {
   "cell_type": "code",
   "execution_count": 14,
   "id": "88aacaf4-d006-4ae2-a695-d5ef3522cd30",
   "metadata": {},
   "outputs": [
    {
     "name": "stdout",
     "output_type": "stream",
     "text": [
      "Youve selected a P-independent function\n",
      "Youve selected a T-independent function\n",
      "Youve selected a T-independent function\n",
      "Using Fe3FeT from input file to calculate Kd Fe-Mg\n"
     ]
    },
    {
     "data": {
      "text/html": [
       "<div>\n",
       "<style scoped>\n",
       "    .dataframe tbody tr th:only-of-type {\n",
       "        vertical-align: middle;\n",
       "    }\n",
       "\n",
       "    .dataframe tbody tr th {\n",
       "        vertical-align: top;\n",
       "    }\n",
       "\n",
       "    .dataframe thead th {\n",
       "        text-align: right;\n",
       "    }\n",
       "</style>\n",
       "<table border=\"1\" class=\"dataframe\">\n",
       "  <thead>\n",
       "    <tr style=\"text-align: right;\">\n",
       "      <th></th>\n",
       "      <th>P_kbar_calc</th>\n",
       "      <th>T_K_calc</th>\n",
       "      <th>Median_Trees_P</th>\n",
       "      <th>Std_Trees_P</th>\n",
       "      <th>IQR_Trees_P</th>\n",
       "      <th>Median_Trees_T</th>\n",
       "      <th>Std_Trees_T</th>\n",
       "      <th>IQR_Trees_T</th>\n",
       "      <th>Eq Tests Neave2017?</th>\n",
       "      <th>Delta_Kd_Put2008</th>\n",
       "      <th>...</th>\n",
       "      <th>Delta_EnFs_I_M_Mollo13</th>\n",
       "      <th>CaTs_Pred_Put1999</th>\n",
       "      <th>Delta_CaTs_I_M_Put1999</th>\n",
       "      <th>CrCaTs_Pred_Put1999</th>\n",
       "      <th>Delta_CrCaTs_I_M_Put1999</th>\n",
       "      <th>CaTi_Pred_Put1999</th>\n",
       "      <th>Delta_CaTi_I_M_Put1999</th>\n",
       "      <th>Jd_Pred_Put1999</th>\n",
       "      <th>Delta_Jd_Put1999</th>\n",
       "      <th>Delta_Jd_I_M_Put1999</th>\n",
       "    </tr>\n",
       "  </thead>\n",
       "  <tbody>\n",
       "    <tr>\n",
       "      <th>0</th>\n",
       "      <td>2.012874</td>\n",
       "      <td>1436.353636</td>\n",
       "      <td>2.0</td>\n",
       "      <td>2.014248</td>\n",
       "      <td>2.014248</td>\n",
       "      <td>1434.15</td>\n",
       "      <td>37.734604</td>\n",
       "      <td>37.734604</td>\n",
       "      <td>False</td>\n",
       "      <td>0.047419</td>\n",
       "      <td>...</td>\n",
       "      <td>0.001449</td>\n",
       "      <td>0.013801</td>\n",
       "      <td>-0.016574</td>\n",
       "      <td>0.0</td>\n",
       "      <td>0.009562</td>\n",
       "      <td>0.042741</td>\n",
       "      <td>0.001728</td>\n",
       "      <td>0.016176</td>\n",
       "      <td>0.000880</td>\n",
       "      <td>0.000880</td>\n",
       "    </tr>\n",
       "    <tr>\n",
       "      <th>1</th>\n",
       "      <td>2.385743</td>\n",
       "      <td>1422.872182</td>\n",
       "      <td>2.0</td>\n",
       "      <td>2.516823</td>\n",
       "      <td>2.516823</td>\n",
       "      <td>1423.15</td>\n",
       "      <td>58.692923</td>\n",
       "      <td>58.692923</td>\n",
       "      <td>False</td>\n",
       "      <td>0.045964</td>\n",
       "      <td>...</td>\n",
       "      <td>0.006055</td>\n",
       "      <td>0.013802</td>\n",
       "      <td>-0.023015</td>\n",
       "      <td>0.0</td>\n",
       "      <td>0.004122</td>\n",
       "      <td>0.055375</td>\n",
       "      <td>0.010437</td>\n",
       "      <td>0.017422</td>\n",
       "      <td>0.000092</td>\n",
       "      <td>0.000092</td>\n",
       "    </tr>\n",
       "    <tr>\n",
       "      <th>2</th>\n",
       "      <td>2.031163</td>\n",
       "      <td>1388.809636</td>\n",
       "      <td>2.0</td>\n",
       "      <td>1.335548</td>\n",
       "      <td>1.335548</td>\n",
       "      <td>1398.15</td>\n",
       "      <td>100.495001</td>\n",
       "      <td>100.495001</td>\n",
       "      <td>False</td>\n",
       "      <td>0.048797</td>\n",
       "      <td>...</td>\n",
       "      <td>0.066580</td>\n",
       "      <td>0.017510</td>\n",
       "      <td>-0.074375</td>\n",
       "      <td>0.0</td>\n",
       "      <td>0.003245</td>\n",
       "      <td>0.028704</td>\n",
       "      <td>0.042963</td>\n",
       "      <td>0.018321</td>\n",
       "      <td>0.000236</td>\n",
       "      <td>0.000236</td>\n",
       "    </tr>\n",
       "    <tr>\n",
       "      <th>3</th>\n",
       "      <td>2.175246</td>\n",
       "      <td>1418.986727</td>\n",
       "      <td>2.0</td>\n",
       "      <td>2.290651</td>\n",
       "      <td>2.290651</td>\n",
       "      <td>1423.15</td>\n",
       "      <td>62.539834</td>\n",
       "      <td>62.539834</td>\n",
       "      <td>False</td>\n",
       "      <td>0.042372</td>\n",
       "      <td>...</td>\n",
       "      <td>0.002781</td>\n",
       "      <td>0.015006</td>\n",
       "      <td>-0.030821</td>\n",
       "      <td>0.0</td>\n",
       "      <td>0.003909</td>\n",
       "      <td>0.049805</td>\n",
       "      <td>0.008608</td>\n",
       "      <td>0.019322</td>\n",
       "      <td>0.002988</td>\n",
       "      <td>0.002988</td>\n",
       "    </tr>\n",
       "    <tr>\n",
       "      <th>4</th>\n",
       "      <td>2.194894</td>\n",
       "      <td>1358.247818</td>\n",
       "      <td>2.0</td>\n",
       "      <td>2.305614</td>\n",
       "      <td>2.305614</td>\n",
       "      <td>1373.15</td>\n",
       "      <td>80.220643</td>\n",
       "      <td>80.220643</td>\n",
       "      <td>False</td>\n",
       "      <td>0.030098</td>\n",
       "      <td>...</td>\n",
       "      <td>-0.007655</td>\n",
       "      <td>0.011571</td>\n",
       "      <td>-0.031539</td>\n",
       "      <td>0.0</td>\n",
       "      <td>0.001315</td>\n",
       "      <td>0.049482</td>\n",
       "      <td>0.013529</td>\n",
       "      <td>0.027939</td>\n",
       "      <td>0.005724</td>\n",
       "      <td>0.005724</td>\n",
       "    </tr>\n",
       "  </tbody>\n",
       "</table>\n",
       "<p>5 rows × 136 columns</p>\n",
       "</div>"
      ],
      "text/plain": [
       "   P_kbar_calc     T_K_calc  Median_Trees_P  Std_Trees_P  IQR_Trees_P  \\\n",
       "0     2.012874  1436.353636             2.0     2.014248     2.014248   \n",
       "1     2.385743  1422.872182             2.0     2.516823     2.516823   \n",
       "2     2.031163  1388.809636             2.0     1.335548     1.335548   \n",
       "3     2.175246  1418.986727             2.0     2.290651     2.290651   \n",
       "4     2.194894  1358.247818             2.0     2.305614     2.305614   \n",
       "\n",
       "   Median_Trees_T  Std_Trees_T  IQR_Trees_T  Eq Tests Neave2017?  \\\n",
       "0         1434.15    37.734604    37.734604                False   \n",
       "1         1423.15    58.692923    58.692923                False   \n",
       "2         1398.15   100.495001   100.495001                False   \n",
       "3         1423.15    62.539834    62.539834                False   \n",
       "4         1373.15    80.220643    80.220643                False   \n",
       "\n",
       "   Delta_Kd_Put2008  ...  Delta_EnFs_I_M_Mollo13  CaTs_Pred_Put1999  \\\n",
       "0          0.047419  ...                0.001449           0.013801   \n",
       "1          0.045964  ...                0.006055           0.013802   \n",
       "2          0.048797  ...                0.066580           0.017510   \n",
       "3          0.042372  ...                0.002781           0.015006   \n",
       "4          0.030098  ...               -0.007655           0.011571   \n",
       "\n",
       "   Delta_CaTs_I_M_Put1999  CrCaTs_Pred_Put1999  Delta_CrCaTs_I_M_Put1999  \\\n",
       "0               -0.016574                  0.0                  0.009562   \n",
       "1               -0.023015                  0.0                  0.004122   \n",
       "2               -0.074375                  0.0                  0.003245   \n",
       "3               -0.030821                  0.0                  0.003909   \n",
       "4               -0.031539                  0.0                  0.001315   \n",
       "\n",
       "   CaTi_Pred_Put1999  Delta_CaTi_I_M_Put1999  Jd_Pred_Put1999  \\\n",
       "0           0.042741                0.001728         0.016176   \n",
       "1           0.055375                0.010437         0.017422   \n",
       "2           0.028704                0.042963         0.018321   \n",
       "3           0.049805                0.008608         0.019322   \n",
       "4           0.049482                0.013529         0.027939   \n",
       "\n",
       "   Delta_Jd_Put1999  Delta_Jd_I_M_Put1999  \n",
       "0          0.000880              0.000880  \n",
       "1          0.000092              0.000092  \n",
       "2          0.000236              0.000236  \n",
       "3          0.002988              0.002988  \n",
       "4          0.005724              0.005724  \n",
       "\n",
       "[5 rows x 136 columns]"
      ]
     },
     "execution_count": 14,
     "metadata": {},
     "output_type": "execute_result"
    }
   ],
   "source": [
    "P_T_EqTests_onnx=pt.calculate_cpx_liq_press_temp(cpx_comps=Cpxs, liq_comps=Liqs, \n",
    "                                                equationP=\"P_Petrelli2020_Cpx_Liq\",\n",
    "                                            equationT=\"T_Petrelli2020_Cpx_Liq\",\n",
    "                                                 T=1300,\n",
    "                                             H2O_Liq=0, eq_tests=True)\n",
    "P_T_EqTests_onnx"
   ]
  },
  {
   "cell_type": "code",
   "execution_count": null,
   "id": "43c68b9c-7066-46ad-9976-4f8765d3166f",
   "metadata": {},
   "outputs": [],
   "source": []
  }
 ],
 "metadata": {
  "kernelspec": {
   "display_name": "Python 3 (ipykernel)",
   "language": "python",
   "name": "python3"
  },
  "language_info": {
   "codemirror_mode": {
    "name": "ipython",
    "version": 3
   },
   "file_extension": ".py",
   "mimetype": "text/x-python",
   "name": "python",
   "nbconvert_exporter": "python",
   "pygments_lexer": "ipython3",
   "version": "3.11.4"
  }
 },
 "nbformat": 4,
 "nbformat_minor": 5
}

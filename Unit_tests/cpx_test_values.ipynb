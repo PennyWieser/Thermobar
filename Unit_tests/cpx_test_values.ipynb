{
 "cells": [
  {
   "cell_type": "code",
   "execution_count": 9,
   "id": "61811860-f92d-45db-97c3-554144104e89",
   "metadata": {},
   "outputs": [],
   "source": [
    "import numpy as np\n",
    "import pandas as pd\n",
    "import matplotlib.pyplot as plt\n",
    "import Thermobar as pt\n",
    "pd.options.display.max_columns = None"
   ]
  },
  {
   "cell_type": "code",
   "execution_count": 10,
   "id": "90c15114-a7e8-4fc8-8f2b-cf07a5a552cf",
   "metadata": {},
   "outputs": [],
   "source": [
    "import Thermobar as pt\n",
    "LiqT=pd.DataFrame(data={\"Sample_ID_Liq\": 'test',\n",
    "                        \"SiO2_Liq\": 51,\n",
    "                            \"TiO2_Liq\": 0.48,\n",
    "                            \"Al2O3_Liq\": 19,\n",
    "                            \"FeOt_Liq\": 5.3,\n",
    "                            \"MnO_Liq\": 0.1,\n",
    "                            \"MgO_Liq\": 4.5,\n",
    "                            \"CaO_Liq\": 9,\n",
    "                            \"Na2O_Liq\": 4.2,\n",
    "                            \"K2O_Liq\": 0.1,\n",
    "                            \"Cr2O3_Liq\": 0.11,\n",
    "                            \"P2O5_Liq\": 0.11,\n",
    "                            \"H2O_Liq\": 5,\n",
    "                             \"Fe3Fet_Liq\":0.1,\n",
    "                            'NiO_Liq':0,\n",
    "                           'CoO_Liq':0,\n",
    "                           'CO2_Liq':0,\n",
    "\n",
    "}, index=[0])\n",
    "\n",
    "CpxT=pd.DataFrame(data={\"Sample_ID_Cpx\": 'test',\n",
    "                        \"SiO2_Cpx\": 49,\n",
    "                            \"TiO2_Cpx\": 0.3,\n",
    "                            \"Al2O3_Cpx\": 4.89,\n",
    "                            \"FeOt_Cpx\": 5.71,\n",
    "                            \"MnO_Cpx\": 0.165,\n",
    "                            \"MgO_Cpx\": 16.89,\n",
    "                            \"CaO_Cpx\": 20.319,\n",
    "                            \"Na2O_Cpx\": 0.319,\n",
    "                            \"K2O_Cpx\": 0.1,\n",
    "                            \"Cr2O3_Cpx\": 0.11}, index=[0])"
   ]
  },
  {
   "cell_type": "code",
   "execution_count": 11,
   "id": "4f258b6f-bc68-4a21-9ac5-151118bae4dc",
   "metadata": {},
   "outputs": [
    {
     "data": {
      "text/html": [
       "<div>\n",
       "<style scoped>\n",
       "    .dataframe tbody tr th:only-of-type {\n",
       "        vertical-align: middle;\n",
       "    }\n",
       "\n",
       "    .dataframe tbody tr th {\n",
       "        vertical-align: top;\n",
       "    }\n",
       "\n",
       "    .dataframe thead th {\n",
       "        text-align: right;\n",
       "    }\n",
       "</style>\n",
       "<table border=\"1\" class=\"dataframe\">\n",
       "  <thead>\n",
       "    <tr style=\"text-align: right;\">\n",
       "      <th></th>\n",
       "      <th>Sample_ID_Cpx</th>\n",
       "      <th>SiO2_Cpx</th>\n",
       "      <th>TiO2_Cpx</th>\n",
       "      <th>Al2O3_Cpx</th>\n",
       "      <th>FeOt_Cpx</th>\n",
       "      <th>MnO_Cpx</th>\n",
       "      <th>MgO_Cpx</th>\n",
       "      <th>CaO_Cpx</th>\n",
       "      <th>Na2O_Cpx</th>\n",
       "      <th>K2O_Cpx</th>\n",
       "      <th>Cr2O3_Cpx</th>\n",
       "      <th>Si_Cpx_cat_6ox</th>\n",
       "      <th>Mg_Cpx_cat_6ox</th>\n",
       "      <th>Fet_Cpx_cat_6ox</th>\n",
       "      <th>Ca_Cpx_cat_6ox</th>\n",
       "      <th>Al_Cpx_cat_6ox</th>\n",
       "      <th>Na_Cpx_cat_6ox</th>\n",
       "      <th>K_Cpx_cat_6ox</th>\n",
       "      <th>Mn_Cpx_cat_6ox</th>\n",
       "      <th>Ti_Cpx_cat_6ox</th>\n",
       "      <th>Cr_Cpx_cat_6ox</th>\n",
       "      <th>oxy_renorm_factor</th>\n",
       "      <th>Al_IV_cat_6ox</th>\n",
       "      <th>Al_VI_cat_6ox</th>\n",
       "      <th>En_Simple_MgFeCa_Cpx</th>\n",
       "      <th>Fs_Simple_MgFeCa_Cpx</th>\n",
       "      <th>Wo_Simple_MgFeCa_Cpx</th>\n",
       "      <th>Cation_Sum_Cpx</th>\n",
       "      <th>Ca_CaMgFe</th>\n",
       "      <th>Lindley_Fe3_Cpx</th>\n",
       "      <th>Lindley_Fe2_Cpx</th>\n",
       "      <th>Lindley_Fe3_Cpx_prop</th>\n",
       "      <th>CrCaTs</th>\n",
       "      <th>a_cpx_En</th>\n",
       "      <th>Mgno_Cpx</th>\n",
       "      <th>Jd</th>\n",
       "      <th>Jd_from 0=Na, 1=Al</th>\n",
       "      <th>CaTs</th>\n",
       "      <th>CaTi</th>\n",
       "      <th>DiHd_1996</th>\n",
       "      <th>EnFs</th>\n",
       "      <th>DiHd_2003</th>\n",
       "      <th>Di_Cpx</th>\n",
       "      <th>FeIII_Wang21</th>\n",
       "      <th>FeII_Wang21</th>\n",
       "    </tr>\n",
       "  </thead>\n",
       "  <tbody>\n",
       "    <tr>\n",
       "      <th>0</th>\n",
       "      <td>test</td>\n",
       "      <td>49</td>\n",
       "      <td>0.3</td>\n",
       "      <td>4.89</td>\n",
       "      <td>5.71</td>\n",
       "      <td>0.165</td>\n",
       "      <td>16.89</td>\n",
       "      <td>20.319</td>\n",
       "      <td>0.319</td>\n",
       "      <td>0.1</td>\n",
       "      <td>0.11</td>\n",
       "      <td>1.843671</td>\n",
       "      <td>0.947383</td>\n",
       "      <td>0.179672</td>\n",
       "      <td>0.819149</td>\n",
       "      <td>0.216847</td>\n",
       "      <td>0.023272</td>\n",
       "      <td>0.0048</td>\n",
       "      <td>0.005258</td>\n",
       "      <td>0.008491</td>\n",
       "      <td>0.003272</td>\n",
       "      <td>0.0</td>\n",
       "      <td>0.156329</td>\n",
       "      <td>0.060518</td>\n",
       "      <td>0.486785</td>\n",
       "      <td>0.092319</td>\n",
       "      <td>0.420896</td>\n",
       "      <td>4.051814</td>\n",
       "      <td>0.420896</td>\n",
       "      <td>0.098829</td>\n",
       "      <td>0.080843</td>\n",
       "      <td>0.550053</td>\n",
       "      <td>0.001636</td>\n",
       "      <td>0.13382</td>\n",
       "      <td>0.840579</td>\n",
       "      <td>0.023272</td>\n",
       "      <td>0</td>\n",
       "      <td>0.037247</td>\n",
       "      <td>0.059541</td>\n",
       "      <td>0.720725</td>\n",
       "      <td>0.203165</td>\n",
       "      <td>0.720725</td>\n",
       "      <td>0.603016</td>\n",
       "      <td>0.098829</td>\n",
       "      <td>0.080843</td>\n",
       "    </tr>\n",
       "  </tbody>\n",
       "</table>\n",
       "</div>"
      ],
      "text/plain": [
       "  Sample_ID_Cpx  SiO2_Cpx  TiO2_Cpx  Al2O3_Cpx  FeOt_Cpx  MnO_Cpx  MgO_Cpx  \\\n",
       "0          test        49       0.3       4.89      5.71    0.165    16.89   \n",
       "\n",
       "   CaO_Cpx  Na2O_Cpx  K2O_Cpx  Cr2O3_Cpx  Si_Cpx_cat_6ox  Mg_Cpx_cat_6ox  \\\n",
       "0   20.319     0.319      0.1       0.11        1.843671        0.947383   \n",
       "\n",
       "   Fet_Cpx_cat_6ox  Ca_Cpx_cat_6ox  Al_Cpx_cat_6ox  Na_Cpx_cat_6ox  \\\n",
       "0         0.179672        0.819149        0.216847        0.023272   \n",
       "\n",
       "   K_Cpx_cat_6ox  Mn_Cpx_cat_6ox  Ti_Cpx_cat_6ox  Cr_Cpx_cat_6ox  \\\n",
       "0         0.0048        0.005258        0.008491        0.003272   \n",
       "\n",
       "   oxy_renorm_factor  Al_IV_cat_6ox  Al_VI_cat_6ox  En_Simple_MgFeCa_Cpx  \\\n",
       "0                0.0       0.156329       0.060518              0.486785   \n",
       "\n",
       "   Fs_Simple_MgFeCa_Cpx  Wo_Simple_MgFeCa_Cpx  Cation_Sum_Cpx  Ca_CaMgFe  \\\n",
       "0              0.092319              0.420896        4.051814   0.420896   \n",
       "\n",
       "   Lindley_Fe3_Cpx  Lindley_Fe2_Cpx  Lindley_Fe3_Cpx_prop    CrCaTs  a_cpx_En  \\\n",
       "0         0.098829         0.080843              0.550053  0.001636   0.13382   \n",
       "\n",
       "   Mgno_Cpx        Jd  Jd_from 0=Na, 1=Al      CaTs      CaTi  DiHd_1996  \\\n",
       "0  0.840579  0.023272                   0  0.037247  0.059541   0.720725   \n",
       "\n",
       "       EnFs  DiHd_2003    Di_Cpx  FeIII_Wang21  FeII_Wang21  \n",
       "0  0.203165   0.720725  0.603016      0.098829     0.080843  "
      ]
     },
     "execution_count": 11,
     "metadata": {},
     "output_type": "execute_result"
    }
   ],
   "source": [
    "pt.calculate_clinopyroxene_components(cpx_comps=CpxT)"
   ]
  },
  {
   "cell_type": "code",
   "execution_count": 12,
   "id": "e9781701-2316-48a5-8dcf-7ab90916be45",
   "metadata": {},
   "outputs": [
    {
     "data": {
      "text/plain": [
       "0    1252.508521\n",
       "dtype: float64"
      ]
     },
     "execution_count": 12,
     "metadata": {},
     "output_type": "execute_result"
    }
   ],
   "source": [
    "pt.calculate_cpx_only_temp(cpx_comps=CpxT, equationT=\"T_Put2008_eq32d_subsol\",\n",
    "         P=5)"
   ]
  },
  {
   "cell_type": "code",
   "execution_count": 13,
   "id": "8d4324df-277e-4071-9aee-2264d77382e8",
   "metadata": {},
   "outputs": [
    {
     "data": {
      "text/html": [
       "<div>\n",
       "<style scoped>\n",
       "    .dataframe tbody tr th:only-of-type {\n",
       "        vertical-align: middle;\n",
       "    }\n",
       "\n",
       "    .dataframe tbody tr th {\n",
       "        vertical-align: top;\n",
       "    }\n",
       "\n",
       "    .dataframe thead th {\n",
       "        text-align: right;\n",
       "    }\n",
       "</style>\n",
       "<table border=\"1\" class=\"dataframe\">\n",
       "  <thead>\n",
       "    <tr style=\"text-align: right;\">\n",
       "      <th></th>\n",
       "      <th>P_kbar_calc</th>\n",
       "      <th>T_K_calc</th>\n",
       "      <th>Delta_P_kbar_Iter</th>\n",
       "      <th>Delta_T_K_Iter</th>\n",
       "      <th>Sample_ID_Cpx</th>\n",
       "      <th>SiO2_Cpx</th>\n",
       "      <th>TiO2_Cpx</th>\n",
       "      <th>Al2O3_Cpx</th>\n",
       "      <th>FeOt_Cpx</th>\n",
       "      <th>MnO_Cpx</th>\n",
       "      <th>MgO_Cpx</th>\n",
       "      <th>CaO_Cpx</th>\n",
       "      <th>Na2O_Cpx</th>\n",
       "      <th>K2O_Cpx</th>\n",
       "      <th>Cr2O3_Cpx</th>\n",
       "    </tr>\n",
       "  </thead>\n",
       "  <tbody>\n",
       "    <tr>\n",
       "      <th>0</th>\n",
       "      <td>4.774949</td>\n",
       "      <td>1250.311691</td>\n",
       "      <td>0.0</td>\n",
       "      <td>0.0</td>\n",
       "      <td>test</td>\n",
       "      <td>49</td>\n",
       "      <td>0.3</td>\n",
       "      <td>4.89</td>\n",
       "      <td>5.71</td>\n",
       "      <td>0.165</td>\n",
       "      <td>16.89</td>\n",
       "      <td>20.319</td>\n",
       "      <td>0.319</td>\n",
       "      <td>0.1</td>\n",
       "      <td>0.11</td>\n",
       "    </tr>\n",
       "  </tbody>\n",
       "</table>\n",
       "</div>"
      ],
      "text/plain": [
       "   P_kbar_calc     T_K_calc  Delta_P_kbar_Iter  Delta_T_K_Iter Sample_ID_Cpx  \\\n",
       "0     4.774949  1250.311691                0.0             0.0          test   \n",
       "\n",
       "   SiO2_Cpx  TiO2_Cpx  Al2O3_Cpx  FeOt_Cpx  MnO_Cpx  MgO_Cpx  CaO_Cpx  \\\n",
       "0        49       0.3       4.89      5.71    0.165    16.89   20.319   \n",
       "\n",
       "   Na2O_Cpx  K2O_Cpx  Cr2O3_Cpx  \n",
       "0     0.319      0.1       0.11  "
      ]
     },
     "execution_count": 13,
     "metadata": {},
     "output_type": "execute_result"
    }
   ],
   "source": [
    "pt.calculate_cpx_only_press_temp(cpx_comps=CpxT, equationT=\"T_Put2008_eq32d_subsol\",\n",
    "         equationP=\"P_Put2008_eq32a\")"
   ]
  },
  {
   "cell_type": "code",
   "execution_count": 14,
   "id": "a2dfd7fa-b914-44e8-845a-53aff1f9c636",
   "metadata": {},
   "outputs": [
    {
     "data": {
      "text/plain": [
       "0    3.668079\n",
       "dtype: float64"
      ]
     },
     "execution_count": 14,
     "metadata": {},
     "output_type": "execute_result"
    }
   ],
   "source": [
    "pt.calculate_cpx_only_press(cpx_comps=CpxT, equationP=\"P_Put2008_eq32a\",\n",
    "         T=1300)"
   ]
  },
  {
   "cell_type": "code",
   "execution_count": 15,
   "id": "c0f8e2b1-4859-472c-8d34-6c4abf4c88c8",
   "metadata": {},
   "outputs": [
    {
     "data": {
      "text/plain": [
       "0    5.607393\n",
       "Name: P_kbar_calc, dtype: float64"
      ]
     },
     "execution_count": 15,
     "metadata": {},
     "output_type": "execute_result"
    }
   ],
   "source": [
    "pt.calculate_cpx_only_press(cpx_comps=CpxT, equationP=\"P_Petrelli2020_Cpx_only\").P_kbar_calc"
   ]
  },
  {
   "cell_type": "code",
   "execution_count": 16,
   "id": "43b3486b-b677-46bb-9189-2e0c4916cdf0",
   "metadata": {},
   "outputs": [
    {
     "name": "stderr",
     "output_type": "stream",
     "text": [
      "c:\\Users\\penny\\anaconda3\\Lib\\site-packages\\sklearn\\base.py:347: InconsistentVersionWarning: Trying to unpickle estimator StandardScaler from version 1.0.2 when using version 1.3.0. This might lead to breaking code or invalid results. Use at your own risk. For more info please refer to:\n",
      "https://scikit-learn.org/stable/model_persistence.html#security-maintainability-limitations\n",
      "  warnings.warn(\n",
      "c:\\Users\\penny\\anaconda3\\Lib\\site-packages\\sklearn\\base.py:347: InconsistentVersionWarning: Trying to unpickle estimator ExtraTreeRegressor from version 1.0.2 when using version 1.3.0. This might lead to breaking code or invalid results. Use at your own risk. For more info please refer to:\n",
      "https://scikit-learn.org/stable/model_persistence.html#security-maintainability-limitations\n",
      "  warnings.warn(\n"
     ]
    },
    {
     "ename": "ValueError",
     "evalue": "node array from the pickle has an incompatible dtype:\n- expected: {'names': ['left_child', 'right_child', 'feature', 'threshold', 'impurity', 'n_node_samples', 'weighted_n_node_samples', 'missing_go_to_left'], 'formats': ['<i8', '<i8', '<i8', '<f8', '<f8', '<i8', '<f8', 'u1'], 'offsets': [0, 8, 16, 24, 32, 40, 48, 56], 'itemsize': 64}\n- got     : [('left_child', '<i8'), ('right_child', '<i8'), ('feature', '<i8'), ('threshold', '<f8'), ('impurity', '<f8'), ('n_node_samples', '<i8'), ('weighted_n_node_samples', '<f8')]",
     "output_type": "error",
     "traceback": [
      "\u001b[1;31m---------------------------------------------------------------------------\u001b[0m",
      "\u001b[1;31mValueError\u001b[0m                                Traceback (most recent call last)",
      "\u001b[1;32mc:\\Users\\penny\\OneDrive\\Documents\\Postdoc_missing\\MyBarometers\\Thermobar_outer\\Unit_tests\\cpx_test_values.ipynb Cell 8\u001b[0m line \u001b[0;36m1\n\u001b[1;32m----> <a href='vscode-notebook-cell:/c%3A/Users/penny/OneDrive/Documents/Postdoc_missing/MyBarometers/Thermobar_outer/Unit_tests/cpx_test_values.ipynb#X10sZmlsZQ%3D%3D?line=0'>1</a>\u001b[0m pt\u001b[39m.\u001b[39mcalculate_cpx_only_press(cpx_comps\u001b[39m=\u001b[39mCpxT, equationP\u001b[39m=\u001b[39m\u001b[39m\"\u001b[39m\u001b[39mP_Petrelli2020_Cpx_only_withH2O\u001b[39m\u001b[39m\"\u001b[39m, H2O_Liq\u001b[39m=\u001b[39m\u001b[39m5\u001b[39m)\u001b[39m.\u001b[39mP_kbar_calc\n",
      "File \u001b[1;32mc:\\users\\penny\\onedrive\\documents\\postdoc_missing\\mybarometers\\thermobar_outer\\src\\Thermobar\\clinopyroxene_thermobarometry.py:3219\u001b[0m, in \u001b[0;36mcalculate_cpx_only_press\u001b[1;34m(cpx_comps, equationP, T, H2O_Liq, return_input)\u001b[0m\n\u001b[0;32m   3211\u001b[0m \u001b[39m# if\u001b[39;00m\n\u001b[0;32m   3212\u001b[0m \u001b[39m#     df_stats=P_Petrelli2020_Cpx_only_withH2O(cpx_comps=cpx_comps_c)\u001b[39;00m\n\u001b[0;32m   3213\u001b[0m \u001b[39m#     P_kbar=df_stats['P_kbar_calc']\u001b[39;00m\n\u001b[1;32m   (...)\u001b[0m\n\u001b[0;32m   3216\u001b[0m \u001b[39m#     df_stats=P_Petrelli2020_Cpx_only_noCr(cpx_comps=cpx_comps_c)\u001b[39;00m\n\u001b[0;32m   3217\u001b[0m \u001b[39m#     P_kbar=df_stats['P_kbar_calc']\u001b[39;00m\n\u001b[0;32m   3218\u001b[0m \u001b[39mif\u001b[39;00m (\u001b[39m'\u001b[39m\u001b[39mPetrelli\u001b[39m\u001b[39m'\u001b[39m \u001b[39min\u001b[39;00m equationP \u001b[39mor\u001b[39;00m \u001b[39m\"\u001b[39m\u001b[39mJorgenson\u001b[39m\u001b[39m\"\u001b[39m \u001b[39min\u001b[39;00m equationP) \u001b[39mand\u001b[39;00m \u001b[39m\"\u001b[39m\u001b[39monnx\u001b[39m\u001b[39m\"\u001b[39m \u001b[39mnot\u001b[39;00m \u001b[39min\u001b[39;00m equationP:\n\u001b[1;32m-> 3219\u001b[0m     df_stats\u001b[39m=\u001b[39mfunc(cpx_comps\u001b[39m=\u001b[39mcpx_comps_c)\n\u001b[0;32m   3221\u001b[0m \u001b[39melif\u001b[39;00m (\u001b[39m'\u001b[39m\u001b[39mPetrelli\u001b[39m\u001b[39m'\u001b[39m \u001b[39min\u001b[39;00m equationP \u001b[39mor\u001b[39;00m \u001b[39m\"\u001b[39m\u001b[39mJorgenson\u001b[39m\u001b[39m\"\u001b[39m \u001b[39min\u001b[39;00m equationP) \u001b[39mand\u001b[39;00m \u001b[39m\"\u001b[39m\u001b[39monnx\u001b[39m\u001b[39m\"\u001b[39m \u001b[39min\u001b[39;00m equationP:\n\u001b[0;32m   3222\u001b[0m     P_kbar\u001b[39m=\u001b[39mfunc(cpx_comps\u001b[39m=\u001b[39mcpx_comps_c)\n",
      "File \u001b[1;32mc:\\users\\penny\\onedrive\\documents\\postdoc_missing\\mybarometers\\thermobar_outer\\src\\Thermobar\\clinopyroxene_thermobarometry.py:1378\u001b[0m, in \u001b[0;36mP_Petrelli2020_Cpx_only_withH2O\u001b[1;34m(T, cpx_comps)\u001b[0m\n\u001b[0;32m   1375\u001b[0m     scaler_P2020_Cpx_only\u001b[39m=\u001b[39mload(f)\n\u001b[0;32m   1377\u001b[0m \u001b[39mwith\u001b[39;00m \u001b[39mopen\u001b[39m(Thermobar_dir\u001b[39m/\u001b[39m\u001b[39m'\u001b[39m\u001b[39mETR_Press_Petrelli2020_Cpx_Only_H2O_Jan22.pkl\u001b[39m\u001b[39m'\u001b[39m, \u001b[39m'\u001b[39m\u001b[39mrb\u001b[39m\u001b[39m'\u001b[39m) \u001b[39mas\u001b[39;00m f:\n\u001b[1;32m-> 1378\u001b[0m     ETR_Press_P2020_Cpx_only\u001b[39m=\u001b[39mjoblib\u001b[39m.\u001b[39mload(f)\n\u001b[0;32m   1382\u001b[0m x_test_scaled\u001b[39m=\u001b[39mscaler_P2020_Cpx_only\u001b[39m.\u001b[39mtransform(x_test)\n\u001b[0;32m   1383\u001b[0m Pred_P_kbar\u001b[39m=\u001b[39mETR_Press_P2020_Cpx_only\u001b[39m.\u001b[39mpredict(x_test_scaled)\n",
      "File \u001b[1;32mc:\\Users\\penny\\anaconda3\\Lib\\site-packages\\joblib\\numpy_pickle.py:648\u001b[0m, in \u001b[0;36mload\u001b[1;34m(filename, mmap_mode)\u001b[0m\n\u001b[0;32m    646\u001b[0m     filename \u001b[39m=\u001b[39m \u001b[39mgetattr\u001b[39m(fobj, \u001b[39m'\u001b[39m\u001b[39mname\u001b[39m\u001b[39m'\u001b[39m, \u001b[39m'\u001b[39m\u001b[39m'\u001b[39m)\n\u001b[0;32m    647\u001b[0m     \u001b[39mwith\u001b[39;00m _read_fileobject(fobj, filename, mmap_mode) \u001b[39mas\u001b[39;00m fobj:\n\u001b[1;32m--> 648\u001b[0m         obj \u001b[39m=\u001b[39m _unpickle(fobj)\n\u001b[0;32m    649\u001b[0m \u001b[39melse\u001b[39;00m:\n\u001b[0;32m    650\u001b[0m     \u001b[39mwith\u001b[39;00m \u001b[39mopen\u001b[39m(filename, \u001b[39m'\u001b[39m\u001b[39mrb\u001b[39m\u001b[39m'\u001b[39m) \u001b[39mas\u001b[39;00m f:\n",
      "File \u001b[1;32mc:\\Users\\penny\\anaconda3\\Lib\\site-packages\\joblib\\numpy_pickle.py:577\u001b[0m, in \u001b[0;36m_unpickle\u001b[1;34m(fobj, filename, mmap_mode)\u001b[0m\n\u001b[0;32m    575\u001b[0m obj \u001b[39m=\u001b[39m \u001b[39mNone\u001b[39;00m\n\u001b[0;32m    576\u001b[0m \u001b[39mtry\u001b[39;00m:\n\u001b[1;32m--> 577\u001b[0m     obj \u001b[39m=\u001b[39m unpickler\u001b[39m.\u001b[39mload()\n\u001b[0;32m    578\u001b[0m     \u001b[39mif\u001b[39;00m unpickler\u001b[39m.\u001b[39mcompat_mode:\n\u001b[0;32m    579\u001b[0m         warnings\u001b[39m.\u001b[39mwarn(\u001b[39m\"\u001b[39m\u001b[39mThe file \u001b[39m\u001b[39m'\u001b[39m\u001b[39m%s\u001b[39;00m\u001b[39m'\u001b[39m\u001b[39m has been generated with a \u001b[39m\u001b[39m\"\u001b[39m\n\u001b[0;32m    580\u001b[0m                       \u001b[39m\"\u001b[39m\u001b[39mjoblib version less than 0.10. \u001b[39m\u001b[39m\"\u001b[39m\n\u001b[0;32m    581\u001b[0m                       \u001b[39m\"\u001b[39m\u001b[39mPlease regenerate this pickle file.\u001b[39m\u001b[39m\"\u001b[39m\n\u001b[0;32m    582\u001b[0m                       \u001b[39m%\u001b[39m filename,\n\u001b[0;32m    583\u001b[0m                       \u001b[39mDeprecationWarning\u001b[39;00m, stacklevel\u001b[39m=\u001b[39m\u001b[39m3\u001b[39m)\n",
      "File \u001b[1;32mc:\\Users\\penny\\anaconda3\\Lib\\pickle.py:1213\u001b[0m, in \u001b[0;36m_Unpickler.load\u001b[1;34m(self)\u001b[0m\n\u001b[0;32m   1211\u001b[0m             \u001b[39mraise\u001b[39;00m \u001b[39mEOFError\u001b[39;00m\n\u001b[0;32m   1212\u001b[0m         \u001b[39massert\u001b[39;00m \u001b[39misinstance\u001b[39m(key, bytes_types)\n\u001b[1;32m-> 1213\u001b[0m         dispatch[key[\u001b[39m0\u001b[39m]](\u001b[39mself\u001b[39m)\n\u001b[0;32m   1214\u001b[0m \u001b[39mexcept\u001b[39;00m _Stop \u001b[39mas\u001b[39;00m stopinst:\n\u001b[0;32m   1215\u001b[0m     \u001b[39mreturn\u001b[39;00m stopinst\u001b[39m.\u001b[39mvalue\n",
      "File \u001b[1;32mc:\\Users\\penny\\anaconda3\\Lib\\site-packages\\joblib\\numpy_pickle.py:402\u001b[0m, in \u001b[0;36mNumpyUnpickler.load_build\u001b[1;34m(self)\u001b[0m\n\u001b[0;32m    394\u001b[0m \u001b[39mdef\u001b[39;00m \u001b[39mload_build\u001b[39m(\u001b[39mself\u001b[39m):\n\u001b[0;32m    395\u001b[0m \u001b[39m    \u001b[39m\u001b[39m\"\"\"Called to set the state of a newly created object.\u001b[39;00m\n\u001b[0;32m    396\u001b[0m \n\u001b[0;32m    397\u001b[0m \u001b[39m    We capture it to replace our place-holder objects, NDArrayWrapper or\u001b[39;00m\n\u001b[1;32m   (...)\u001b[0m\n\u001b[0;32m    400\u001b[0m \u001b[39m    NDArrayWrapper is used for backward compatibility with joblib <= 0.9.\u001b[39;00m\n\u001b[0;32m    401\u001b[0m \u001b[39m    \"\"\"\u001b[39;00m\n\u001b[1;32m--> 402\u001b[0m     Unpickler\u001b[39m.\u001b[39mload_build(\u001b[39mself\u001b[39m)\n\u001b[0;32m    404\u001b[0m     \u001b[39m# For backward compatibility, we support NDArrayWrapper objects.\u001b[39;00m\n\u001b[0;32m    405\u001b[0m     \u001b[39mif\u001b[39;00m \u001b[39misinstance\u001b[39m(\u001b[39mself\u001b[39m\u001b[39m.\u001b[39mstack[\u001b[39m-\u001b[39m\u001b[39m1\u001b[39m], (NDArrayWrapper, NumpyArrayWrapper)):\n",
      "File \u001b[1;32mc:\\Users\\penny\\anaconda3\\Lib\\pickle.py:1718\u001b[0m, in \u001b[0;36m_Unpickler.load_build\u001b[1;34m(self)\u001b[0m\n\u001b[0;32m   1716\u001b[0m setstate \u001b[39m=\u001b[39m \u001b[39mgetattr\u001b[39m(inst, \u001b[39m\"\u001b[39m\u001b[39m__setstate__\u001b[39m\u001b[39m\"\u001b[39m, \u001b[39mNone\u001b[39;00m)\n\u001b[0;32m   1717\u001b[0m \u001b[39mif\u001b[39;00m setstate \u001b[39mis\u001b[39;00m \u001b[39mnot\u001b[39;00m \u001b[39mNone\u001b[39;00m:\n\u001b[1;32m-> 1718\u001b[0m     setstate(state)\n\u001b[0;32m   1719\u001b[0m     \u001b[39mreturn\u001b[39;00m\n\u001b[0;32m   1720\u001b[0m slotstate \u001b[39m=\u001b[39m \u001b[39mNone\u001b[39;00m\n",
      "File \u001b[1;32msklearn\\tree\\_tree.pyx:714\u001b[0m, in \u001b[0;36msklearn.tree._tree.Tree.__setstate__\u001b[1;34m()\u001b[0m\n",
      "File \u001b[1;32msklearn\\tree\\_tree.pyx:1418\u001b[0m, in \u001b[0;36msklearn.tree._tree._check_node_ndarray\u001b[1;34m()\u001b[0m\n",
      "\u001b[1;31mValueError\u001b[0m: node array from the pickle has an incompatible dtype:\n- expected: {'names': ['left_child', 'right_child', 'feature', 'threshold', 'impurity', 'n_node_samples', 'weighted_n_node_samples', 'missing_go_to_left'], 'formats': ['<i8', '<i8', '<i8', '<f8', '<f8', '<i8', '<f8', 'u1'], 'offsets': [0, 8, 16, 24, 32, 40, 48, 56], 'itemsize': 64}\n- got     : [('left_child', '<i8'), ('right_child', '<i8'), ('feature', '<i8'), ('threshold', '<f8'), ('impurity', '<f8'), ('n_node_samples', '<i8'), ('weighted_n_node_samples', '<f8')]"
     ]
    }
   ],
   "source": [
    "pt.calculate_cpx_only_press(cpx_comps=CpxT, equationP=\"P_Petrelli2020_Cpx_only_withH2O\", H2O_Liq=5).P_kbar_calc"
   ]
  },
  {
   "cell_type": "code",
   "execution_count": null,
   "id": "0c6f695e-65c1-4bab-8593-eed5d72a412f",
   "metadata": {},
   "outputs": [
    {
     "data": {
      "text/plain": [
       "0    5.616769\n",
       "Name: P_kbar_calc, dtype: float64"
      ]
     },
     "execution_count": 9,
     "metadata": {},
     "output_type": "execute_result"
    }
   ],
   "source": [
    "pt.calculate_cpx_only_press(cpx_comps=CpxT, equationP=\"P_Petrelli2020_Cpx_only_withH2O\", \n",
    "                            H2O_Liq=5).P_kbar_calc"
   ]
  },
  {
   "cell_type": "code",
   "execution_count": null,
   "id": "758bbe7f-6d3a-4770-ad37-62e7b856a0be",
   "metadata": {},
   "outputs": [
    {
     "data": {
      "text/plain": [
       "1377.2655555555673"
      ]
     },
     "execution_count": 10,
     "metadata": {},
     "output_type": "execute_result"
    }
   ],
   "source": [
    "pt.calculate_cpx_only_temp(cpx_comps=CpxT, equationT=\"T_Petrelli2020_Cpx_only\").T_K_calc[0]"
   ]
  },
  {
   "cell_type": "code",
   "execution_count": null,
   "id": "59de6500-92f2-4b61-ab77-e624d780720c",
   "metadata": {},
   "outputs": [
    {
     "data": {
      "text/plain": [
       "1377.2655555555673"
      ]
     },
     "execution_count": 11,
     "metadata": {},
     "output_type": "execute_result"
    }
   ],
   "source": [
    "pt.calculate_cpx_only_temp(cpx_comps=CpxT, equationT=\"T_Petrelli2020_Cpx_only\", H2O_Liq=5).T_K_calc[0]"
   ]
  },
  {
   "cell_type": "code",
   "execution_count": null,
   "id": "300f2060-00bc-49e0-839f-a0fe88f32c53",
   "metadata": {},
   "outputs": [
    {
     "data": {
      "text/plain": [
       "1333.0700000000113"
      ]
     },
     "execution_count": 12,
     "metadata": {},
     "output_type": "execute_result"
    }
   ],
   "source": [
    "pt.calculate_cpx_only_temp(cpx_comps=CpxT, equationT=\"T_Petrelli2020_Cpx_only_withH2O\", H2O_Liq=5).T_K_calc[0]"
   ]
  },
  {
   "cell_type": "code",
   "execution_count": null,
   "id": "4ae96eae-f6e8-40cb-86a1-77d12bf6e355",
   "metadata": {},
   "outputs": [
    {
     "name": "stdout",
     "output_type": "stream",
     "text": [
      "Help on function calculate_cpx_only_press in module Thermobar.clinopyroxene_thermobarometry:\n",
      "\n",
      "calculate_cpx_only_press(*, cpx_comps, equationP, T=None, H2O_Liq=None, return_input=False)\n",
      "    Clinopyroxene only barometry. Enter a panda dataframe with Cpx compositions,\n",
      "    returns a pressure in kbar.\n",
      "    \n",
      "    Parameters\n",
      "    -------\n",
      "    \n",
      "    cpx_comps: pandas.DataFrame\n",
      "        Clinopyroxene compositions with column headings SiO2_Cpx, MgO_Cpx etc.\n",
      "    \n",
      "    equationP: str\n",
      "        | P_Nimis1999_BA (T-independent)\n",
      "        | P_Put2008_eq32a (T-dependent)\n",
      "        | P_Put2008_eq32b (T-dependent, H2O dependent)\n",
      "        | P_Petrelli2020_Cpx_only (T_independent, H2O-independent)\n",
      "        | P_Petrelli2020_Cpx_only_withH2O (T_independent, H2O-dependent)\n",
      "        | P_Wang2021_eq1 (T_independent, H2O-independent)\n",
      "        | P_Jorgenson2022_Cpx_only (T_independent, H2O-independent)\n",
      "        | P_Jorgenson2022_Cpx_only_Norm (T_independent, H2O-independent)* v similar, uses standard scalar\n",
      "    \n",
      "    \n",
      "    \n",
      "    T: float, int, pandas.Series, str  (\"Solve\")\n",
      "        Temperature in Kelvin\n",
      "        Only needed for T-sensitive barometers.\n",
      "        If enter T=\"Solve\", returns a partial function\n",
      "        Else, enter an integer, float, or panda series\n",
      "    \n",
      "    return_input: bool\n",
      "        If True, returns cpx_comps as well.\n",
      "    \n",
      "    Returns\n",
      "    -------\n",
      "    pandas series\n",
      "       Pressure in kbar\n",
      "\n"
     ]
    }
   ],
   "source": [
    "help(pt.calculate_cpx_only_press)"
   ]
  },
  {
   "cell_type": "code",
   "execution_count": null,
   "id": "7177dfd3-3130-43c1-b6b7-2de813f7e382",
   "metadata": {},
   "outputs": [
    {
     "data": {
      "text/plain": [
       "0    3.668079\n",
       "dtype: float64"
      ]
     },
     "execution_count": 14,
     "metadata": {},
     "output_type": "execute_result"
    }
   ],
   "source": [
    "pt.calculate_cpx_only_press(cpx_comps=CpxT, equationP=\"P_Put2008_eq32a\",\n",
    "         T=1300)"
   ]
  },
  {
   "cell_type": "code",
   "execution_count": null,
   "id": "b823bb8f-2304-48b8-9b2d-8fa40cd3255a",
   "metadata": {},
   "outputs": [
    {
     "name": "stderr",
     "output_type": "stream",
     "text": [
      "g:\\my drive\\postdoc\\pymme\\mybarometers\\thermobar_outer\\src\\Thermobar\\clinopyroxene_thermobarometry.py:3017: UserWarning: This Cpx-only barometer is sensitive to H2O content of the liquid.  By default, this function uses H2O=0 wt%, else you can enter a value of H2O_Liq in the function\n",
      "  w.warn('This Cpx-only barometer is sensitive to H2O content of the liquid. '\n"
     ]
    },
    {
     "data": {
      "text/plain": [
       "0   -1.575924\n",
       "dtype: float64"
      ]
     },
     "execution_count": 15,
     "metadata": {},
     "output_type": "execute_result"
    }
   ],
   "source": [
    "pt.calculate_cpx_only_press(cpx_comps=CpxT, equationP=\"P_Put2008_eq32b\",\n",
    "         T=1300)"
   ]
  },
  {
   "cell_type": "code",
   "execution_count": null,
   "id": "1101ebce-3253-4a4f-830e-bfa8936c68be",
   "metadata": {},
   "outputs": [
    {
     "data": {
      "text/plain": [
       "0    1.142076\n",
       "dtype: float64"
      ]
     },
     "execution_count": 16,
     "metadata": {},
     "output_type": "execute_result"
    }
   ],
   "source": [
    "pt.calculate_cpx_only_press(cpx_comps=CpxT, equationP=\"P_Put2008_eq32b\",\n",
    "         T=1300, H2O_Liq=6)"
   ]
  },
  {
   "cell_type": "code",
   "execution_count": null,
   "id": "0902c31b-379b-4ace-a534-9de5180c91b6",
   "metadata": {},
   "outputs": [
    {
     "data": {
      "text/plain": [
       "0    1479.055921\n",
       "dtype: float64"
      ]
     },
     "execution_count": 17,
     "metadata": {},
     "output_type": "execute_result"
    }
   ],
   "source": [
    "pt.calculate_cpx_only_temp(cpx_comps=CpxT, equationT=\"T_Put2008_eq32d\",\n",
    "         P=5)"
   ]
  },
  {
   "cell_type": "code",
   "execution_count": null,
   "id": "ec8834b6-b530-4992-9c24-ae4d59da1d68",
   "metadata": {},
   "outputs": [
    {
     "data": {
      "text/plain": [
       "0    1252.508521\n",
       "dtype: float64"
      ]
     },
     "execution_count": 18,
     "metadata": {},
     "output_type": "execute_result"
    }
   ],
   "source": [
    "pt.calculate_cpx_only_temp(cpx_comps=CpxT, equationT=\"T_Put2008_eq32d_subsol\",\n",
    "         P=5)"
   ]
  },
  {
   "cell_type": "code",
   "execution_count": null,
   "id": "7aefce30-c3f0-49b7-a2c5-7214a4144fa2",
   "metadata": {},
   "outputs": [
    {
     "data": {
      "text/html": [
       "<div>\n",
       "<style scoped>\n",
       "    .dataframe tbody tr th:only-of-type {\n",
       "        vertical-align: middle;\n",
       "    }\n",
       "\n",
       "    .dataframe tbody tr th {\n",
       "        vertical-align: top;\n",
       "    }\n",
       "\n",
       "    .dataframe thead th {\n",
       "        text-align: right;\n",
       "    }\n",
       "</style>\n",
       "<table border=\"1\" class=\"dataframe\">\n",
       "  <thead>\n",
       "    <tr style=\"text-align: right;\">\n",
       "      <th></th>\n",
       "      <th>P_kbar_calc</th>\n",
       "      <th>T_K_calc</th>\n",
       "      <th>Delta_P_kbar_Iter</th>\n",
       "      <th>Delta_T_K_Iter</th>\n",
       "      <th>Sample_ID_Cpx</th>\n",
       "      <th>SiO2_Cpx</th>\n",
       "      <th>TiO2_Cpx</th>\n",
       "      <th>Al2O3_Cpx</th>\n",
       "      <th>FeOt_Cpx</th>\n",
       "      <th>MnO_Cpx</th>\n",
       "      <th>MgO_Cpx</th>\n",
       "      <th>CaO_Cpx</th>\n",
       "      <th>Na2O_Cpx</th>\n",
       "      <th>K2O_Cpx</th>\n",
       "      <th>Cr2O3_Cpx</th>\n",
       "    </tr>\n",
       "  </thead>\n",
       "  <tbody>\n",
       "    <tr>\n",
       "      <th>0</th>\n",
       "      <td>5.821624</td>\n",
       "      <td>1485.955147</td>\n",
       "      <td>0.0</td>\n",
       "      <td>0.0</td>\n",
       "      <td>test</td>\n",
       "      <td>49</td>\n",
       "      <td>0.3</td>\n",
       "      <td>4.89</td>\n",
       "      <td>5.71</td>\n",
       "      <td>0.165</td>\n",
       "      <td>16.89</td>\n",
       "      <td>20.319</td>\n",
       "      <td>0.319</td>\n",
       "      <td>0.1</td>\n",
       "      <td>0.11</td>\n",
       "    </tr>\n",
       "  </tbody>\n",
       "</table>\n",
       "</div>"
      ],
      "text/plain": [
       "   P_kbar_calc     T_K_calc  Delta_P_kbar_Iter  Delta_T_K_Iter Sample_ID_Cpx  \\\n",
       "0     5.821624  1485.955147                0.0             0.0          test   \n",
       "\n",
       "   SiO2_Cpx  TiO2_Cpx  Al2O3_Cpx  FeOt_Cpx  MnO_Cpx  MgO_Cpx  CaO_Cpx  \\\n",
       "0        49       0.3       4.89      5.71    0.165    16.89   20.319   \n",
       "\n",
       "   Na2O_Cpx  K2O_Cpx  Cr2O3_Cpx  \n",
       "0     0.319      0.1       0.11  "
      ]
     },
     "execution_count": 19,
     "metadata": {},
     "output_type": "execute_result"
    }
   ],
   "source": [
    "pt.calculate_cpx_only_press_temp(cpx_comps=CpxT, equationP=\"P_Put2008_eq32a\", \n",
    "                           equationT=\"T_Put2008_eq32d\")"
   ]
  },
  {
   "cell_type": "code",
   "execution_count": null,
   "id": "67ec72a8-1023-426b-8b93-a863cd994ce5",
   "metadata": {},
   "outputs": [
    {
     "data": {
      "text/html": [
       "<div>\n",
       "<style scoped>\n",
       "    .dataframe tbody tr th:only-of-type {\n",
       "        vertical-align: middle;\n",
       "    }\n",
       "\n",
       "    .dataframe tbody tr th {\n",
       "        vertical-align: top;\n",
       "    }\n",
       "\n",
       "    .dataframe thead th {\n",
       "        text-align: right;\n",
       "    }\n",
       "</style>\n",
       "<table border=\"1\" class=\"dataframe\">\n",
       "  <thead>\n",
       "    <tr style=\"text-align: right;\">\n",
       "      <th></th>\n",
       "      <th>P_kbar_calc</th>\n",
       "      <th>T_K_calc</th>\n",
       "      <th>Delta_P_kbar_Iter</th>\n",
       "      <th>Delta_T_K_Iter</th>\n",
       "      <th>Sample_ID_Cpx</th>\n",
       "      <th>SiO2_Cpx</th>\n",
       "      <th>TiO2_Cpx</th>\n",
       "      <th>Al2O3_Cpx</th>\n",
       "      <th>FeOt_Cpx</th>\n",
       "      <th>MnO_Cpx</th>\n",
       "      <th>MgO_Cpx</th>\n",
       "      <th>CaO_Cpx</th>\n",
       "      <th>Na2O_Cpx</th>\n",
       "      <th>K2O_Cpx</th>\n",
       "      <th>Cr2O3_Cpx</th>\n",
       "    </tr>\n",
       "  </thead>\n",
       "  <tbody>\n",
       "    <tr>\n",
       "      <th>0</th>\n",
       "      <td>5.821624</td>\n",
       "      <td>1485.955147</td>\n",
       "      <td>0.0</td>\n",
       "      <td>0.0</td>\n",
       "      <td>test</td>\n",
       "      <td>49</td>\n",
       "      <td>0.3</td>\n",
       "      <td>4.89</td>\n",
       "      <td>5.71</td>\n",
       "      <td>0.165</td>\n",
       "      <td>16.89</td>\n",
       "      <td>20.319</td>\n",
       "      <td>0.319</td>\n",
       "      <td>0.1</td>\n",
       "      <td>0.11</td>\n",
       "    </tr>\n",
       "  </tbody>\n",
       "</table>\n",
       "</div>"
      ],
      "text/plain": [
       "   P_kbar_calc     T_K_calc  Delta_P_kbar_Iter  Delta_T_K_Iter Sample_ID_Cpx  \\\n",
       "0     5.821624  1485.955147                0.0             0.0          test   \n",
       "\n",
       "   SiO2_Cpx  TiO2_Cpx  Al2O3_Cpx  FeOt_Cpx  MnO_Cpx  MgO_Cpx  CaO_Cpx  \\\n",
       "0        49       0.3       4.89      5.71    0.165    16.89   20.319   \n",
       "\n",
       "   Na2O_Cpx  K2O_Cpx  Cr2O3_Cpx  \n",
       "0     0.319      0.1       0.11  "
      ]
     },
     "execution_count": 18,
     "metadata": {},
     "output_type": "execute_result"
    }
   ],
   "source": [
    "pt.calculate_cpx_only_press_temp(cpx_comps=CpxT, equationT=\"T_Put2008_eq32d\",\n",
    "       equationP=\"P_Put2008_eq32a\")"
   ]
  },
  {
   "cell_type": "markdown",
   "id": "ce440006-a7bd-40d2-b3f8-240a1b34f1b4",
   "metadata": {},
   "source": [
    "## Cpx=liq test"
   ]
  },
  {
   "cell_type": "code",
   "execution_count": null,
   "id": "3179a881-7303-4416-90c5-70194f2ddacb",
   "metadata": {},
   "outputs": [
    {
     "data": {
      "text/html": [
       "<div>\n",
       "<style scoped>\n",
       "    .dataframe tbody tr th:only-of-type {\n",
       "        vertical-align: middle;\n",
       "    }\n",
       "\n",
       "    .dataframe tbody tr th {\n",
       "        vertical-align: top;\n",
       "    }\n",
       "\n",
       "    .dataframe thead th {\n",
       "        text-align: right;\n",
       "    }\n",
       "</style>\n",
       "<table border=\"1\" class=\"dataframe\">\n",
       "  <thead>\n",
       "    <tr style=\"text-align: right;\">\n",
       "      <th></th>\n",
       "      <th>P_kbar_calc</th>\n",
       "      <th>Median_Trees</th>\n",
       "      <th>Std_Trees</th>\n",
       "      <th>IQR_Trees</th>\n",
       "    </tr>\n",
       "  </thead>\n",
       "  <tbody>\n",
       "    <tr>\n",
       "      <th>0</th>\n",
       "      <td>5.493051</td>\n",
       "      <td>2.04</td>\n",
       "      <td>5.850544</td>\n",
       "      <td>5.0</td>\n",
       "    </tr>\n",
       "  </tbody>\n",
       "</table>\n",
       "</div>"
      ],
      "text/plain": [
       "   P_kbar_calc  Median_Trees  Std_Trees  IQR_Trees\n",
       "0     5.493051          2.04   5.850544        5.0"
      ]
     },
     "execution_count": 10,
     "metadata": {},
     "output_type": "execute_result"
    }
   ],
   "source": [
    "pt.calculate_cpx_liq_press(cpx_comps=CpxT, liq_comps=LiqT, equationP=\"P_Petrelli2020_Cpx_Liq\")"
   ]
  },
  {
   "cell_type": "code",
   "execution_count": null,
   "id": "3d88fccf-4368-422e-a078-24024ac55e4e",
   "metadata": {},
   "outputs": [
    {
     "data": {
      "text/html": [
       "<div>\n",
       "<style scoped>\n",
       "    .dataframe tbody tr th:only-of-type {\n",
       "        vertical-align: middle;\n",
       "    }\n",
       "\n",
       "    .dataframe tbody tr th {\n",
       "        vertical-align: top;\n",
       "    }\n",
       "\n",
       "    .dataframe thead th {\n",
       "        text-align: right;\n",
       "    }\n",
       "</style>\n",
       "<table border=\"1\" class=\"dataframe\">\n",
       "  <thead>\n",
       "    <tr style=\"text-align: right;\">\n",
       "      <th></th>\n",
       "      <th>P_kbar_calc</th>\n",
       "      <th>Median_Trees</th>\n",
       "      <th>Std_Trees</th>\n",
       "      <th>IQR_Trees</th>\n",
       "    </tr>\n",
       "  </thead>\n",
       "  <tbody>\n",
       "    <tr>\n",
       "      <th>0</th>\n",
       "      <td>5.802869</td>\n",
       "      <td>4.043</td>\n",
       "      <td>5.734427</td>\n",
       "      <td>4.98275</td>\n",
       "    </tr>\n",
       "  </tbody>\n",
       "</table>\n",
       "</div>"
      ],
      "text/plain": [
       "   P_kbar_calc  Median_Trees  Std_Trees  IQR_Trees\n",
       "0     5.802869         4.043   5.734427    4.98275"
      ]
     },
     "execution_count": 11,
     "metadata": {},
     "output_type": "execute_result"
    }
   ],
   "source": [
    "pt.calculate_cpx_liq_press(cpx_comps=CpxT, liq_comps=LiqT, \n",
    "                           equationP=\"P_Petrelli2020_Cpx_Liq\", H2O_Liq=10)"
   ]
  },
  {
   "cell_type": "code",
   "execution_count": null,
   "id": "7c74bf45-d217-4bd1-8dfe-538b9b3af1f6",
   "metadata": {},
   "outputs": [
    {
     "data": {
      "text/html": [
       "<div>\n",
       "<style scoped>\n",
       "    .dataframe tbody tr th:only-of-type {\n",
       "        vertical-align: middle;\n",
       "    }\n",
       "\n",
       "    .dataframe tbody tr th {\n",
       "        vertical-align: top;\n",
       "    }\n",
       "\n",
       "    .dataframe thead th {\n",
       "        text-align: right;\n",
       "    }\n",
       "</style>\n",
       "<table border=\"1\" class=\"dataframe\">\n",
       "  <thead>\n",
       "    <tr style=\"text-align: right;\">\n",
       "      <th></th>\n",
       "      <th>T_K_calc</th>\n",
       "      <th>Median_Trees</th>\n",
       "      <th>Std_Trees</th>\n",
       "      <th>IQR_Trees</th>\n",
       "    </tr>\n",
       "  </thead>\n",
       "  <tbody>\n",
       "    <tr>\n",
       "      <th>0</th>\n",
       "      <td>1323.464545</td>\n",
       "      <td>1323.15</td>\n",
       "      <td>60.29682</td>\n",
       "      <td>63.0</td>\n",
       "    </tr>\n",
       "  </tbody>\n",
       "</table>\n",
       "</div>"
      ],
      "text/plain": [
       "      T_K_calc  Median_Trees  Std_Trees  IQR_Trees\n",
       "0  1323.464545       1323.15   60.29682       63.0"
      ]
     },
     "execution_count": 9,
     "metadata": {},
     "output_type": "execute_result"
    }
   ],
   "source": [
    "pt.calculate_cpx_liq_temp(cpx_comps=CpxT, liq_comps=LiqT, equationT=\"T_Petrelli2020_Cpx_Liq\")"
   ]
  },
  {
   "cell_type": "code",
   "execution_count": null,
   "id": "4de4a1ac-0a68-455a-9b83-5083bd82c7ff",
   "metadata": {},
   "outputs": [
    {
     "data": {
      "text/html": [
       "<div>\n",
       "<style scoped>\n",
       "    .dataframe tbody tr th:only-of-type {\n",
       "        vertical-align: middle;\n",
       "    }\n",
       "\n",
       "    .dataframe tbody tr th {\n",
       "        vertical-align: top;\n",
       "    }\n",
       "\n",
       "    .dataframe thead th {\n",
       "        text-align: right;\n",
       "    }\n",
       "</style>\n",
       "<table border=\"1\" class=\"dataframe\">\n",
       "  <thead>\n",
       "    <tr style=\"text-align: right;\">\n",
       "      <th></th>\n",
       "      <th>T_K_calc</th>\n",
       "      <th>Median_Trees</th>\n",
       "      <th>Std_Trees</th>\n",
       "      <th>IQR_Trees</th>\n",
       "    </tr>\n",
       "  </thead>\n",
       "  <tbody>\n",
       "    <tr>\n",
       "      <th>0</th>\n",
       "      <td>1313.382727</td>\n",
       "      <td>1312.15</td>\n",
       "      <td>60.961422</td>\n",
       "      <td>60.0</td>\n",
       "    </tr>\n",
       "  </tbody>\n",
       "</table>\n",
       "</div>"
      ],
      "text/plain": [
       "      T_K_calc  Median_Trees  Std_Trees  IQR_Trees\n",
       "0  1313.382727       1312.15  60.961422       60.0"
      ]
     },
     "execution_count": 12,
     "metadata": {},
     "output_type": "execute_result"
    }
   ],
   "source": [
    "pt.calculate_cpx_liq_temp(cpx_comps=CpxT, liq_comps=LiqT, equationT=\"T_Petrelli2020_Cpx_Liq\",\n",
    "                          H2O_Liq=10)"
   ]
  },
  {
   "cell_type": "code",
   "execution_count": null,
   "id": "7a95f504-7a9e-4283-b9d9-70706cd58e04",
   "metadata": {},
   "outputs": [
    {
     "name": "stderr",
     "output_type": "stream",
     "text": [
      "c:\\users\\penny\\onedrive - oregon state university\\postdoc\\pymme\\mybarometers\\thermobar_outer\\src\\Thermobar\\clinopyroxene_thermobarometry.py:448: UserWarning: Some Fe3Fet_Liq are greater than 0. Masotta et al. (2013) calibrate their equations assuming all Fe is Fe2+. You should set Fe3Fet_Liq=0 in the function for consistency. \n",
      "  w.warn('Some Fe3Fet_Liq are greater than 0. Masotta et al. (2013)'\n"
     ]
    },
    {
     "data": {
      "text/plain": [
       "0   -0.77056\n",
       "dtype: float64"
      ]
     },
     "execution_count": 21,
     "metadata": {},
     "output_type": "execute_result"
    }
   ],
   "source": [
    "pt.calculate_cpx_liq_press(cpx_comps=CpxT, liq_comps=LiqT, equationP=\"P_Mas2013_eqPalk1\", T=800)"
   ]
  },
  {
   "cell_type": "code",
   "execution_count": null,
   "id": "eda8b180-6f3f-4a42-8be3-8080a5b09a05",
   "metadata": {},
   "outputs": [
    {
     "data": {
      "text/plain": [
       "0    3.472161\n",
       "dtype: float64"
      ]
     },
     "execution_count": 22,
     "metadata": {},
     "output_type": "execute_result"
    }
   ],
   "source": [
    "pt.calculate_cpx_liq_press(cpx_comps=CpxT, liq_comps=LiqT, equationP=\"P_Put2008_eq32c\", T=1300)"
   ]
  },
  {
   "cell_type": "code",
   "execution_count": null,
   "id": "718a78bf-291e-48db-a10b-97d8e7d32c11",
   "metadata": {},
   "outputs": [
    {
     "name": "stdout",
     "output_type": "stream",
     "text": [
      "Using Fe3FeT from input file to calculate Kd Fe-Mg\n"
     ]
    },
    {
     "data": {
      "text/html": [
       "<div>\n",
       "<style scoped>\n",
       "    .dataframe tbody tr th:only-of-type {\n",
       "        vertical-align: middle;\n",
       "    }\n",
       "\n",
       "    .dataframe tbody tr th {\n",
       "        vertical-align: top;\n",
       "    }\n",
       "\n",
       "    .dataframe thead th {\n",
       "        text-align: right;\n",
       "    }\n",
       "</style>\n",
       "<table border=\"1\" class=\"dataframe\">\n",
       "  <thead>\n",
       "    <tr style=\"text-align: right;\">\n",
       "      <th></th>\n",
       "      <th>P_kbar_calc</th>\n",
       "      <th>T_K_calc</th>\n",
       "      <th>Eq Tests Neave2017?</th>\n",
       "      <th>Delta_Kd_Put2008</th>\n",
       "      <th>Delta_Kd_Mas2013</th>\n",
       "      <th>Delta_EnFs</th>\n",
       "      <th>Delta_CaTs</th>\n",
       "      <th>Delta_DiHd</th>\n",
       "      <th>Sample_ID_Liq</th>\n",
       "      <th>SiO2_Liq</th>\n",
       "      <th>TiO2_Liq</th>\n",
       "      <th>Al2O3_Liq</th>\n",
       "      <th>FeOt_Liq</th>\n",
       "      <th>MnO_Liq</th>\n",
       "      <th>MgO_Liq</th>\n",
       "      <th>CaO_Liq</th>\n",
       "      <th>Na2O_Liq</th>\n",
       "      <th>K2O_Liq</th>\n",
       "      <th>Cr2O3_Liq</th>\n",
       "      <th>P2O5_Liq</th>\n",
       "      <th>H2O_Liq</th>\n",
       "      <th>Fe3Fet_Liq</th>\n",
       "      <th>NiO_Liq</th>\n",
       "      <th>CoO_Liq</th>\n",
       "      <th>CO2_Liq</th>\n",
       "      <th>SiO2_Liq_mol_frac</th>\n",
       "      <th>MgO_Liq_mol_frac</th>\n",
       "      <th>MnO_Liq_mol_frac</th>\n",
       "      <th>FeOt_Liq_mol_frac</th>\n",
       "      <th>CaO_Liq_mol_frac</th>\n",
       "      <th>Al2O3_Liq_mol_frac</th>\n",
       "      <th>Na2O_Liq_mol_frac</th>\n",
       "      <th>K2O_Liq_mol_frac</th>\n",
       "      <th>TiO2_Liq_mol_frac</th>\n",
       "      <th>P2O5_Liq_mol_frac</th>\n",
       "      <th>Cr2O3_Liq_mol_frac</th>\n",
       "      <th>SiO2_Liq_cat_frac</th>\n",
       "      <th>MgO_Liq_cat_frac</th>\n",
       "      <th>MnO_Liq_cat_frac</th>\n",
       "      <th>FeOt_Liq_cat_frac</th>\n",
       "      <th>CaO_Liq_cat_frac</th>\n",
       "      <th>Al2O3_Liq_cat_frac</th>\n",
       "      <th>Na2O_Liq_cat_frac</th>\n",
       "      <th>K2O_Liq_cat_frac</th>\n",
       "      <th>TiO2_Liq_cat_frac</th>\n",
       "      <th>P2O5_Liq_cat_frac</th>\n",
       "      <th>Cr2O3_Liq_cat_frac</th>\n",
       "      <th>FeO_Liq_cat_frac</th>\n",
       "      <th>Mg_Number_Liq_NoFe3</th>\n",
       "      <th>Mg_Number_Liq_Fe3</th>\n",
       "      <th>Sample_ID_Cpx</th>\n",
       "      <th>SiO2_Cpx</th>\n",
       "      <th>TiO2_Cpx</th>\n",
       "      <th>Al2O3_Cpx</th>\n",
       "      <th>FeOt_Cpx</th>\n",
       "      <th>MnO_Cpx</th>\n",
       "      <th>MgO_Cpx</th>\n",
       "      <th>CaO_Cpx</th>\n",
       "      <th>Na2O_Cpx</th>\n",
       "      <th>K2O_Cpx</th>\n",
       "      <th>Cr2O3_Cpx</th>\n",
       "      <th>SiO2_Cpx_cat_6ox</th>\n",
       "      <th>MgO_Cpx_cat_6ox</th>\n",
       "      <th>FeOt_Cpx_cat_6ox</th>\n",
       "      <th>CaO_Cpx_cat_6ox</th>\n",
       "      <th>Al2O3_Cpx_cat_6ox</th>\n",
       "      <th>Na2O_Cpx_cat_6ox</th>\n",
       "      <th>K2O_Cpx_cat_6ox</th>\n",
       "      <th>MnO_Cpx_cat_6ox</th>\n",
       "      <th>TiO2_Cpx_cat_6ox</th>\n",
       "      <th>Cr2O3_Cpx_cat_6ox</th>\n",
       "      <th>oxy_renorm_factor</th>\n",
       "      <th>Al_IV_cat_6ox</th>\n",
       "      <th>Al_VI_cat_6ox</th>\n",
       "      <th>Cation_Sum_Cpx</th>\n",
       "      <th>Ca_CaMgFe</th>\n",
       "      <th>CrCaTs</th>\n",
       "      <th>a_cpx_En</th>\n",
       "      <th>Mgno_Cpx</th>\n",
       "      <th>Jd</th>\n",
       "      <th>CaTs</th>\n",
       "      <th>CaTi</th>\n",
       "      <th>DiHd_1996</th>\n",
       "      <th>EnFs</th>\n",
       "      <th>DiHd_2003</th>\n",
       "      <th>Di_Cpx</th>\n",
       "      <th>FeIII_Wang21</th>\n",
       "      <th>FeII_Wang21</th>\n",
       "      <th>Kd_Fe_Mg_Fe2</th>\n",
       "      <th>Kd_Fe_Mg_Fet</th>\n",
       "      <th>lnK_Jd_liq</th>\n",
       "      <th>lnK_Jd_DiHd_liq_1996</th>\n",
       "      <th>lnK_Jd_DiHd_liq_2003</th>\n",
       "      <th>Kd_Fe_Mg_IdealWB</th>\n",
       "      <th>Mgno_Liq_noFe3</th>\n",
       "      <th>Mgno_Liq_Fe2</th>\n",
       "      <th>DeltaFeMg_WB</th>\n",
       "      <th>Kd_Ideal_Put</th>\n",
       "      <th>Kd_Ideal_Masotta</th>\n",
       "      <th>DiHd_Pred_Mollo</th>\n",
       "      <th>EnFs_Pred_Mollo</th>\n",
       "      <th>CaTs_Pred_P1999</th>\n",
       "      <th>CrCaTS_Pred_P1999</th>\n",
       "    </tr>\n",
       "  </thead>\n",
       "  <tbody>\n",
       "    <tr>\n",
       "      <th>0</th>\n",
       "      <td>3.472161</td>\n",
       "      <td>1300</td>\n",
       "      <td>False</td>\n",
       "      <td>0.079459</td>\n",
       "      <td>0.214379</td>\n",
       "      <td>0.073576</td>\n",
       "      <td>0.017332</td>\n",
       "      <td>0.006175</td>\n",
       "      <td>test</td>\n",
       "      <td>51</td>\n",
       "      <td>0.48</td>\n",
       "      <td>19</td>\n",
       "      <td>5.3</td>\n",
       "      <td>0.1</td>\n",
       "      <td>4.5</td>\n",
       "      <td>9</td>\n",
       "      <td>4.2</td>\n",
       "      <td>0.1</td>\n",
       "      <td>0.11</td>\n",
       "      <td>0.11</td>\n",
       "      <td>5</td>\n",
       "      <td>0.1</td>\n",
       "      <td>0</td>\n",
       "      <td>0</td>\n",
       "      <td>0</td>\n",
       "      <td>0.58185</td>\n",
       "      <td>0.076535</td>\n",
       "      <td>0.000966</td>\n",
       "      <td>0.050568</td>\n",
       "      <td>0.110016</td>\n",
       "      <td>0.127738</td>\n",
       "      <td>0.046452</td>\n",
       "      <td>0.000728</td>\n",
       "      <td>0.004119</td>\n",
       "      <td>0.000531</td>\n",
       "      <td>0.000496</td>\n",
       "      <td>0.494793</td>\n",
       "      <td>0.065084</td>\n",
       "      <td>0.000822</td>\n",
       "      <td>0.043002</td>\n",
       "      <td>0.093555</td>\n",
       "      <td>0.217252</td>\n",
       "      <td>0.079004</td>\n",
       "      <td>0.001238</td>\n",
       "      <td>0.003503</td>\n",
       "      <td>0.000904</td>\n",
       "      <td>0.000844</td>\n",
       "      <td>0.038702</td>\n",
       "      <td>0.602144</td>\n",
       "      <td>0.627093</td>\n",
       "      <td>test</td>\n",
       "      <td>49</td>\n",
       "      <td>0.3</td>\n",
       "      <td>4.89</td>\n",
       "      <td>5.71</td>\n",
       "      <td>0.165</td>\n",
       "      <td>16.89</td>\n",
       "      <td>20.319</td>\n",
       "      <td>0.319</td>\n",
       "      <td>0.1</td>\n",
       "      <td>0.11</td>\n",
       "      <td>1.843671</td>\n",
       "      <td>0.947383</td>\n",
       "      <td>0.179672</td>\n",
       "      <td>0.819149</td>\n",
       "      <td>0.216847</td>\n",
       "      <td>0.023272</td>\n",
       "      <td>0.0048</td>\n",
       "      <td>0.005258</td>\n",
       "      <td>0.008491</td>\n",
       "      <td>0.003272</td>\n",
       "      <td>0.0</td>\n",
       "      <td>0.156329</td>\n",
       "      <td>0.060518</td>\n",
       "      <td>4.051814</td>\n",
       "      <td>0.420896</td>\n",
       "      <td>0.001636</td>\n",
       "      <td>0.13382</td>\n",
       "      <td>0.840579</td>\n",
       "      <td>0.023272</td>\n",
       "      <td>0.037247</td>\n",
       "      <td>0.059541</td>\n",
       "      <td>0.720725</td>\n",
       "      <td>0.203165</td>\n",
       "      <td>0.720725</td>\n",
       "      <td>0.603016</td>\n",
       "      <td>0.098829</td>\n",
       "      <td>0.080843</td>\n",
       "      <td>0.318934</td>\n",
       "      <td>0.28704</td>\n",
       "      <td>1.711659</td>\n",
       "      <td>-3.962106</td>\n",
       "      <td>-3.962106</td>\n",
       "      <td>0.265348</td>\n",
       "      <td>0.602144</td>\n",
       "      <td>0.627093</td>\n",
       "      <td>0.053586</td>\n",
       "      <td>0.239475</td>\n",
       "      <td>0.104555</td>\n",
       "      <td>0.7269</td>\n",
       "      <td>0.129588</td>\n",
       "      <td>0.019915</td>\n",
       "      <td>0.011936</td>\n",
       "    </tr>\n",
       "  </tbody>\n",
       "</table>\n",
       "</div>"
      ],
      "text/plain": [
       "   P_kbar_calc  T_K_calc  Eq Tests Neave2017?  Delta_Kd_Put2008  \\\n",
       "0     3.472161      1300                False          0.079459   \n",
       "\n",
       "   Delta_Kd_Mas2013  Delta_EnFs  Delta_CaTs  Delta_DiHd Sample_ID_Liq  \\\n",
       "0          0.214379    0.073576    0.017332    0.006175          test   \n",
       "\n",
       "   SiO2_Liq  TiO2_Liq  Al2O3_Liq  FeOt_Liq  MnO_Liq  MgO_Liq  CaO_Liq  \\\n",
       "0        51      0.48         19       5.3      0.1      4.5        9   \n",
       "\n",
       "   Na2O_Liq  K2O_Liq  Cr2O3_Liq  P2O5_Liq  H2O_Liq  Fe3Fet_Liq  NiO_Liq  \\\n",
       "0       4.2      0.1       0.11      0.11        5         0.1        0   \n",
       "\n",
       "   CoO_Liq  CO2_Liq  SiO2_Liq_mol_frac  MgO_Liq_mol_frac  MnO_Liq_mol_frac  \\\n",
       "0        0        0            0.58185          0.076535          0.000966   \n",
       "\n",
       "   FeOt_Liq_mol_frac  CaO_Liq_mol_frac  Al2O3_Liq_mol_frac  Na2O_Liq_mol_frac  \\\n",
       "0           0.050568          0.110016            0.127738           0.046452   \n",
       "\n",
       "   K2O_Liq_mol_frac  TiO2_Liq_mol_frac  P2O5_Liq_mol_frac  Cr2O3_Liq_mol_frac  \\\n",
       "0          0.000728           0.004119           0.000531            0.000496   \n",
       "\n",
       "   SiO2_Liq_cat_frac  MgO_Liq_cat_frac  MnO_Liq_cat_frac  FeOt_Liq_cat_frac  \\\n",
       "0           0.494793          0.065084          0.000822           0.043002   \n",
       "\n",
       "   CaO_Liq_cat_frac  Al2O3_Liq_cat_frac  Na2O_Liq_cat_frac  K2O_Liq_cat_frac  \\\n",
       "0          0.093555            0.217252           0.079004          0.001238   \n",
       "\n",
       "   TiO2_Liq_cat_frac  P2O5_Liq_cat_frac  Cr2O3_Liq_cat_frac  FeO_Liq_cat_frac  \\\n",
       "0           0.003503           0.000904            0.000844          0.038702   \n",
       "\n",
       "   Mg_Number_Liq_NoFe3  Mg_Number_Liq_Fe3 Sample_ID_Cpx  SiO2_Cpx  TiO2_Cpx  \\\n",
       "0             0.602144           0.627093          test        49       0.3   \n",
       "\n",
       "   Al2O3_Cpx  FeOt_Cpx  MnO_Cpx  MgO_Cpx  CaO_Cpx  Na2O_Cpx  K2O_Cpx  \\\n",
       "0       4.89      5.71    0.165    16.89   20.319     0.319      0.1   \n",
       "\n",
       "   Cr2O3_Cpx  SiO2_Cpx_cat_6ox  MgO_Cpx_cat_6ox  FeOt_Cpx_cat_6ox  \\\n",
       "0       0.11          1.843671         0.947383          0.179672   \n",
       "\n",
       "   CaO_Cpx_cat_6ox  Al2O3_Cpx_cat_6ox  Na2O_Cpx_cat_6ox  K2O_Cpx_cat_6ox  \\\n",
       "0         0.819149           0.216847          0.023272           0.0048   \n",
       "\n",
       "   MnO_Cpx_cat_6ox  TiO2_Cpx_cat_6ox  Cr2O3_Cpx_cat_6ox  oxy_renorm_factor  \\\n",
       "0         0.005258          0.008491           0.003272                0.0   \n",
       "\n",
       "   Al_IV_cat_6ox  Al_VI_cat_6ox  Cation_Sum_Cpx  Ca_CaMgFe    CrCaTs  \\\n",
       "0       0.156329       0.060518        4.051814   0.420896  0.001636   \n",
       "\n",
       "   a_cpx_En  Mgno_Cpx        Jd      CaTs      CaTi  DiHd_1996      EnFs  \\\n",
       "0   0.13382  0.840579  0.023272  0.037247  0.059541   0.720725  0.203165   \n",
       "\n",
       "   DiHd_2003    Di_Cpx  FeIII_Wang21  FeII_Wang21  Kd_Fe_Mg_Fe2  Kd_Fe_Mg_Fet  \\\n",
       "0   0.720725  0.603016      0.098829     0.080843      0.318934       0.28704   \n",
       "\n",
       "   lnK_Jd_liq  lnK_Jd_DiHd_liq_1996  lnK_Jd_DiHd_liq_2003  Kd_Fe_Mg_IdealWB  \\\n",
       "0    1.711659             -3.962106             -3.962106          0.265348   \n",
       "\n",
       "   Mgno_Liq_noFe3  Mgno_Liq_Fe2  DeltaFeMg_WB  Kd_Ideal_Put  Kd_Ideal_Masotta  \\\n",
       "0        0.602144      0.627093      0.053586      0.239475          0.104555   \n",
       "\n",
       "   DiHd_Pred_Mollo  EnFs_Pred_Mollo  CaTs_Pred_P1999  CrCaTS_Pred_P1999  \n",
       "0           0.7269         0.129588         0.019915           0.011936  "
      ]
     },
     "execution_count": 23,
     "metadata": {},
     "output_type": "execute_result"
    }
   ],
   "source": [
    "pt.calculate_cpx_liq_press(cpx_comps=CpxT, liq_comps=LiqT, equationP=\"P_Put2008_eq32c\", T=1300, eq_tests=True)"
   ]
  },
  {
   "cell_type": "code",
   "execution_count": null,
   "id": "d65a0df7-adbf-488b-b302-789a85638a87",
   "metadata": {},
   "outputs": [
    {
     "data": {
      "text/html": [
       "<div>\n",
       "<style scoped>\n",
       "    .dataframe tbody tr th:only-of-type {\n",
       "        vertical-align: middle;\n",
       "    }\n",
       "\n",
       "    .dataframe tbody tr th {\n",
       "        vertical-align: top;\n",
       "    }\n",
       "\n",
       "    .dataframe thead th {\n",
       "        text-align: right;\n",
       "    }\n",
       "</style>\n",
       "<table border=\"1\" class=\"dataframe\">\n",
       "  <thead>\n",
       "    <tr style=\"text-align: right;\">\n",
       "      <th></th>\n",
       "      <th>P_kbar_calc</th>\n",
       "      <th>T_K_calc</th>\n",
       "      <th>Eq Tests Neave2017?</th>\n",
       "      <th>Delta_Kd_Put2008</th>\n",
       "      <th>Delta_Kd_Mas2013</th>\n",
       "      <th>Delta_EnFs</th>\n",
       "      <th>Delta_CaTs</th>\n",
       "      <th>Delta_DiHd</th>\n",
       "      <th>Sample_ID_Liq</th>\n",
       "      <th>SiO2_Liq</th>\n",
       "      <th>TiO2_Liq</th>\n",
       "      <th>Al2O3_Liq</th>\n",
       "      <th>FeOt_Liq</th>\n",
       "      <th>MnO_Liq</th>\n",
       "      <th>MgO_Liq</th>\n",
       "      <th>CaO_Liq</th>\n",
       "      <th>Na2O_Liq</th>\n",
       "      <th>K2O_Liq</th>\n",
       "      <th>Cr2O3_Liq</th>\n",
       "      <th>P2O5_Liq</th>\n",
       "      <th>H2O_Liq</th>\n",
       "      <th>Fe3Fet_Liq</th>\n",
       "      <th>NiO_Liq</th>\n",
       "      <th>CoO_Liq</th>\n",
       "      <th>CO2_Liq</th>\n",
       "      <th>SiO2_Liq_mol_frac</th>\n",
       "      <th>MgO_Liq_mol_frac</th>\n",
       "      <th>MnO_Liq_mol_frac</th>\n",
       "      <th>FeOt_Liq_mol_frac</th>\n",
       "      <th>CaO_Liq_mol_frac</th>\n",
       "      <th>Al2O3_Liq_mol_frac</th>\n",
       "      <th>Na2O_Liq_mol_frac</th>\n",
       "      <th>K2O_Liq_mol_frac</th>\n",
       "      <th>TiO2_Liq_mol_frac</th>\n",
       "      <th>P2O5_Liq_mol_frac</th>\n",
       "      <th>Cr2O3_Liq_mol_frac</th>\n",
       "      <th>SiO2_Liq_cat_frac</th>\n",
       "      <th>MgO_Liq_cat_frac</th>\n",
       "      <th>MnO_Liq_cat_frac</th>\n",
       "      <th>FeOt_Liq_cat_frac</th>\n",
       "      <th>CaO_Liq_cat_frac</th>\n",
       "      <th>Al2O3_Liq_cat_frac</th>\n",
       "      <th>Na2O_Liq_cat_frac</th>\n",
       "      <th>K2O_Liq_cat_frac</th>\n",
       "      <th>TiO2_Liq_cat_frac</th>\n",
       "      <th>P2O5_Liq_cat_frac</th>\n",
       "      <th>Cr2O3_Liq_cat_frac</th>\n",
       "      <th>FeO_Liq_cat_frac</th>\n",
       "      <th>Mg_Number_Liq_NoFe3</th>\n",
       "      <th>Mg_Number_Liq_Fe3</th>\n",
       "      <th>Sample_ID_Cpx</th>\n",
       "      <th>SiO2_Cpx</th>\n",
       "      <th>TiO2_Cpx</th>\n",
       "      <th>Al2O3_Cpx</th>\n",
       "      <th>FeOt_Cpx</th>\n",
       "      <th>MnO_Cpx</th>\n",
       "      <th>MgO_Cpx</th>\n",
       "      <th>CaO_Cpx</th>\n",
       "      <th>Na2O_Cpx</th>\n",
       "      <th>K2O_Cpx</th>\n",
       "      <th>Cr2O3_Cpx</th>\n",
       "      <th>SiO2_Cpx_cat_6ox</th>\n",
       "      <th>MgO_Cpx_cat_6ox</th>\n",
       "      <th>FeOt_Cpx_cat_6ox</th>\n",
       "      <th>CaO_Cpx_cat_6ox</th>\n",
       "      <th>Al2O3_Cpx_cat_6ox</th>\n",
       "      <th>Na2O_Cpx_cat_6ox</th>\n",
       "      <th>K2O_Cpx_cat_6ox</th>\n",
       "      <th>MnO_Cpx_cat_6ox</th>\n",
       "      <th>TiO2_Cpx_cat_6ox</th>\n",
       "      <th>Cr2O3_Cpx_cat_6ox</th>\n",
       "      <th>oxy_renorm_factor</th>\n",
       "      <th>Al_IV_cat_6ox</th>\n",
       "      <th>Al_VI_cat_6ox</th>\n",
       "      <th>Cation_Sum_Cpx</th>\n",
       "      <th>Ca_CaMgFe</th>\n",
       "      <th>CrCaTs</th>\n",
       "      <th>a_cpx_En</th>\n",
       "      <th>Mgno_Cpx</th>\n",
       "      <th>Jd</th>\n",
       "      <th>CaTs</th>\n",
       "      <th>CaTi</th>\n",
       "      <th>DiHd_1996</th>\n",
       "      <th>EnFs</th>\n",
       "      <th>DiHd_2003</th>\n",
       "      <th>Di_Cpx</th>\n",
       "      <th>FeIII_Wang21</th>\n",
       "      <th>FeII_Wang21</th>\n",
       "      <th>Kd_Fe_Mg_Fe2</th>\n",
       "      <th>Kd_Fe_Mg_Fet</th>\n",
       "      <th>lnK_Jd_liq</th>\n",
       "      <th>lnK_Jd_DiHd_liq_1996</th>\n",
       "      <th>lnK_Jd_DiHd_liq_2003</th>\n",
       "      <th>Kd_Fe_Mg_IdealWB</th>\n",
       "      <th>Mgno_Liq_noFe3</th>\n",
       "      <th>Mgno_Liq_Fe2</th>\n",
       "      <th>DeltaFeMg_WB</th>\n",
       "      <th>Kd_Ideal_Put</th>\n",
       "      <th>Kd_Ideal_Masotta</th>\n",
       "      <th>DiHd_Pred_Mollo</th>\n",
       "      <th>EnFs_Pred_Mollo</th>\n",
       "      <th>CaTs_Pred_P1999</th>\n",
       "      <th>CrCaTS_Pred_P1999</th>\n",
       "    </tr>\n",
       "  </thead>\n",
       "  <tbody>\n",
       "    <tr>\n",
       "      <th>0</th>\n",
       "      <td>3.472161</td>\n",
       "      <td>1300</td>\n",
       "      <td>False</td>\n",
       "      <td>0.170583</td>\n",
       "      <td>0.305503</td>\n",
       "      <td>0.073576</td>\n",
       "      <td>0.017332</td>\n",
       "      <td>0.006175</td>\n",
       "      <td>test</td>\n",
       "      <td>51</td>\n",
       "      <td>0.48</td>\n",
       "      <td>19</td>\n",
       "      <td>5.3</td>\n",
       "      <td>0.1</td>\n",
       "      <td>4.5</td>\n",
       "      <td>9</td>\n",
       "      <td>4.2</td>\n",
       "      <td>0.1</td>\n",
       "      <td>0.11</td>\n",
       "      <td>0.11</td>\n",
       "      <td>5</td>\n",
       "      <td>0.3</td>\n",
       "      <td>0</td>\n",
       "      <td>0</td>\n",
       "      <td>0</td>\n",
       "      <td>0.58185</td>\n",
       "      <td>0.076535</td>\n",
       "      <td>0.000966</td>\n",
       "      <td>0.050568</td>\n",
       "      <td>0.110016</td>\n",
       "      <td>0.127738</td>\n",
       "      <td>0.046452</td>\n",
       "      <td>0.000728</td>\n",
       "      <td>0.004119</td>\n",
       "      <td>0.000531</td>\n",
       "      <td>0.000496</td>\n",
       "      <td>0.494793</td>\n",
       "      <td>0.065084</td>\n",
       "      <td>0.000822</td>\n",
       "      <td>0.043002</td>\n",
       "      <td>0.093555</td>\n",
       "      <td>0.217252</td>\n",
       "      <td>0.079004</td>\n",
       "      <td>0.001238</td>\n",
       "      <td>0.003503</td>\n",
       "      <td>0.000904</td>\n",
       "      <td>0.000844</td>\n",
       "      <td>0.030101</td>\n",
       "      <td>0.602144</td>\n",
       "      <td>0.683755</td>\n",
       "      <td>test</td>\n",
       "      <td>49</td>\n",
       "      <td>0.3</td>\n",
       "      <td>4.89</td>\n",
       "      <td>5.71</td>\n",
       "      <td>0.165</td>\n",
       "      <td>16.89</td>\n",
       "      <td>20.319</td>\n",
       "      <td>0.319</td>\n",
       "      <td>0.1</td>\n",
       "      <td>0.11</td>\n",
       "      <td>1.843671</td>\n",
       "      <td>0.947383</td>\n",
       "      <td>0.179672</td>\n",
       "      <td>0.819149</td>\n",
       "      <td>0.216847</td>\n",
       "      <td>0.023272</td>\n",
       "      <td>0.0048</td>\n",
       "      <td>0.005258</td>\n",
       "      <td>0.008491</td>\n",
       "      <td>0.003272</td>\n",
       "      <td>0.0</td>\n",
       "      <td>0.156329</td>\n",
       "      <td>0.060518</td>\n",
       "      <td>4.051814</td>\n",
       "      <td>0.420896</td>\n",
       "      <td>0.001636</td>\n",
       "      <td>0.13382</td>\n",
       "      <td>0.840579</td>\n",
       "      <td>0.023272</td>\n",
       "      <td>0.037247</td>\n",
       "      <td>0.059541</td>\n",
       "      <td>0.720725</td>\n",
       "      <td>0.203165</td>\n",
       "      <td>0.720725</td>\n",
       "      <td>0.603016</td>\n",
       "      <td>0.098829</td>\n",
       "      <td>0.080843</td>\n",
       "      <td>0.410058</td>\n",
       "      <td>0.28704</td>\n",
       "      <td>1.711659</td>\n",
       "      <td>-3.962106</td>\n",
       "      <td>-3.962106</td>\n",
       "      <td>0.265348</td>\n",
       "      <td>0.602144</td>\n",
       "      <td>0.683755</td>\n",
       "      <td>0.14471</td>\n",
       "      <td>0.239475</td>\n",
       "      <td>0.104555</td>\n",
       "      <td>0.7269</td>\n",
       "      <td>0.129588</td>\n",
       "      <td>0.019915</td>\n",
       "      <td>0.011936</td>\n",
       "    </tr>\n",
       "  </tbody>\n",
       "</table>\n",
       "</div>"
      ],
      "text/plain": [
       "   P_kbar_calc  T_K_calc  Eq Tests Neave2017?  Delta_Kd_Put2008  \\\n",
       "0     3.472161      1300                False          0.170583   \n",
       "\n",
       "   Delta_Kd_Mas2013  Delta_EnFs  Delta_CaTs  Delta_DiHd Sample_ID_Liq  \\\n",
       "0          0.305503    0.073576    0.017332    0.006175          test   \n",
       "\n",
       "   SiO2_Liq  TiO2_Liq  Al2O3_Liq  FeOt_Liq  MnO_Liq  MgO_Liq  CaO_Liq  \\\n",
       "0        51      0.48         19       5.3      0.1      4.5        9   \n",
       "\n",
       "   Na2O_Liq  K2O_Liq  Cr2O3_Liq  P2O5_Liq  H2O_Liq  Fe3Fet_Liq  NiO_Liq  \\\n",
       "0       4.2      0.1       0.11      0.11        5         0.3        0   \n",
       "\n",
       "   CoO_Liq  CO2_Liq  SiO2_Liq_mol_frac  MgO_Liq_mol_frac  MnO_Liq_mol_frac  \\\n",
       "0        0        0            0.58185          0.076535          0.000966   \n",
       "\n",
       "   FeOt_Liq_mol_frac  CaO_Liq_mol_frac  Al2O3_Liq_mol_frac  Na2O_Liq_mol_frac  \\\n",
       "0           0.050568          0.110016            0.127738           0.046452   \n",
       "\n",
       "   K2O_Liq_mol_frac  TiO2_Liq_mol_frac  P2O5_Liq_mol_frac  Cr2O3_Liq_mol_frac  \\\n",
       "0          0.000728           0.004119           0.000531            0.000496   \n",
       "\n",
       "   SiO2_Liq_cat_frac  MgO_Liq_cat_frac  MnO_Liq_cat_frac  FeOt_Liq_cat_frac  \\\n",
       "0           0.494793          0.065084          0.000822           0.043002   \n",
       "\n",
       "   CaO_Liq_cat_frac  Al2O3_Liq_cat_frac  Na2O_Liq_cat_frac  K2O_Liq_cat_frac  \\\n",
       "0          0.093555            0.217252           0.079004          0.001238   \n",
       "\n",
       "   TiO2_Liq_cat_frac  P2O5_Liq_cat_frac  Cr2O3_Liq_cat_frac  FeO_Liq_cat_frac  \\\n",
       "0           0.003503           0.000904            0.000844          0.030101   \n",
       "\n",
       "   Mg_Number_Liq_NoFe3  Mg_Number_Liq_Fe3 Sample_ID_Cpx  SiO2_Cpx  TiO2_Cpx  \\\n",
       "0             0.602144           0.683755          test        49       0.3   \n",
       "\n",
       "   Al2O3_Cpx  FeOt_Cpx  MnO_Cpx  MgO_Cpx  CaO_Cpx  Na2O_Cpx  K2O_Cpx  \\\n",
       "0       4.89      5.71    0.165    16.89   20.319     0.319      0.1   \n",
       "\n",
       "   Cr2O3_Cpx  SiO2_Cpx_cat_6ox  MgO_Cpx_cat_6ox  FeOt_Cpx_cat_6ox  \\\n",
       "0       0.11          1.843671         0.947383          0.179672   \n",
       "\n",
       "   CaO_Cpx_cat_6ox  Al2O3_Cpx_cat_6ox  Na2O_Cpx_cat_6ox  K2O_Cpx_cat_6ox  \\\n",
       "0         0.819149           0.216847          0.023272           0.0048   \n",
       "\n",
       "   MnO_Cpx_cat_6ox  TiO2_Cpx_cat_6ox  Cr2O3_Cpx_cat_6ox  oxy_renorm_factor  \\\n",
       "0         0.005258          0.008491           0.003272                0.0   \n",
       "\n",
       "   Al_IV_cat_6ox  Al_VI_cat_6ox  Cation_Sum_Cpx  Ca_CaMgFe    CrCaTs  \\\n",
       "0       0.156329       0.060518        4.051814   0.420896  0.001636   \n",
       "\n",
       "   a_cpx_En  Mgno_Cpx        Jd      CaTs      CaTi  DiHd_1996      EnFs  \\\n",
       "0   0.13382  0.840579  0.023272  0.037247  0.059541   0.720725  0.203165   \n",
       "\n",
       "   DiHd_2003    Di_Cpx  FeIII_Wang21  FeII_Wang21  Kd_Fe_Mg_Fe2  Kd_Fe_Mg_Fet  \\\n",
       "0   0.720725  0.603016      0.098829     0.080843      0.410058       0.28704   \n",
       "\n",
       "   lnK_Jd_liq  lnK_Jd_DiHd_liq_1996  lnK_Jd_DiHd_liq_2003  Kd_Fe_Mg_IdealWB  \\\n",
       "0    1.711659             -3.962106             -3.962106          0.265348   \n",
       "\n",
       "   Mgno_Liq_noFe3  Mgno_Liq_Fe2  DeltaFeMg_WB  Kd_Ideal_Put  Kd_Ideal_Masotta  \\\n",
       "0        0.602144      0.683755       0.14471      0.239475          0.104555   \n",
       "\n",
       "   DiHd_Pred_Mollo  EnFs_Pred_Mollo  CaTs_Pred_P1999  CrCaTS_Pred_P1999  \n",
       "0           0.7269         0.129588         0.019915           0.011936  "
      ]
     },
     "execution_count": 25,
     "metadata": {},
     "output_type": "execute_result"
    }
   ],
   "source": [
    "pt.calculate_cpx_liq_press(cpx_comps=CpxT, liq_comps=LiqT, equationP=\"P_Put2008_eq32c\", T=1300, eq_tests=True, Fe3Fet_Liq=0.3)"
   ]
  },
  {
   "cell_type": "code",
   "execution_count": null,
   "id": "5cb44b24-ac5d-445b-a564-29fe1abdc2e6",
   "metadata": {},
   "outputs": [
    {
     "data": {
      "text/plain": [
       "0    1352.020448\n",
       "dtype: float64"
      ]
     },
     "execution_count": 26,
     "metadata": {},
     "output_type": "execute_result"
    }
   ],
   "source": [
    "pt.calculate_cpx_liq_temp(cpx_comps=CpxT,\n",
    "       liq_comps=LiqT, equationT=\"T_Put2008_eq33\", P=5)"
   ]
  },
  {
   "cell_type": "markdown",
   "id": "8a1202ca-6193-4217-85eb-0fa7fe8a4aa0",
   "metadata": {},
   "source": [
    "## Iterating cpx-liq"
   ]
  },
  {
   "cell_type": "code",
   "execution_count": null,
   "id": "c582a17f-4512-437e-941d-04c4ed182174",
   "metadata": {},
   "outputs": [
    {
     "data": {
      "text/html": [
       "<div>\n",
       "<style scoped>\n",
       "    .dataframe tbody tr th:only-of-type {\n",
       "        vertical-align: middle;\n",
       "    }\n",
       "\n",
       "    .dataframe tbody tr th {\n",
       "        vertical-align: top;\n",
       "    }\n",
       "\n",
       "    .dataframe thead th {\n",
       "        text-align: right;\n",
       "    }\n",
       "</style>\n",
       "<table border=\"1\" class=\"dataframe\">\n",
       "  <thead>\n",
       "    <tr style=\"text-align: right;\">\n",
       "      <th></th>\n",
       "      <th>P_kbar_calc</th>\n",
       "      <th>T_K_calc</th>\n",
       "    </tr>\n",
       "  </thead>\n",
       "  <tbody>\n",
       "    <tr>\n",
       "      <th>0</th>\n",
       "      <td>7.499172</td>\n",
       "      <td>1416.389119</td>\n",
       "    </tr>\n",
       "  </tbody>\n",
       "</table>\n",
       "</div>"
      ],
      "text/plain": [
       "   P_kbar_calc     T_K_calc\n",
       "0     7.499172  1416.389119"
      ]
     },
     "execution_count": 27,
     "metadata": {},
     "output_type": "execute_result"
    }
   ],
   "source": [
    "pt.calculate_cpx_liq_press_temp(cpx_comps=CpxT,\n",
    "       liq_comps=LiqT, equationP=\"P_Put2008_eq30\", equationT=\"T_Put2003\")"
   ]
  },
  {
   "cell_type": "code",
   "execution_count": null,
   "id": "487b8d6e-52dc-4179-a632-4949756dacdf",
   "metadata": {},
   "outputs": [
    {
     "data": {
      "text/html": [
       "<div>\n",
       "<style scoped>\n",
       "    .dataframe tbody tr th:only-of-type {\n",
       "        vertical-align: middle;\n",
       "    }\n",
       "\n",
       "    .dataframe tbody tr th {\n",
       "        vertical-align: top;\n",
       "    }\n",
       "\n",
       "    .dataframe thead th {\n",
       "        text-align: right;\n",
       "    }\n",
       "</style>\n",
       "<table border=\"1\" class=\"dataframe\">\n",
       "  <thead>\n",
       "    <tr style=\"text-align: right;\">\n",
       "      <th></th>\n",
       "      <th>P_kbar_calc</th>\n",
       "      <th>T_K_calc</th>\n",
       "      <th>Delta_P_kbar_Iter</th>\n",
       "      <th>Delta_T_K_Iter</th>\n",
       "    </tr>\n",
       "  </thead>\n",
       "  <tbody>\n",
       "    <tr>\n",
       "      <th>0</th>\n",
       "      <td>8.291964</td>\n",
       "      <td>1417.395008</td>\n",
       "      <td>0.0</td>\n",
       "      <td>0.0</td>\n",
       "    </tr>\n",
       "  </tbody>\n",
       "</table>\n",
       "</div>"
      ],
      "text/plain": [
       "   P_kbar_calc     T_K_calc  Delta_P_kbar_Iter  Delta_T_K_Iter\n",
       "0     8.291964  1417.395008                0.0             0.0"
      ]
     },
     "execution_count": 19,
     "metadata": {},
     "output_type": "execute_result"
    }
   ],
   "source": [
    "pt.calculate_cpx_liq_press_temp(cpx_comps=CpxT,\n",
    "       liq_comps=LiqT, equationP=\"P_Put2008_eq30\", equationT=\"T_Put2003\", H2O_Liq=6)"
   ]
  },
  {
   "cell_type": "code",
   "execution_count": null,
   "id": "86afaa08-75ba-4e38-9809-e2c228cda0d3",
   "metadata": {},
   "outputs": [],
   "source": [
    "## Equil tests"
   ]
  },
  {
   "cell_type": "code",
   "execution_count": null,
   "id": "929520cd-7a91-4c56-8c4e-967eb76d94fd",
   "metadata": {},
   "outputs": [],
   "source": [
    "Liq2=pd.DataFrame(data={\"SiO2_Liq\": 47.2916,\n",
    "                            \"TiO2_Liq\": 1.7307,\n",
    "                            \"Al2O3_Liq\": 15.525,\n",
    "                            \"FeOt_Liq\": 9.3999,\n",
    "                            \"MnO_Liq\": 0.1588,\n",
    "                            \"MgO_Liq\": 6.322718447,\n",
    "                            \"CaO_Liq\": 12.3696,\n",
    "                            \"Na2O_Liq\": 3.9281,\n",
    "                            \"K2O_Liq\": 1.2285,\n",
    "                            \"Cr2O3_Liq\": 0,\n",
    "                            \"P2O5_Liq\": 0.2406,\n",
    "                            \"H2O_Liq\": 0}, index=[0])\n",
    "\n",
    "Cpx2=pd.DataFrame(data={\"SiO2_Cpx\": 49.7147,\n",
    "                            \"TiO2_Cpx\": 0.7249,\n",
    "                            \"Al2O3_Cpx\": 6.2489,\n",
    "                            \"FeOt_Cpx\": 3.988,\n",
    "                            \"MnO_Cpx\": 0.1128,\n",
    "                            \"MgO_Cpx\": 15.0415,\n",
    "                            \"CaO_Cpx\": 21.6397,\n",
    "                            \"Na2O_Cpx\": 0.4081,\n",
    "                            \"K2O_Cpx\": 0,\n",
    "                            \"Cr2O3_Cpx\": 1.355}, index=[0])\n",
    "\n"
   ]
  },
  {
   "cell_type": "code",
   "execution_count": null,
   "id": "6cd49a9e-7dac-4c79-92a2-004654204a22",
   "metadata": {},
   "outputs": [
    {
     "name": "stdout",
     "output_type": "stream",
     "text": [
      "Considering 1 Liq-Cpx pairs, be patient if this is >>1 million!\n",
      "1 Matches remaining after initial Kd filter. Now moving onto iterative calculations\n",
      "Finished calculating Ps and Ts, now just averaging the results. Almost there!\n",
      "Done!\n"
     ]
    },
    {
     "data": {
      "text/plain": [
       "5.993996633784751"
      ]
     },
     "execution_count": 33,
     "metadata": {},
     "output_type": "execute_result"
    }
   ],
   "source": [
    "pt.calculate_cpx_liq_press_temp_matching(cpx_comps=Cpx2, liq_comps=Liq2,\n",
    "      equationT=\"T_Put2008_eq33\", equationP=\"P_Neave2017\", KdErr=0.11, eq_crit=\"All\",\n",
    "Fe3Fet_Liq=0.0, sigma=4).get(\"Av_PTs\").Mean_P_kbar_calc[0]"
   ]
  },
  {
   "cell_type": "code",
   "execution_count": null,
   "id": "38d26dc7-9d23-4f4a-a700-2d739bfcc37f",
   "metadata": {},
   "outputs": [
    {
     "name": "stdout",
     "output_type": "stream",
     "text": [
      "Considering 1 Liq-Cpx pairs, be patient if this is >>1 million!\n",
      "1 Matches remaining after initial Kd filter. Now moving onto iterative calculations\n",
      "Finished calculating Ps and Ts, now just averaging the results. Almost there!\n",
      "Done!\n"
     ]
    },
    {
     "data": {
      "text/plain": [
       "1480.0390069136172"
      ]
     },
     "execution_count": 36,
     "metadata": {},
     "output_type": "execute_result"
    }
   ],
   "source": [
    "pt.calculate_cpx_liq_press_temp_matching(cpx_comps=Cpx2, liq_comps=Liq2,\n",
    "equationT=\"T_Put2008_eq33\", equationP=\"P_Neave2017\", KdErr=0.11, eq_crit=\"All\",\n",
    "Fe3Fet_Liq=0.0, sigma=4).get(\"Av_PTs\").Mean_T_K_calc[0]"
   ]
  },
  {
   "cell_type": "code",
   "execution_count": null,
   "id": "4b84dee1-bb92-45af-bc46-57c4e4ae9b0f",
   "metadata": {},
   "outputs": [
    {
     "name": "stdout",
     "output_type": "stream",
     "text": [
      "Considering 1 Liq-Cpx pairs, be patient if this is >>1 million!\n",
      "1 Matches remaining after initial Kd filter. Now moving onto iterative calculations\n",
      "Finished calculating Ps and Ts, now just averaging the results. Almost there!\n",
      "Done!\n"
     ]
    },
    {
     "data": {
      "text/plain": [
       "0    5.993997\n",
       "Name: Mean_P_kbar_calc, dtype: float64"
      ]
     },
     "execution_count": 42,
     "metadata": {},
     "output_type": "execute_result"
    }
   ],
   "source": [
    "a=pt.calculate_cpx_liq_press_temp_matching(cpx_comps=Cpx2, liq_comps=Liq2, equationT=\"T_Put2008_eq33\", equationP=\"P_Neave2017\", \n",
    "                                          KdErr=0.11, eq_crit=\"All\",  Fe3Fet_Liq=0.15, sigma=4).get(\"Av_PTs\").Mean_P_kbar_calc\n",
    "a"
   ]
  },
  {
   "cell_type": "code",
   "execution_count": null,
   "id": "f3a1e144-e8f4-47e9-be12-1c156f101b19",
   "metadata": {},
   "outputs": [
    {
     "name": "stdout",
     "output_type": "stream",
     "text": [
      "Considering 1 Liq-Cpx pairs, be patient if this is >>1 million!\n",
      "1 Matches remaining after initial Kd filter. Now moving onto iterative calculations\n",
      "Finished calculating Ps and Ts, now just averaging the results. Almost there!\n",
      "Done!\n"
     ]
    },
    {
     "data": {
      "text/plain": [
       "0    5.993997\n",
       "Name: Mean_P_kbar_calc, dtype: float64"
      ]
     },
     "execution_count": 43,
     "metadata": {},
     "output_type": "execute_result"
    }
   ],
   "source": [
    "a=pt.calculate_cpx_liq_press_temp_matching(cpx_comps=Cpx2, liq_comps=Liq2, equationT=\"T_Put2008_eq33\", equationP=\"P_Neave2017\", \n",
    "                                          KdErr=0.11, eq_crit=\"All\",  Fe3Fet_Liq=0.0, sigma=4).get(\"Av_PTs\").Mean_P_kbar_calc\n",
    "a"
   ]
  },
  {
   "cell_type": "code",
   "execution_count": null,
   "id": "fc5cf418-00ab-4cd9-b267-07db2f683769",
   "metadata": {},
   "outputs": [
    {
     "name": "stdout",
     "output_type": "stream",
     "text": [
      "Considering 1 Liq-Cpx pairs, be patient if this is >>1 million!\n",
      "1 Matches remaining after initial Kd filter. Now moving onto iterative calculations\n",
      "Finished calculating Ps and Ts, now just averaging the results. Almost there!\n",
      "Done!\n"
     ]
    },
    {
     "data": {
      "text/plain": [
       "0    1480.039007\n",
       "Name: Mean_T_K_calc, dtype: float64"
      ]
     },
     "execution_count": 40,
     "metadata": {},
     "output_type": "execute_result"
    }
   ],
   "source": [
    "a=pt.calculate_cpx_liq_press_temp_matching(cpx_comps=Cpx2, liq_comps=Liq2, equationT=\"T_Put2008_eq33\", equationP=\"P_Neave2017\", \n",
    "                                          KdErr=0.11, eq_crit=\"All\",  Fe3Fet_Liq=0.0, sigma=4).get(\"Av_PTs\").Mean_T_K_calc\n",
    "a"
   ]
  },
  {
   "cell_type": "code",
   "execution_count": null,
   "id": "a067bb21-2c7b-4f8d-87ed-f4855d6d6b54",
   "metadata": {},
   "outputs": [
    {
     "data": {
      "text/html": [
       "<div>\n",
       "<style scoped>\n",
       "    .dataframe tbody tr th:only-of-type {\n",
       "        vertical-align: middle;\n",
       "    }\n",
       "\n",
       "    .dataframe tbody tr th {\n",
       "        vertical-align: top;\n",
       "    }\n",
       "\n",
       "    .dataframe thead th {\n",
       "        text-align: right;\n",
       "    }\n",
       "</style>\n",
       "<table border=\"1\" class=\"dataframe\">\n",
       "  <thead>\n",
       "    <tr style=\"text-align: right;\">\n",
       "      <th></th>\n",
       "      <th>Mg#_Liq</th>\n",
       "      <th>Eq_Cpx_Mg# (Kd=0.28)</th>\n",
       "      <th>Eq_Cpx_Mg# (Kd=0.2)</th>\n",
       "      <th>Eq_Cpx_Mg# (Kd=0.36)</th>\n",
       "    </tr>\n",
       "  </thead>\n",
       "  <tbody>\n",
       "    <tr>\n",
       "      <th>0</th>\n",
       "      <td>0.500000</td>\n",
       "      <td>0.781250</td>\n",
       "      <td>0.833333</td>\n",
       "      <td>0.735294</td>\n",
       "    </tr>\n",
       "    <tr>\n",
       "      <th>1</th>\n",
       "      <td>0.503030</td>\n",
       "      <td>0.783314</td>\n",
       "      <td>0.835010</td>\n",
       "      <td>0.737647</td>\n",
       "    </tr>\n",
       "    <tr>\n",
       "      <th>2</th>\n",
       "      <td>0.506061</td>\n",
       "      <td>0.785365</td>\n",
       "      <td>0.836673</td>\n",
       "      <td>0.739986</td>\n",
       "    </tr>\n",
       "    <tr>\n",
       "      <th>3</th>\n",
       "      <td>0.509091</td>\n",
       "      <td>0.787402</td>\n",
       "      <td>0.838323</td>\n",
       "      <td>0.742312</td>\n",
       "    </tr>\n",
       "    <tr>\n",
       "      <th>4</th>\n",
       "      <td>0.512121</td>\n",
       "      <td>0.789425</td>\n",
       "      <td>0.839960</td>\n",
       "      <td>0.744625</td>\n",
       "    </tr>\n",
       "    <tr>\n",
       "      <th>...</th>\n",
       "      <td>...</td>\n",
       "      <td>...</td>\n",
       "      <td>...</td>\n",
       "      <td>...</td>\n",
       "    </tr>\n",
       "    <tr>\n",
       "      <th>95</th>\n",
       "      <td>0.787879</td>\n",
       "      <td>0.929900</td>\n",
       "      <td>0.948905</td>\n",
       "      <td>0.911641</td>\n",
       "    </tr>\n",
       "    <tr>\n",
       "      <th>96</th>\n",
       "      <td>0.790909</td>\n",
       "      <td>0.931079</td>\n",
       "      <td>0.949782</td>\n",
       "      <td>0.913098</td>\n",
       "    </tr>\n",
       "    <tr>\n",
       "      <th>97</th>\n",
       "      <td>0.793939</td>\n",
       "      <td>0.932252</td>\n",
       "      <td>0.950653</td>\n",
       "      <td>0.914549</td>\n",
       "    </tr>\n",
       "    <tr>\n",
       "      <th>98</th>\n",
       "      <td>0.796970</td>\n",
       "      <td>0.933419</td>\n",
       "      <td>0.951520</td>\n",
       "      <td>0.915993</td>\n",
       "    </tr>\n",
       "    <tr>\n",
       "      <th>99</th>\n",
       "      <td>0.800000</td>\n",
       "      <td>0.934579</td>\n",
       "      <td>0.952381</td>\n",
       "      <td>0.917431</td>\n",
       "    </tr>\n",
       "  </tbody>\n",
       "</table>\n",
       "<p>100 rows × 4 columns</p>\n",
       "</div>"
      ],
      "text/plain": [
       "     Mg#_Liq  Eq_Cpx_Mg# (Kd=0.28)  Eq_Cpx_Mg# (Kd=0.2)  Eq_Cpx_Mg# (Kd=0.36)\n",
       "0   0.500000              0.781250             0.833333              0.735294\n",
       "1   0.503030              0.783314             0.835010              0.737647\n",
       "2   0.506061              0.785365             0.836673              0.739986\n",
       "3   0.509091              0.787402             0.838323              0.742312\n",
       "4   0.512121              0.789425             0.839960              0.744625\n",
       "..       ...                   ...                  ...                   ...\n",
       "95  0.787879              0.929900             0.948905              0.911641\n",
       "96  0.790909              0.931079             0.949782              0.913098\n",
       "97  0.793939              0.932252             0.950653              0.914549\n",
       "98  0.796970              0.933419             0.951520              0.915993\n",
       "99  0.800000              0.934579             0.952381              0.917431\n",
       "\n",
       "[100 rows x 4 columns]"
      ]
     },
     "execution_count": 38,
     "metadata": {},
     "output_type": "execute_result"
    }
   ],
   "source": [
    "pt.calculate_cpx_rhodes_diagram_lines(\n",
    "        0.5, 0.8, T=None, KdMin=None, KdMax=None)"
   ]
  },
  {
   "cell_type": "code",
   "execution_count": null,
   "id": "36b29e7d-0bcf-4924-b278-b30d8492e386",
   "metadata": {},
   "outputs": [],
   "source": []
  }
 ],
 "metadata": {
  "kernelspec": {
   "display_name": "Python 3 (ipykernel)",
   "language": "python",
   "name": "python3"
  },
  "language_info": {
   "codemirror_mode": {
    "name": "ipython",
    "version": 3
   },
   "file_extension": ".py",
   "mimetype": "text/x-python",
   "name": "python",
   "nbconvert_exporter": "python",
   "pygments_lexer": "ipython3",
   "version": "3.11.4"
  }
 },
 "nbformat": 4,
 "nbformat_minor": 5
}

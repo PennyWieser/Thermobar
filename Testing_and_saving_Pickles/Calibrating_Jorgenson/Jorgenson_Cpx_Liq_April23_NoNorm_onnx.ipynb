{
 "cells": [
  {
   "cell_type": "markdown",
   "id": "738da498-508a-444e-ba20-ae874a5cf20d",
   "metadata": {},
   "source": [
    "## This notebook calibrates the Cpx-Liq machine learning barometr used by Thermobar. \n",
    "- This workbook saves as onnx, so you get the same result everytime, unlike the other workbook, which uses pickles"
   ]
  },
  {
   "cell_type": "code",
   "execution_count": 10,
   "id": "851aa696-2f16-402c-ae61-9d097e75acdd",
   "metadata": {},
   "outputs": [],
   "source": [
    "import numpy as np\n",
    "import pandas as pd\n",
    "import matplotlib.pyplot as plt\n",
    "from sklearn.preprocessing import StandardScaler\n",
    "from sklearn.ensemble import ExtraTreesRegressor\n",
    "from sklearn.metrics import mean_squared_error \n",
    "from sklearn.metrics import r2_score\n",
    "import scipy.cluster.hierarchy as shc\n",
    "from sklearn.cluster import AgglomerativeClustering\n",
    "from sklearn.model_selection import cross_val_score\n",
    "from sklearn.model_selection import RepeatedStratifiedKFold\n",
    "from sklearn.ensemble import ExtraTreesClassifier\n",
    "from sklearn.ensemble import GradientBoostingRegressor\n",
    "\n",
    "%matplotlib inline\n",
    "from sklearn.linear_model import LinearRegression\n",
    "from sklearn.metrics import r2_score\n",
    "from statsmodels.stats.multicomp import pairwise_tukeyhsd\n",
    "from scipy import stats\n",
    "import warnings as w\n",
    "import sys\n",
    "sys.path.append(\"../../..\")\n",
    "import Thermobar as pt\n",
    "pd.set_option('display.max_columns', None)"
   ]
  },
  {
   "cell_type": "code",
   "execution_count": 11,
   "id": "cdfcc0df-8f41-4002-bfdd-b23725dd483f",
   "metadata": {},
   "outputs": [],
   "source": [
    "out_train=pt.import_excel('Jorgenson_Input_filtered.xlsx',\n",
    "                          sheet_name='Jorgenson_Input_filtered_ThBar')\n",
    "out_train_input=out_train['my_input']\n",
    "Cpx_train=out_train['Cpxs']\n",
    "Liq_train=out_train['Liqs']\n",
    "Cpx_train_noID_noT=Cpx_train.drop(['Sample_ID_Cpx'], axis=1)\n",
    "Liq_train_noID_noT=Liq_train#pt.normalize_liquid_jorgenson(liq_comps=Liq_train)\n",
    "Liq_train_noID_noT.drop(['Sample_ID_Liq',  'Fe3Fet_Liq', 'NiO_Liq',\n",
    "                                   'CoO_Liq', 'CO2_Liq', 'H2O_Liq'], \n",
    "                        axis=1, inplace=True)\n",
    "Cpx_Liq_Combo_train=pd.concat([Liq_train_noID_noT, Cpx_train_noID_noT], axis=1)\n",
    "x_train=Cpx_Liq_Combo_train.values\n",
    "y_train_T=out_train_input['T_K']\n",
    "y_train_P=out_train_input['P_kbar']"
   ]
  },
  {
   "cell_type": "code",
   "execution_count": 14,
   "id": "1c0d3530-df7e-46a1-b24c-ed3bb27f0ccb",
   "metadata": {},
   "outputs": [],
   "source": [
    "from skl2onnx import convert_sklearn\n",
    "from skl2onnx.common.data_types import FloatTensorType\n",
    "from sklearn.pipeline import Pipeline\n",
    "crit=\"squared_error\"\n",
    "# Make pipeline\n",
    "maxF=int(np.round(21*(2/3), 0))\n",
    "regr_P = ExtraTreesRegressor(n_estimators=201, criterion=crit, \n",
    "                             max_features=maxF, random_state=80) # random_state fixed for reproducibility\n",
    "\n",
    "regr_T = ExtraTreesRegressor(n_estimators=201, criterion=crit,\n",
    "                             max_features=maxF, random_state=280) # random_state fixed for reproducibility\n",
    "\n",
    "pipeP = Pipeline([\n",
    "    ('regressor', regr_P)\n",
    "])\n",
    "\n",
    "rf_model_P =pipeP.fit(x_train, y_train_P)\n",
    "\n",
    "\n",
    "initial_types_P=[('float_input', FloatTensorType([None, x_train.shape[1]]))]\n",
    "model_onnx_P = convert_sklearn(rf_model_P, initial_types=initial_types_P)\n",
    "\n",
    "pipeT = Pipeline([\n",
    "    ('regressor', regr_T)\n",
    "])\n",
    "\n",
    "rf_model_T =pipeP.fit(x_train, y_train_T)\n",
    "\n",
    "\n",
    "initial_types_T=[('float_input', FloatTensorType([None, x_train.shape[1]]))]\n",
    "model_onnx_T = convert_sklearn(rf_model_T, initial_types=initial_types_T)\n",
    "\n",
    "\n"
   ]
  },
  {
   "cell_type": "code",
   "execution_count": 15,
   "id": "cefb80b5-6d24-444a-85f5-589ad129c36e",
   "metadata": {},
   "outputs": [],
   "source": [
    "with open(\"Jorg21_Cpx_Liq_Temp.onnx\", \"wb\") as f:\n",
    "    f.write(model_onnx_T.SerializeToString())\n",
    "      \n",
    "with open(\"Jorg21_Cpx_Liq_Press.onnx\", \"wb\") as f:\n",
    "    f.write(model_onnx_P.SerializeToString())\n",
    "      "
   ]
  },
  {
   "cell_type": "markdown",
   "id": "879031b4",
   "metadata": {},
   "source": [
    "## Lets test it on Jorgenson data"
   ]
  }
 ],
 "metadata": {
  "kernelspec": {
   "display_name": "base",
   "language": "python",
   "name": "python3"
  },
  "language_info": {
   "codemirror_mode": {
    "name": "ipython",
    "version": 3
   },
   "file_extension": ".py",
   "mimetype": "text/x-python",
   "name": "python",
   "nbconvert_exporter": "python",
   "pygments_lexer": "ipython3",
   "version": "3.11.9"
  }
 },
 "nbformat": 4,
 "nbformat_minor": 5
}

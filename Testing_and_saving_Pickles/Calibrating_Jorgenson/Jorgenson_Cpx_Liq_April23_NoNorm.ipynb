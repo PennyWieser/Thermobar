{
 "cells": [
  {
   "cell_type": "markdown",
   "id": "738da498-508a-444e-ba20-ae874a5cf20d",
   "metadata": {},
   "source": [
    "## This notebook calibrates the Cpx-Liq machine learning barometr used by Thermobar. \n",
    "- We follow Petrelli, where a different random state is used for pressure and temperature\n",
    "- Note, this will likely need rerunning a lot, because it seems if sklearn changes version too much, the pickles wont load. \n",
    "- With each change in Sklearn, the answer will likely change. The change from v023.2 resulted in a change of up to ~0.8 kbar per Cpx. This is sadly unavoidable as far as we know, although if you have a suggestion please let us know!"
   ]
  },
  {
   "cell_type": "code",
   "execution_count": 1,
   "id": "851aa696-2f16-402c-ae61-9d097e75acdd",
   "metadata": {},
   "outputs": [],
   "source": [
    "import numpy as np\n",
    "import pandas as pd\n",
    "import matplotlib.pyplot as plt\n",
    "from sklearn.preprocessing import StandardScaler\n",
    "from sklearn.ensemble import ExtraTreesRegressor\n",
    "from sklearn.metrics import mean_squared_error \n",
    "from sklearn.metrics import r2_score\n",
    "import scipy.cluster.hierarchy as shc\n",
    "from sklearn.cluster import AgglomerativeClustering\n",
    "from sklearn.model_selection import cross_val_score\n",
    "from sklearn.model_selection import RepeatedStratifiedKFold\n",
    "from sklearn.ensemble import ExtraTreesClassifier\n",
    "from sklearn.ensemble import GradientBoostingRegressor\n",
    "\n",
    "%matplotlib inline\n",
    "from sklearn.linear_model import LinearRegression\n",
    "from sklearn.metrics import r2_score\n",
    "from statsmodels.stats.multicomp import pairwise_tukeyhsd\n",
    "from scipy import stats\n",
    "import warnings as w\n",
    "import sys\n",
    "sys.path.append(\"../../..\")\n",
    "import Thermobar as pt\n",
    "pd.set_option('display.max_columns', None)"
   ]
  },
  {
   "cell_type": "code",
   "execution_count": 2,
   "id": "cdfcc0df-8f41-4002-bfdd-b23725dd483f",
   "metadata": {},
   "outputs": [],
   "source": [
    "out_train=pt.import_excel('Jorgenson_Input_filtered.xlsx',\n",
    "                          sheet_name='Jorgenson_Input_filtered_ThBar')\n",
    "out_train_input=out_train['my_input']\n",
    "Cpx_train=out_train['Cpxs']\n",
    "Liq_train=out_train['Liqs']\n",
    "Cpx_train_noID_noT=Cpx_train.drop(['Sample_ID_Cpx'], axis=1)\n",
    "Liq_train_noID_noT=Liq_train#pt.normalize_liquid_jorgenson(liq_comps=Liq_train)\n",
    "Liq_train_noID_noT.drop(['Sample_ID_Liq',  'Fe3Fet_Liq', 'NiO_Liq',\n",
    "                                   'CoO_Liq', 'CO2_Liq', 'H2O_Liq'], \n",
    "                        axis=1, inplace=True)\n",
    "Cpx_Liq_Combo_train=pd.concat([Liq_train_noID_noT, Cpx_train_noID_noT], axis=1)\n",
    "x_train=Cpx_Liq_Combo_train.values\n",
    "y_train_T=out_train_input['T_K']\n",
    "y_train_P=out_train_input['P_kbar']"
   ]
  },
  {
   "cell_type": "code",
   "execution_count": 3,
   "id": "c19a56bc-6ed7-46ad-bfff-df81c3754e66",
   "metadata": {},
   "outputs": [
    {
     "data": {
      "text/html": [
       "<style>#sk-container-id-1 {color: black;}#sk-container-id-1 pre{padding: 0;}#sk-container-id-1 div.sk-toggleable {background-color: white;}#sk-container-id-1 label.sk-toggleable__label {cursor: pointer;display: block;width: 100%;margin-bottom: 0;padding: 0.3em;box-sizing: border-box;text-align: center;}#sk-container-id-1 label.sk-toggleable__label-arrow:before {content: \"▸\";float: left;margin-right: 0.25em;color: #696969;}#sk-container-id-1 label.sk-toggleable__label-arrow:hover:before {color: black;}#sk-container-id-1 div.sk-estimator:hover label.sk-toggleable__label-arrow:before {color: black;}#sk-container-id-1 div.sk-toggleable__content {max-height: 0;max-width: 0;overflow: hidden;text-align: left;background-color: #f0f8ff;}#sk-container-id-1 div.sk-toggleable__content pre {margin: 0.2em;color: black;border-radius: 0.25em;background-color: #f0f8ff;}#sk-container-id-1 input.sk-toggleable__control:checked~div.sk-toggleable__content {max-height: 200px;max-width: 100%;overflow: auto;}#sk-container-id-1 input.sk-toggleable__control:checked~label.sk-toggleable__label-arrow:before {content: \"▾\";}#sk-container-id-1 div.sk-estimator input.sk-toggleable__control:checked~label.sk-toggleable__label {background-color: #d4ebff;}#sk-container-id-1 div.sk-label input.sk-toggleable__control:checked~label.sk-toggleable__label {background-color: #d4ebff;}#sk-container-id-1 input.sk-hidden--visually {border: 0;clip: rect(1px 1px 1px 1px);clip: rect(1px, 1px, 1px, 1px);height: 1px;margin: -1px;overflow: hidden;padding: 0;position: absolute;width: 1px;}#sk-container-id-1 div.sk-estimator {font-family: monospace;background-color: #f0f8ff;border: 1px dotted black;border-radius: 0.25em;box-sizing: border-box;margin-bottom: 0.5em;}#sk-container-id-1 div.sk-estimator:hover {background-color: #d4ebff;}#sk-container-id-1 div.sk-parallel-item::after {content: \"\";width: 100%;border-bottom: 1px solid gray;flex-grow: 1;}#sk-container-id-1 div.sk-label:hover label.sk-toggleable__label {background-color: #d4ebff;}#sk-container-id-1 div.sk-serial::before {content: \"\";position: absolute;border-left: 1px solid gray;box-sizing: border-box;top: 0;bottom: 0;left: 50%;z-index: 0;}#sk-container-id-1 div.sk-serial {display: flex;flex-direction: column;align-items: center;background-color: white;padding-right: 0.2em;padding-left: 0.2em;position: relative;}#sk-container-id-1 div.sk-item {position: relative;z-index: 1;}#sk-container-id-1 div.sk-parallel {display: flex;align-items: stretch;justify-content: center;background-color: white;position: relative;}#sk-container-id-1 div.sk-item::before, #sk-container-id-1 div.sk-parallel-item::before {content: \"\";position: absolute;border-left: 1px solid gray;box-sizing: border-box;top: 0;bottom: 0;left: 50%;z-index: -1;}#sk-container-id-1 div.sk-parallel-item {display: flex;flex-direction: column;z-index: 1;position: relative;background-color: white;}#sk-container-id-1 div.sk-parallel-item:first-child::after {align-self: flex-end;width: 50%;}#sk-container-id-1 div.sk-parallel-item:last-child::after {align-self: flex-start;width: 50%;}#sk-container-id-1 div.sk-parallel-item:only-child::after {width: 0;}#sk-container-id-1 div.sk-dashed-wrapped {border: 1px dashed gray;margin: 0 0.4em 0.5em 0.4em;box-sizing: border-box;padding-bottom: 0.4em;background-color: white;}#sk-container-id-1 div.sk-label label {font-family: monospace;font-weight: bold;display: inline-block;line-height: 1.2em;}#sk-container-id-1 div.sk-label-container {text-align: center;}#sk-container-id-1 div.sk-container {/* jupyter's `normalize.less` sets `[hidden] { display: none; }` but bootstrap.min.css set `[hidden] { display: none !important; }` so we also need the `!important` here to be able to override the default hidden behavior on the sphinx rendered scikit-learn.org. See: https://github.com/scikit-learn/scikit-learn/issues/21755 */display: inline-block !important;position: relative;}#sk-container-id-1 div.sk-text-repr-fallback {display: none;}</style><div id=\"sk-container-id-1\" class=\"sk-top-container\"><div class=\"sk-text-repr-fallback\"><pre>ExtraTreesRegressor(max_features=14, n_estimators=201, random_state=80)</pre><b>In a Jupyter environment, please rerun this cell to show the HTML representation or trust the notebook. <br />On GitHub, the HTML representation is unable to render, please try loading this page with nbviewer.org.</b></div><div class=\"sk-container\" hidden><div class=\"sk-item\"><div class=\"sk-estimator sk-toggleable\"><input class=\"sk-toggleable__control sk-hidden--visually\" id=\"sk-estimator-id-1\" type=\"checkbox\" checked><label for=\"sk-estimator-id-1\" class=\"sk-toggleable__label sk-toggleable__label-arrow\">ExtraTreesRegressor</label><div class=\"sk-toggleable__content\"><pre>ExtraTreesRegressor(max_features=14, n_estimators=201, random_state=80)</pre></div></div></div></div></div>"
      ],
      "text/plain": [
       "ExtraTreesRegressor(max_features=14, n_estimators=201, random_state=80)"
      ]
     },
     "execution_count": 3,
     "metadata": {},
     "output_type": "execute_result"
    }
   ],
   "source": [
    "# Scaling\n",
    "#scaler = StandardScaler().fit(x_train)\n",
    "x_train_scaled =x_train# scaler.transform(x_train)\n",
    "\n",
    "# Corin says max features=#*2.3\n",
    "maxF=int(np.round(21*(2/3), 0))\n",
    "crit=\"squared_error\"\n",
    "# Define the regressor, in our case the Extra Tree Regressor\n",
    "regr_T = ExtraTreesRegressor(n_estimators=201, criterion=crit,\n",
    "                             max_features=maxF, random_state=280) # random_state fixed for reproducibility\n",
    "\n",
    "# Define the regressor, in our case the Extra Tree Regressor\n",
    "regr_P = ExtraTreesRegressor(n_estimators=201, criterion=crit, \n",
    "                             max_features=maxF, random_state=80) # random_state fixed for reproducibility\n",
    "\n",
    "# Train the model\n",
    "regr_T.fit(x_train_scaled, y_train_T.ravel())\n",
    "regr_P.fit(x_train_scaled, y_train_P.ravel())"
   ]
  },
  {
   "cell_type": "markdown",
   "id": "5a762c6e",
   "metadata": {},
   "source": [
    "## These were saved April 24th, 2022. Used in Thermobar until Oct 6th, 2023"
   ]
  },
  {
   "cell_type": "code",
   "execution_count": 4,
   "id": "e9a3ad7d-c45e-4bfb-a3d3-2cd11cd5a37f",
   "metadata": {},
   "outputs": [],
   "source": [
    "# from pickle import dump\n",
    "# #dump(scaler, open('scaler_Jorg21_Cpx_Liq_April24.pkl', 'wb'))\n",
    "\n",
    "\n",
    "# import joblib\n",
    "# joblib.dump(regr_P,  'ETR_Press_Jorg21_Cpx_Liq_April24_NotNorm.pkl',compress=3)\n",
    "\n",
    "# joblib.dump(regr_T,  'ETR_Temp_Jorg21_Cpx_Liq_April24_NotNorm.pkl',compress=3)"
   ]
  },
  {
   "cell_type": "markdown",
   "id": "1529a300",
   "metadata": {},
   "source": [
    "## New Sklearn version saved Oct 6th, 2023\n",
    "- Asked Jorgenson didnt use a scalar"
   ]
  },
  {
   "cell_type": "code",
   "execution_count": 6,
   "id": "ddc7837b",
   "metadata": {},
   "outputs": [
    {
     "data": {
      "text/plain": [
       "['ETR_Temp_Jorg21_Cpx_Liq_NotNorm_sklearn_1_3.pkl']"
      ]
     },
     "execution_count": 6,
     "metadata": {},
     "output_type": "execute_result"
    }
   ],
   "source": [
    "from pickle import dump\n",
    "#dump(scaler, open('scaler_Jorg21_Cpx_Liq_sklearn_1_3.pkl', 'wb'))\n",
    "\n",
    "\n",
    "import joblib\n",
    "joblib.dump(regr_P,  'ETR_Press_Jorg21_Cpx_Liq_NotNorm_sklearn_1_3.pkl',compress=3)\n",
    "\n",
    "joblib.dump(regr_T,  'ETR_Temp_Jorg21_Cpx_Liq_NotNorm_sklearn_1_3.pkl',compress=3)"
   ]
  }
 ],
 "metadata": {
  "kernelspec": {
   "display_name": "Python 3 (ipykernel)",
   "language": "python",
   "name": "python3"
  },
  "language_info": {
   "codemirror_mode": {
    "name": "ipython",
    "version": 3
   },
   "file_extension": ".py",
   "mimetype": "text/x-python",
   "name": "python",
   "nbconvert_exporter": "python",
   "pygments_lexer": "ipython3",
   "version": "3.11.4"
  }
 },
 "nbformat": 4,
 "nbformat_minor": 5
}

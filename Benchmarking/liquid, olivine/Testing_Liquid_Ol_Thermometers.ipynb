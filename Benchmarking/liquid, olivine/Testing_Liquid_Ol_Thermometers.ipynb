{
 "cells": [
  {
   "cell_type": "markdown",
   "metadata": {},
   "source": [
    "# This notebook compares the results from Thermobar to those calculated using the spreadsheet hosted on Keith Putirka's personal website\n",
    "(http://www.fresnostate.edu/csm/ees/faculty-staff/putirka.html)\n",
    "- Small discrepencies on the order of <1 K are due to inconsistencies in the molar masses in the spreadsheet of Putirka, e.g., for Ol cat proportions, SiO2 mass=60.08, for liquid, 60.0843 etc. \n",
    "- For TiO2, was 79.7877, vs. 79.866"
   ]
  },
  {
   "cell_type": "code",
   "execution_count": null,
   "metadata": {},
   "outputs": [],
   "source": [
    "import numpy as np\n",
    "import pandas as pd\n",
    "import matplotlib.pyplot as plt\n",
    "import Thermobar as pt\n",
    "from functools import partial"
   ]
  },
  {
   "cell_type": "code",
   "execution_count": null,
   "metadata": {},
   "outputs": [],
   "source": [
    "out=pt.import_excel('PythonInput_OlLiq_Thermometers_Putirka.xlsx',\n",
    "                    sheet_name=\"SM Tab4_editedMM\")\n",
    "my_input=out['my_input']\n",
    "myOls1=out['Ols']\n",
    "myLiquids1=out['Liqs']"
   ]
  },
  {
   "cell_type": "markdown",
   "metadata": {},
   "source": [
    "# Adapted olivine-liquid thermometers, where Dmg is calculated from the liquid composition"
   ]
  },
  {
   "cell_type": "markdown",
   "metadata": {},
   "source": [
    "## equation 22 using calculated DMg from Beattie"
   ]
  },
  {
   "cell_type": "code",
   "execution_count": null,
   "metadata": {},
   "outputs": [],
   "source": [
    "Beatt93_HelzCorr=pt.calculate_liq_only_temp(liq_comps=myLiquids1,  equationT=\"T_Put2008_eq22_BeattDMg\", \n",
    "                                       P=10*my_input['P_GPa'])-273.15\n",
    "fig, (ax1, ax2) = plt.subplots(1, 2, figsize=(10, 5))\n",
    "ax1.plot((np.min(my_input.P_Put2008_Eq22_NoOl), np.max(my_input.P_Put2008_Eq22_NoOl)), (np.min(my_input.P_Put2008_Eq22_NoOl), np.max(my_input.P_Put2008_Eq22_NoOl)), '-r')\n",
    "ax1.plot(Beatt93_HelzCorr, my_input.P_Put2008_Eq22_NoOl, 'ok')\n",
    "ax2.plot(Beatt93_HelzCorr, Beatt93_HelzCorr-my_input.P_Put2008_Eq22_NoOl, 'ok')\n",
    "ax1.set_xlabel('Python T (°C)')\n",
    "ax1.set_ylabel('Putirka Spreadsheet T (°C)')\n",
    "ax2.set_xlabel('Python T (°C)')\n",
    "ax2.set_ylabel('Python/Putirka Spreadsheet (°C)')\n",
    "#ax2.set_ylim([0.995, 1.005])\n",
    "plt.subplots_adjust(left=0.125, bottom=None, right=0.9, top=None, wspace=0.5, hspace=None)"
   ]
  },
  {
   "cell_type": "markdown",
   "metadata": {},
   "source": [
    "## equation 21 using calculated DMg from Beattie"
   ]
  },
  {
   "cell_type": "code",
   "execution_count": null,
   "metadata": {},
   "outputs": [],
   "source": [
    "Beatt93_HelzCorr=pt.calculate_liq_only_temp(liq_comps=myLiquids1,  equationT=\"T_Put2008_eq21_BeattDMg\", P=10*my_input['P_GPa'])-273.15\n",
    "fig, (ax1, ax2) = plt.subplots(1, 2, figsize=(10, 5))\n",
    "ax1.plot((np.min(my_input.P_Put2008_Eq21_NoOl), np.max(my_input.P_Put2008_Eq21_NoOl)), (np.min(my_input.P_Put2008_Eq21_NoOl), np.max(my_input.P_Put2008_Eq21_NoOl)), '-r')\n",
    "ax1.plot(Beatt93_HelzCorr, my_input.P_Put2008_Eq21_NoOl, 'ok')\n",
    "ax2.plot(Beatt93_HelzCorr, Beatt93_HelzCorr-my_input.P_Put2008_Eq21_NoOl, 'ok')\n",
    "ax1.set_xlabel('Python T (°C)')\n",
    "ax1.set_ylabel('Putirka Spreadsheet T (°C)')\n",
    "ax2.set_xlabel('Python T (°C)')\n",
    "ax2.set_ylabel('Python-Putirka Spreadsheet (°C)')\n",
    "plt.subplots_adjust(left=0.125, bottom=None, right=0.9, top=None, wspace=0.5, hspace=None)"
   ]
  },
  {
   "cell_type": "markdown",
   "metadata": {},
   "source": [
    "# Liquid-only thermometers"
   ]
  },
  {
   "cell_type": "markdown",
   "metadata": {},
   "source": [
    "### Testing Putirka Eq 13"
   ]
  },
  {
   "cell_type": "code",
   "execution_count": null,
   "metadata": {},
   "outputs": [],
   "source": [
    "Teq13=pt.calculate_liq_only_temp(liq_comps=myLiquids1, equationT=\"T_Put2008_eq13\")-273.15\n",
    "fig, (ax1, ax2) = plt.subplots(1, 2, figsize=(10, 5))\n",
    "ax1.plot((np.min(my_input.P_S_Eq13), np.max(my_input.P_S_Eq13)), (np.min(my_input.P_S_Eq13), np.max(my_input.P_S_Eq13)), '-r')\n",
    "ax1.plot(Teq13, my_input.P_S_Eq13, 'ok')\n",
    "ax2.plot(Teq13, Teq13-my_input['P_S_Eq13'], 'ok')\n",
    "ax1.set_xlabel('Python T (°C)')\n",
    "ax1.set_ylabel('Putirka Spreadsheet T (°C)')\n",
    "ax2.set_xlabel('Python T (°C)')\n",
    "ax2.set_ylabel('Python-Putirka Spreadsheet')\n",
    "#ax2.set_ylim([0.995, 1.005])"
   ]
  },
  {
   "cell_type": "markdown",
   "metadata": {},
   "source": [
    "### Testing Putirka Eq 14\n",
    "- Discrepencies are because the putirka spreadsheet calculators Liquid Mg# using FeOT, rather than FeO. Does say in instructions that it doesnt matter much (which is very true)\n",
    "- Here have pasted in a row if Putirka uses Fe2+ instead for Mg# - shown here in red"
   ]
  },
  {
   "cell_type": "code",
   "execution_count": null,
   "metadata": {},
   "outputs": [],
   "source": [
    "\n",
    "Teq14=pt.calculate_liq_only_temp(liq_comps=myLiquids1,  equationT=\"T_Put2008_eq14\")-273.15\n",
    "fig, (ax1, ax2) = plt.subplots(1, 2, figsize=(10, 5))\n",
    "ax1.plot((np.min(my_input.P_S_Eq14), np.max(my_input.P_S_Eq14)), (np.min(my_input.P_S_Eq14), np.max(my_input.P_S_Eq14)), '-r')\n",
    "ax1.plot(Teq14, my_input.P_S_Eq14, 'ok')\n",
    "\n",
    "\n",
    "\n",
    "ax2.plot(Teq14, Teq14-my_input.P_S_Eq14, 'ok')\n",
    "ax1.set_xlabel('Python T (°C)')\n",
    "ax1.set_ylabel('Putirka Spreadsheet T (°C)')\n",
    "ax2.set_xlabel('Python T (°C)')\n",
    "ax2.set_ylabel('Python-Putirka Spreadsheet (°C)')\n",
    "plt.subplots_adjust(left=0.125, bottom=None, right=0.9, top=None, wspace=0.5, hspace=None)"
   ]
  },
  {
   "cell_type": "markdown",
   "metadata": {},
   "source": [
    "### Testing Putirka Eq 15\n",
    "- Discrepencies are because the putirka spreadsheet calculators Liquid Mg# using FeOT, rather than FeO. Does say in instructions that it doesnt matter much (which is very true)\n",
    "- Here have pasted in a row if Putirka uses Fe2+ instead for Mg# - shown here in red"
   ]
  },
  {
   "cell_type": "code",
   "execution_count": null,
   "metadata": {},
   "outputs": [],
   "source": [
    "Teq15=pt.calculate_liq_only_temp(liq_comps=myLiquids1,  equationT=\"T_Put2008_eq15\", \n",
    "                            P=10*my_input['P_GPa'])-273.15\n",
    "fig, (ax1, ax2) = plt.subplots(1, 2, figsize=(10, 5))\n",
    "ax1.plot((np.min(my_input.P_S_Eq15), np.max(my_input.P_S_Eq15)), (np.min(my_input.P_S_Eq15), np.max(my_input.P_S_Eq15)), '-r')\n",
    "ax1.plot(Teq15, my_input.P_S_Eq15, 'ok')\n",
    "\n",
    "\n",
    "\n",
    "ax2.plot(Teq15, Teq15-my_input.P_S_Eq15, 'ok')\n",
    "\n",
    "ax1.set_xlabel('Python T (°C)')\n",
    "ax1.set_ylabel('Putirka Spreadsheet T (°C)')\n",
    "ax2.set_xlabel('Python T (°C)')\n",
    "ax2.set_ylabel('Python-Putirka Spreadsheet (°C)')\n",
    "plt.subplots_adjust(left=0.125, bottom=None, right=0.9, top=None, wspace=0.5, hspace=None)"
   ]
  },
  {
   "cell_type": "markdown",
   "metadata": {},
   "source": [
    "### Testing Putirka Eq 16\n",
    "- Discrepency is because Putirka calculates mole fractoins using FeOT, but cation fractions using FeO(2+). \n",
    "- Here, have calculated cation fractions Need to email and work out why these inconsistencies are there/"
   ]
  },
  {
   "cell_type": "code",
   "execution_count": null,
   "metadata": {},
   "outputs": [],
   "source": [
    "Teq16=pt.calculate_liq_only_temp(liq_comps=myLiquids1,  equationT=\"T_Put2008_eq16\", P=10*my_input['P_GPa'])-273.15\n",
    "fig, (ax1, ax2) = plt.subplots(1, 2, figsize=(10, 5))\n",
    "ax1.plot((np.min(my_input.P_S_Eq16), np.max(my_input.P_S_Eq16)), (np.min(my_input.P_S_Eq16), np.max(my_input.P_S_Eq16)), '-r')\n",
    "ax1.plot(Teq16, my_input.P_S_Eq16, 'ok')\n",
    "ax2.plot(Teq16, Teq16-my_input.P_S_Eq16, 'ok')\n",
    "ax1.set_xlabel('Python T (°C)')\n",
    "ax1.set_ylabel('Putirka Spreadsheet T (°C)')\n",
    "ax2.set_xlabel('Python T (°C)')\n",
    "ax2.set_ylabel('Python-Putirka Spreadsheet (°C)')\n",
    "plt.subplots_adjust(left=0.125, bottom=None, right=0.9, top=None, wspace=0.9, hspace=None)"
   ]
  },
  {
   "cell_type": "markdown",
   "metadata": {},
   "source": [
    "### Testing Putirka Helz thornber 1987 MgO"
   ]
  },
  {
   "cell_type": "code",
   "execution_count": null,
   "metadata": {},
   "outputs": [],
   "source": [
    "HT87_Mg=pt.calculate_liq_only_temp(liq_comps=myLiquids1,  equationT=\"T_Helz1987_MgO\")-273.16\n",
    "fig, (ax1, ax2) = plt.subplots(1, 2, figsize=(10, 5))\n",
    "ax1.plot((np.min(my_input.P_S_HT87_Mg), np.max(my_input.P_S_HT87_Mg)), (np.min(my_input.P_S_HT87_Mg), np.max(my_input.P_S_HT87_Mg)), '-r')\n",
    "ax1.plot(HT87_Mg, my_input.P_S_HT87_Mg, 'ok')\n",
    "ax2.plot(HT87_Mg, HT87_Mg-my_input.P_S_HT87_Mg, 'ok')\n",
    "ax1.set_xlabel('Python T (°C)')\n",
    "ax1.set_ylabel('Putirka Spreadsheet T (°C)')\n",
    "ax2.set_xlabel('Python T (°C)')\n",
    "ax2.set_ylabel('Python-Putirka Spreadsheet (°C)')\n",
    "plt.subplots_adjust(left=0.125, bottom=None, right=0.9, top=None, wspace=0.4, hspace=None)"
   ]
  },
  {
   "cell_type": "markdown",
   "metadata": {},
   "source": [
    "### Testing Putirka Helz thornber 1987 CaO"
   ]
  },
  {
   "cell_type": "code",
   "execution_count": null,
   "metadata": {},
   "outputs": [],
   "source": [
    "HT87_Ca=pt.calculate_liq_only_temp(liq_comps=myLiquids1,  equationT=\"T_Helz1987_CaO\")-273.16\n",
    "fig, (ax1, ax2) = plt.subplots(1, 2, figsize=(10, 5))\n",
    "ax1.plot((np.min(my_input.P_S_HT87_Ca), np.max(my_input.P_S_HT87_Ca)), (np.min(my_input.P_S_HT87_Ca), np.max(my_input.P_S_HT87_Ca)), '-r')\n",
    "ax1.plot(HT87_Ca, my_input.P_S_HT87_Ca, 'ok')\n",
    "ax2.plot(HT87_Ca, HT87_Ca-my_input.P_S_HT87_Ca, 'ok')\n",
    "ax1.set_xlabel('Python T (°C)')\n",
    "ax1.set_ylabel('Putirka Spreadsheet T (°C)')\n",
    "ax2.set_xlabel('Python T (°C)')\n",
    "ax2.set_ylabel('Python-Putirka Spreadsheet')\n",
    "plt.subplots_adjust(left=0.125, bottom=None, right=0.9, top=None, wspace=0.4, hspace=None)"
   ]
  },
  {
   "cell_type": "markdown",
   "metadata": {},
   "source": [
    "### Testing  Beattie1993"
   ]
  },
  {
   "cell_type": "code",
   "execution_count": null,
   "metadata": {},
   "outputs": [],
   "source": [
    "Beatt93=pt.calculate_liq_only_temp(liq_comps=myLiquids1,  equationT=\"T_Beatt93_BeattDMg\", \n",
    "                              P=10*my_input['P_GPa'])-273.15\n",
    "fig, (ax1, ax2) = plt.subplots(1, 2, figsize=(10, 5))\n",
    "ax1.plot((np.min(my_input.P_S_Beatt93), np.max(my_input.P_S_Beatt93)), (np.min(my_input.P_S_Beatt93), np.max(my_input.P_S_Beatt93)), '-r')\n",
    "ax1.plot(Beatt93, my_input.P_S_Beatt93, 'ok')\n",
    "ax2.plot(Beatt93, Beatt93-my_input.P_S_Beatt93, 'ok')\n",
    "ax1.set_xlabel('Python T (°C)')\n",
    "ax1.set_ylabel('Putirka Spreadsheet T (°C)')\n",
    "ax2.set_xlabel('Python T (°C)')\n",
    "ax2.set_ylabel('Python-Putirka Spreadsheet (°C)')\n",
    "plt.subplots_adjust(left=0.125, bottom=None, right=0.9, top=None, wspace=0.4, hspace=None)"
   ]
  },
  {
   "cell_type": "markdown",
   "metadata": {},
   "source": [
    "### Testing Beattie 93 Helz correction"
   ]
  },
  {
   "cell_type": "code",
   "execution_count": null,
   "metadata": {},
   "outputs": [],
   "source": [
    "Beatt93_HelzCorr=pt.calculate_liq_only_temp(liq_comps=myLiquids1,  equationT=\"T_Beatt93_BeattDMg_HerzCorr\",\n",
    "                                       P=10*my_input['P_GPa'])-273.15\n",
    "fig, (ax1, ax2) = plt.subplots(1, 2, figsize=(10, 5))\n",
    "ax1.plot((np.min(my_input.P_S_Beatt93_HelzCorr), np.max(my_input.P_S_Beatt93_HelzCorr)), (np.min(my_input.P_S_Beatt93_HelzCorr), np.max(my_input.P_S_Beatt93_HelzCorr)), '-r')\n",
    "ax1.plot(Beatt93_HelzCorr, my_input.P_S_Beatt93_HelzCorr, 'ok')\n",
    "ax2.plot(Beatt93_HelzCorr, Beatt93_HelzCorr-my_input.P_S_Beatt93_HelzCorr, 'ok')\n",
    "ax1.set_xlabel('Python T (°C)')\n",
    "ax1.set_ylabel('Putirka Spreadsheet T (°C)')\n",
    "ax2.set_xlabel('Python T (°C)')\n",
    "ax2.set_ylabel('Python/Putirka Spreadsheet (°C)')\n",
    "plt.subplots_adjust(left=0.125, bottom=None, right=0.9, top=None, wspace=0.4, hspace=None)"
   ]
  },
  {
   "cell_type": "markdown",
   "metadata": {},
   "source": [
    "## Putirka 2008 equation 19 using Kd ol-liq from Beattie (combination of equation 19 and 20 from the 2008 paper)"
   ]
  },
  {
   "cell_type": "markdown",
   "metadata": {},
   "source": [
    "- Discrepencies likely molar masses, which are a little different within this # of decimal places"
   ]
  },
  {
   "cell_type": "code",
   "execution_count": null,
   "metadata": {},
   "outputs": [],
   "source": [
    "Beatteq19_HelzCorr=pt.calculate_liq_only_temp(liq_comps=myLiquids1, \n",
    "                                       equationT=\"T_Put2008_eq19_BeattDMg\", P=10*my_input['P_GPa'])-273.15\n",
    "fig, (ax1, ax2) = plt.subplots(1, 2, figsize=(10, 5))\n",
    "ax1.plot((np.min(my_input.P_Put2008_Eq19_NoOl), np.max(my_input.P_Put2008_Eq19_NoOl)), (np.min(my_input.P_Put2008_Eq19_NoOl), np.max(my_input.P_Put2008_Eq19_NoOl)), '-r')\n",
    "ax1.plot(Beatteq19_HelzCorr, my_input.P_Put2008_Eq19_NoOl, 'ok')\n",
    "ax2.plot(Beatteq19_HelzCorr, Beatteq19_HelzCorr-my_input.P_Put2008_Eq19_NoOl, 'ok')\n",
    "ax1.set_xlabel('Python T (°C)')\n",
    "ax1.set_ylabel('Putirka Spreadsheet T (°C)')\n",
    "ax2.set_xlabel('Python T (°C)')\n",
    "ax2.set_ylabel('Python-Putirka Spreadsheet (°C)')\n",
    "plt.subplots_adjust(left=0.125, bottom=None, right=0.9, top=None, wspace=0.5, hspace=None)"
   ]
  },
  {
   "cell_type": "markdown",
   "metadata": {},
   "source": [
    "# Sugawara liquid-only thermometers - Can't find a tool, but show that they give reasonably similar results to T_Put2008_eq14"
   ]
  },
  {
   "cell_type": "markdown",
   "metadata": {},
   "source": [
    "## Equation 1\n",
    "- No direct comparison, but for equation 1, can pretty much recreate their figure 3 for these liquids, red line is taken from their plot (hard to be more precise due to thick line width)\n",
    "- Their figure also shows helz and thornber offset to lower Temp, which this comparison shows too"
   ]
  },
  {
   "cell_type": "code",
   "execution_count": null,
   "metadata": {},
   "outputs": [],
   "source": [
    "a=pt.calculate_anhydrous_cat_fractions_liquid(liq_comps=myLiquids1)\n",
    "\n",
    "T_py_Seq1=pt.calculate_liq_only_temp(liq_comps=myLiquids1, equationT=\"T_Sug2000_eq1\")#-273.15\n",
    "T_py_HT=pt.calculate_liq_only_temp(liq_comps=myLiquids1, equationT=\"T_Helz1987_MgO\")\n",
    "plt.plot(100*a.MgO_Liq_mol_frac, T_py_Seq1, 'ok')\n",
    "plt.plot(100*a.MgO_Liq_mol_frac, T_py_HT, 'og')\n",
    "\n",
    "# Line taking from Figure in paper, very thick line so hard to tell. Shows helz and thornber offset to lower temps, as see here \n",
    "plt.plot([0, 25], [1320, 1640], '-r')\n",
    "plt.xlabel('Temp (K)')\n",
    "plt.ylabel('MgO in Liquid (mol%)')"
   ]
  },
  {
   "cell_type": "markdown",
   "metadata": {},
   "source": [
    "## For equation 3, compare to equation 1"
   ]
  },
  {
   "cell_type": "code",
   "execution_count": null,
   "metadata": {},
   "outputs": [],
   "source": [
    "## Offset on their figure 5, is 30-50K at 1 Gpa, which pretty much matches this here. \n",
    "T_py_Seq1=pt.calculate_liq_only_temp(liq_comps=myLiquids1, equationT=\"T_Sug2000_eq1\")#-273.15\n",
    "T_py_Seq3_ol_1kbar=pt.calculate_liq_only_temp(liq_comps=myLiquids1, equationT=\"T_Sug2000_eq3_ol\", P=1)#-273.15\n",
    "T_py_Seq3_ol_10kbar=pt.calculate_liq_only_temp(liq_comps=myLiquids1, equationT=\"T_Sug2000_eq3_ol\", P=10)#-273.15\n",
    "\n",
    "plt.plot(T_py_Seq1, T_py_Seq3_ol_1kbar, 'ok', label=\"10 kbar\")\n",
    "plt.plot(T_py_Seq1, T_py_Seq3_ol_10kbar, 'og', label=\"10 kbar\")\n",
    "plt.plot([1340, 1440], [1340, 1440], '-r')\n",
    "plt.legend()"
   ]
  },
  {
   "cell_type": "code",
   "execution_count": null,
   "metadata": {},
   "outputs": [],
   "source": [
    "T_py_Seq1=pt.calculate_liq_only_temp(liq_comps=myLiquids1, equationT=\"T_Sug2000_eq1\")#-273.15\n",
    "T_py_Seq6_cpx_1kbar=pt.calculate_liq_only_temp(liq_comps=myLiquids1, equationT=\"T_Sug2000_eq6a\", P=1)#-273.15\n",
    "T_py_Seq6_cpx_10kbar=pt.calculate_liq_only_temp(liq_comps=myLiquids1, equationT=\"T_Sug2000_eq6a\", P=10)#-273.15\n",
    "\n",
    "plt.plot(T_py_Seq1, T_py_Seq6_cpx_1kbar, 'ok', label=\"1 kbar\")\n",
    "plt.plot(T_py_Seq1, T_py_Seq6_cpx_10kbar, 'og', label=\"10 kbar\")\n",
    "plt.plot([1340, 1440], [1340, 1440], '-r')\n",
    "plt.legend()"
   ]
  },
  {
   "cell_type": "code",
   "execution_count": null,
   "metadata": {},
   "outputs": [],
   "source": [
    "T_py_Seq6a=pt.calculate_liq_only_temp(liq_comps=myLiquids1, equationT=\"T_Sug2000_eq6a\", P=1)#-273.15\n",
    "T_py_Seq6_cpx_1kbar=pt.calculate_liq_only_temp(liq_comps=myLiquids1, equationT=\"T_Sug2000_eq6b\", P=1)#-273.15\n",
    "T_py_Seq6_cpx_10kbar=pt.calculate_liq_only_temp(liq_comps=myLiquids1, equationT=\"T_Sug2000_eq6b\", P=10)#-273.15\n",
    "\n",
    "plt.plot(T_py_Seq6a, T_py_Seq6_cpx_1kbar, 'ok', label=\"1 kbar\")\n",
    "plt.plot(T_py_Seq6a, T_py_Seq6_cpx_10kbar, 'og', label=\"10 kbar\")\n",
    "plt.plot([1340, 1440], [1340, 1440], '-r')\n",
    "plt.legend()"
   ]
  },
  {
   "cell_type": "markdown",
   "metadata": {},
   "source": [
    "# Olivine- Liquid thermometers"
   ]
  },
  {
   "cell_type": "markdown",
   "metadata": {},
   "source": [
    "## Testing Beattie (1993)"
   ]
  },
  {
   "cell_type": "code",
   "execution_count": 55,
   "metadata": {},
   "outputs": [],
   "source": [
    "out=pt.import_excel('PythonInput_OlLiq_Thermometers_Putirka.xlsx', sheet_name=\"SM Tab4\")\n",
    "my_input=out['my_input']\n",
    "myOls1=out['Ols']\n",
    "myLiquids1=out['Liqs']"
   ]
  },
  {
   "cell_type": "code",
   "execution_count": null,
   "metadata": {},
   "outputs": [],
   "source": [
    "T_Put=my_input['P_S_Beatt93_UsingOlivine'] \n",
    "T_pyf=pt.calculate_ol_liq_temp(liq_comps=myLiquids1, ol_comps=myOls1,  equationT=\"T_Beatt93_ol\", P=10*my_input['P_GPa'])-273.15\n",
    "T_py=T_pyf['T_K_calc']\n",
    "fig, ((ax1, ax2)) = plt.subplots(1, 2, figsize=(12, 5))\n",
    "#plotting 1:1 line\n",
    "ax1.plot([np.min(T_Put), np.max(T_Put)], [np.min(T_Put), np.max(T_Put)], '-r')\n",
    "ax1.plot(T_py, T_Put, 'ok')\n",
    "ax1.set_xlabel('T Python (K)')\n",
    "ax1.set_ylabel('T Put (K)')\n",
    "ax2.plot(T_py, T_py-T_Put, 'ok')\n",
    "ax2.set_ylabel('T Python - T Put')\n",
    "plt.subplots_adjust(left=0.125, bottom=None, right=0.9, top=None, wspace=0.5, hspace=None)"
   ]
  },
  {
   "cell_type": "markdown",
   "metadata": {},
   "source": [
    "## Testing Beattie 1993 with Herzberg correction"
   ]
  },
  {
   "cell_type": "code",
   "execution_count": null,
   "metadata": {},
   "outputs": [],
   "source": [
    "T_Put=my_input['P_S_Beatt93_UsingOlivine_HerzCorr'] \n",
    "T_pyf=pt.calculate_ol_liq_temp(liq_comps=myLiquids1, ol_comps=myOls1,  equationT=\"T_Beatt93_ol_HerzCorr\", \n",
    "                               P=10*my_input['P_GPa'])\n",
    "fig, ((ax1, ax2)) = plt.subplots(1, 2, figsize=(12, 5))\n",
    "T_py=T_pyf['T_K_calc']-273.15\n",
    "#plotting 1:1 line\n",
    "ax1.plot([np.min(T_Put), np.max(T_Put)], [np.min(T_Put), np.max(T_Put)], '-r')\n",
    "ax1.plot(T_py, T_Put, 'ok')\n",
    "ax1.set_xlabel('T Python (K)')\n",
    "ax1.set_ylabel('T Put (K)')\n",
    "ax2.plot(T_py, T_py-T_Put, 'ok')\n",
    "ax2.set_ylabel('T Python - T Put')\n",
    "plt.subplots_adjust(left=0.125, bottom=None, right=0.9, top=None, wspace=0.5, hspace=None)"
   ]
  },
  {
   "cell_type": "markdown",
   "metadata": {},
   "source": [
    "## Testing Equation 22"
   ]
  },
  {
   "cell_type": "code",
   "execution_count": null,
   "metadata": {},
   "outputs": [],
   "source": [
    "Teq22y=pt.calculate_ol_liq_temp(liq_comps=myLiquids1, ol_comps=myOls1,  \n",
    "                               equationT=\"T_Put2008_eq22\", P=10*my_input['P_GPa'])-273.16\n",
    "Teq22=Teq22y['T_K_calc']\n",
    "fig, (ax1, ax2) = plt.subplots(1, 2, figsize=(10, 5))\n",
    "ax1.plot((np.min(my_input.P_S_Eq22), np.max(my_input.P_S_Eq22)), (np.min(my_input.P_S_Eq22), np.max(my_input.P_S_Eq22)), '-r')\n",
    "ax1.plot(Teq22, my_input.P_S_Eq22, 'ok')\n",
    "ax2.plot(Teq22, Teq22-my_input.P_S_Eq22, 'ok')\n",
    "ax1.set_xlabel('Python T (°C)')\n",
    "ax1.set_ylabel('Putirka Spreadsheet T (°C)')\n",
    "ax2.set_xlabel('Python T (°C)')\n",
    "ax2.set_ylabel('Python/Putirka Spreadsheet')\n",
    "plt.subplots_adjust(left=0.125, bottom=None, right=0.9, top=None, wspace=0.9, hspace=None)"
   ]
  },
  {
   "cell_type": "markdown",
   "metadata": {},
   "source": [
    "### Testing Equation 21"
   ]
  },
  {
   "cell_type": "code",
   "execution_count": null,
   "metadata": {},
   "outputs": [],
   "source": [
    "Teq21y=pt.calculate_ol_liq_temp(liq_comps=myLiquids1, ol_comps=myOls1,  equationT=\"T_Put2008_eq21\", \n",
    "                               P=10*my_input['P_GPa'])-273.16\n",
    "Teq21=Teq21y['T_K_calc']\n",
    "fig, (ax1, ax2) = plt.subplots(1, 2, figsize=(10, 5))\n",
    "ax1.plot((np.min(my_input.P_S_Eq21), np.max(my_input.P_S_Eq21)), (np.min(my_input.P_S_Eq21), np.max(my_input.P_S_Eq21)), '-r')\n",
    "ax1.plot(Teq21, my_input.P_S_Eq21, 'ok')\n",
    "ax2.plot(Teq21, Teq21-my_input.P_S_Eq21, 'ok')\n",
    "ax1.set_xlabel('Python T (°C)')\n",
    "ax1.set_ylabel('Putirka Spreadsheet T (°C)')\n",
    "ax2.set_xlabel('Python T (°C)')\n",
    "ax2.set_ylabel('Python/Putirka Spreadsheet')\n",
    "plt.subplots_adjust(left=0.125, bottom=None, right=0.9, top=None, wspace=0.9, hspace=None)"
   ]
  },
  {
   "cell_type": "markdown",
   "metadata": {},
   "source": [
    "## Testing Sisson and Grove"
   ]
  },
  {
   "cell_type": "code",
   "execution_count": null,
   "metadata": {},
   "outputs": [],
   "source": [
    "TSG_1992y=pt.calculate_ol_liq_temp(liq_comps=myLiquids1, ol_comps=myOls1,  \n",
    "                                  equationT=\"T_Sisson1992\", P=10*my_input['P_GPa'])-273.15\n",
    "TSG_1992=TSG_1992y['T_K_calc']\n",
    "fig, (ax1, ax2) = plt.subplots(1, 2, figsize=(10, 5))\n",
    "ax1.plot((np.min(my_input.P_S_SissonGrove1992), np.max(my_input.P_S_SissonGrove1992)), (np.min(my_input.P_S_SissonGrove1992), np.max(my_input.P_S_SissonGrove1992)), '-r')\n",
    "ax1.plot(TSG_1992, my_input.P_S_SissonGrove1992, 'ok')\n",
    "ax2.plot(TSG_1992, TSG_1992-my_input.P_S_SissonGrove1992, 'ok')\n",
    "ax1.set_xlabel('Python T (°C)')\n",
    "ax1.set_ylabel('Putirka Spreadsheet T (°C)')\n",
    "ax2.set_xlabel('Python T (°C)')\n",
    "ax2.set_ylabel('Python-Putirka Spreadsheet')\n",
    "plt.subplots_adjust(left=0.125, bottom=None, right=0.9, top=None, wspace=0.4, hspace=None)"
   ]
  },
  {
   "cell_type": "markdown",
   "metadata": {},
   "source": [
    "## Ni thermometer of Pu et al. 2017"
   ]
  },
  {
   "cell_type": "code",
   "execution_count": null,
   "metadata": {},
   "outputs": [],
   "source": [
    "out=pt.import_excel('PythonInput_OlLiq_Thermometers_Putirka.xlsx', sheet_name=\"Pu2017_2021_NiThermometers\")\n",
    "my_input=out['my_input']\n",
    "myOls2=out['Ols']\n",
    "myLiquids2=out['Liqs']"
   ]
  },
  {
   "cell_type": "code",
   "execution_count": null,
   "metadata": {},
   "outputs": [],
   "source": [
    "T_pyy=pt.calculate_ol_liq_temp(liq_comps=myLiquids2, ol_comps=myOls2, equationT=\"T_Pu2017\")-273.15\n",
    "T_py=T_pyy['T_K_calc']\n",
    "T_Put=my_input['Temp_2017Calculator'] \n",
    "fig, ((ax1, ax2)) = plt.subplots(1, 2, figsize=(12, 5))\n",
    "#plotting 1:1 line\n",
    "ax1.plot([np.min(T_Put), np.max(T_Put)], [np.min(T_Put), np.max(T_Put)], '-r')\n",
    "ax1.plot(T_py, T_Put, 'ok')\n",
    "ax1.set_xlabel('T Python (K)')\n",
    "ax1.set_ylabel('T Put (K)')\n",
    "ax2.plot(T_py, T_py/T_Put, 'ok')\n",
    "ax2.set_ylabel('T Python/T Put')\n",
    "plt.subplots_adjust(left=0.125, bottom=None, right=0.9, top=None, wspace=0.5, hspace=None)"
   ]
  },
  {
   "cell_type": "code",
   "execution_count": null,
   "metadata": {},
   "outputs": [],
   "source": []
  },
  {
   "cell_type": "code",
   "execution_count": null,
   "metadata": {},
   "outputs": [],
   "source": []
  },
  {
   "cell_type": "code",
   "execution_count": null,
   "metadata": {},
   "outputs": [],
   "source": []
  }
 ],
 "metadata": {
  "kernelspec": {
   "display_name": "Python 3",
   "language": "python",
   "name": "python3"
  },
  "language_info": {
   "codemirror_mode": {
    "name": "ipython",
    "version": 3
   },
   "file_extension": ".py",
   "mimetype": "text/x-python",
   "name": "python",
   "nbconvert_exporter": "python",
   "pygments_lexer": "ipython3",
   "version": "3.11.5"
  },
  "toc": {
   "base_numbering": 1,
   "nav_menu": {},
   "number_sections": true,
   "sideBar": true,
   "skip_h1_title": false,
   "title_cell": "Table of Contents",
   "title_sidebar": "Contents",
   "toc_cell": false,
   "toc_position": {},
   "toc_section_display": true,
   "toc_window_display": false
  },
  "varInspector": {
   "cols": {
    "lenName": 16,
    "lenType": 16,
    "lenVar": 40
   },
   "kernels_config": {
    "python": {
     "delete_cmd_postfix": "",
     "delete_cmd_prefix": "del ",
     "library": "var_list.py",
     "varRefreshCmd": "print(var_dic_list())"
    },
    "r": {
     "delete_cmd_postfix": ") ",
     "delete_cmd_prefix": "rm(",
     "library": "var_list.r",
     "varRefreshCmd": "cat(var_dic_list()) "
    }
   },
   "types_to_exclude": [
    "module",
    "function",
    "builtin_function_or_method",
    "instance",
    "_Feature"
   ],
   "window_display": false
  }
 },
 "nbformat": 4,
 "nbformat_minor": 4
}
